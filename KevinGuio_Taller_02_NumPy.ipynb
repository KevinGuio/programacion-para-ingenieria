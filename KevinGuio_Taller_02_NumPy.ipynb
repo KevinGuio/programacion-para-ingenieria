{
  "nbformat": 4,
  "nbformat_minor": 0,
  "metadata": {
    "colab": {
      "provenance": [],
      "include_colab_link": true
    },
    "kernelspec": {
      "name": "python3",
      "display_name": "Python 3"
    }
  },
  "cells": [
    {
      "cell_type": "markdown",
      "metadata": {
        "id": "view-in-github",
        "colab_type": "text"
      },
      "source": [
        "<a href=\"https://colab.research.google.com/github/KevinGuio/programacion-para-ingenieria/blob/main/KevinGuio_Taller_02_NumPy.ipynb\" target=\"_parent\"><img src=\"https://colab.research.google.com/assets/colab-badge.svg\" alt=\"Open In Colab\"/></a>"
      ]
    },
    {
      "cell_type": "markdown",
      "source": [
        "## *«Un viaje de diez mil kilómetros empieza por un solo paso».*\n",
        "### Proverbio chino"
      ],
      "metadata": {
        "id": "bDjqO634RdpU"
      }
    },
    {
      "cell_type": "markdown",
      "metadata": {
        "id": "mCkyuX8p2SYu"
      },
      "source": [
        "# Taller 02 NumPy\n",
        "En este taller aprenderá los conceptos básicos de Python 3 relativos a la librería NumPy.\n",
        "\n",
        "NumPy  **no es una librería nativa** de Python por lo que **requiere ser instalada antes de ser invocada**. Sin embargo, esta librería sí está preinstalada en Google Colaboratory por lo que basta invocarla para poder usar sus funcionalidades.\n",
        "\n",
        "Puede consultar mayor información en: [NumPy](https://numpy.org/)"
      ]
    },
    {
      "cell_type": "markdown",
      "source": [
        "# Referencias\n",
        "\n",
        "Este taller se basa en información e ideas recopiladas de las siguientes fuentes:\n",
        "\n",
        "*   [NumPy documentation](https://numpy.org/doc/stable/)\n",
        "*   [NumPy user guide](https://numpy.org/doc/stable/user/index.html#user)\n",
        "*   [NumPy Reference](https://docs.scipy.org/doc/numpy-1.10.1/reference/index.html)\n",
        "*   [NumPy in Python](https://www.geeksforgeeks.org/numpy-in-python-set-1-introduction/?ref=gcse)\n",
        "*   [Learn NumPy Library In Python – Complete Guide](https://thispointer.com/numpy-array-tutorials/)\n",
        "*   [Python NumPy – Practice Exercises, Questions, and Solutions](https://www.geeksforgeeks.org/python-numpy-practice-exercises-questions-and-solutions/)\n",
        "*   [Python Programming And Numerical Methods: A Guide For Engineers And Scientists](https://pythonnumericalmethods.berkeley.edu/notebooks/Index.html)\n",
        "*   [From Python to Numpy](https://www.labri.fr/perso/nrougier/from-python-to-numpy/)\n",
        "*   [Learn NumPy : NumPy 50 exercises and solution](https://www.kaggle.com/code/themlphdstudent/learn-numpy-numpy-50-exercises-and-solution)\n",
        "*   [Problem solving with Python: Review questions](https://problemsolvingwithpython.com/05-NumPy-and-Arrays/05.10-Review-Questions/)\n",
        "*   [Learn NumPy Library In Python – Complete Guide](https://thispointer.com/numpy-array-tutorials/)\n",
        "\n"
      ],
      "metadata": {
        "id": "FTDh-4lycSo8"
      }
    },
    {
      "cell_type": "markdown",
      "metadata": {
        "id": "fhnQch6FnlxK"
      },
      "source": [
        "# NumPy\n",
        "\n",
        "La librería [NumPy](https://numpy.org/) facilita las cosas al trabajar con grandes volúmenes de datos en Python 3."
      ]
    },
    {
      "cell_type": "markdown",
      "metadata": {
        "id": "vPfKP832v1lI"
      },
      "source": [
        "### Crear un arreglo unidimensional\n"
      ]
    },
    {
      "cell_type": "code",
      "metadata": {
        "id": "mOgOJmG7wAl9",
        "colab": {
          "base_uri": "https://localhost:8080/"
        },
        "outputId": "facd673a-0702-4ddb-93bb-c96c64948e66"
      },
      "source": [
        "# Importar la librería NumPy bajo el nombre de 'np'\n",
        "import numpy as np\n",
        "\n",
        "# Conocer la versión instalada de NumPy\n",
        "print(\"La versión instalada de NumPy es: \", np.__version__,\"\\n\")\n",
        "\n",
        "# Crear un arreglo de una fila y una columna en NumPy\n",
        "'''importante: los paréntesis corresponden a la función que está siendo invocada,\n",
        "y los corchetes al objeto que está siendo creado.'''\n",
        "ejemplo_0 = np.array([1,2,3])\n",
        "\n",
        "print (f\"Este es el arreglo ejemplo_0: {ejemplo_0}\\n\")\n",
        "print (f\"Esta es la última posición del arreglo ejemplo_0:  {ejemplo_0[2]} \\n\")\n",
        "print(f\"Este es el tipo de ejemplo_0: {type(ejemplo_0)}\")\n",
        "\n",
        "# Obtener información sobre np.array por medio de la función help()\n",
        "help(np.array)"
      ],
      "execution_count": null,
      "outputs": [
        {
          "output_type": "stream",
          "name": "stdout",
          "text": [
            "La versión instalada de NumPy es:  1.26.4 \n",
            "\n",
            "Este es el arreglo ejemplo_0: [1 2 3]\n",
            "\n",
            "Esta es la última posición del arreglo ejemplo_0:  3 \n",
            "\n",
            "Este es el tipo de ejemplo_0: <class 'numpy.ndarray'>\n",
            "Help on built-in function array in module numpy:\n",
            "\n",
            "array(...)\n",
            "    array(object, dtype=None, *, copy=True, order='K', subok=False, ndmin=0,\n",
            "          like=None)\n",
            "    \n",
            "    Create an array.\n",
            "    \n",
            "    Parameters\n",
            "    ----------\n",
            "    object : array_like\n",
            "        An array, any object exposing the array interface, an object whose\n",
            "        ``__array__`` method returns an array, or any (nested) sequence.\n",
            "        If object is a scalar, a 0-dimensional array containing object is\n",
            "        returned.\n",
            "    dtype : data-type, optional\n",
            "        The desired data-type for the array. If not given, NumPy will try to use\n",
            "        a default ``dtype`` that can represent the values (by applying promotion\n",
            "        rules when necessary.)\n",
            "    copy : bool, optional\n",
            "        If true (default), then the object is copied.  Otherwise, a copy will\n",
            "        only be made if ``__array__`` returns a copy, if obj is a nested\n",
            "        sequence, or if a copy is needed to satisfy any of the other\n",
            "        requirements (``dtype``, ``order``, etc.).\n",
            "    order : {'K', 'A', 'C', 'F'}, optional\n",
            "        Specify the memory layout of the array. If object is not an array, the\n",
            "        newly created array will be in C order (row major) unless 'F' is\n",
            "        specified, in which case it will be in Fortran order (column major).\n",
            "        If object is an array the following holds.\n",
            "    \n",
            "        ===== ========= ===================================================\n",
            "        order  no copy                     copy=True\n",
            "        ===== ========= ===================================================\n",
            "        'K'   unchanged F & C order preserved, otherwise most similar order\n",
            "        'A'   unchanged F order if input is F and not C, otherwise C order\n",
            "        'C'   C order   C order\n",
            "        'F'   F order   F order\n",
            "        ===== ========= ===================================================\n",
            "    \n",
            "        When ``copy=False`` and a copy is made for other reasons, the result is\n",
            "        the same as if ``copy=True``, with some exceptions for 'A', see the\n",
            "        Notes section. The default order is 'K'.\n",
            "    subok : bool, optional\n",
            "        If True, then sub-classes will be passed-through, otherwise\n",
            "        the returned array will be forced to be a base-class array (default).\n",
            "    ndmin : int, optional\n",
            "        Specifies the minimum number of dimensions that the resulting\n",
            "        array should have.  Ones will be prepended to the shape as\n",
            "        needed to meet this requirement.\n",
            "    like : array_like, optional\n",
            "        Reference object to allow the creation of arrays which are not\n",
            "        NumPy arrays. If an array-like passed in as ``like`` supports\n",
            "        the ``__array_function__`` protocol, the result will be defined\n",
            "        by it. In this case, it ensures the creation of an array object\n",
            "        compatible with that passed in via this argument.\n",
            "    \n",
            "        .. versionadded:: 1.20.0\n",
            "    \n",
            "    Returns\n",
            "    -------\n",
            "    out : ndarray\n",
            "        An array object satisfying the specified requirements.\n",
            "    \n",
            "    See Also\n",
            "    --------\n",
            "    empty_like : Return an empty array with shape and type of input.\n",
            "    ones_like : Return an array of ones with shape and type of input.\n",
            "    zeros_like : Return an array of zeros with shape and type of input.\n",
            "    full_like : Return a new array with shape of input filled with value.\n",
            "    empty : Return a new uninitialized array.\n",
            "    ones : Return a new array setting values to one.\n",
            "    zeros : Return a new array setting values to zero.\n",
            "    full : Return a new array of given shape filled with value.\n",
            "    \n",
            "    \n",
            "    Notes\n",
            "    -----\n",
            "    When order is 'A' and ``object`` is an array in neither 'C' nor 'F' order,\n",
            "    and a copy is forced by a change in dtype, then the order of the result is\n",
            "    not necessarily 'C' as expected. This is likely a bug.\n",
            "    \n",
            "    Examples\n",
            "    --------\n",
            "    >>> np.array([1, 2, 3])\n",
            "    array([1, 2, 3])\n",
            "    \n",
            "    Upcasting:\n",
            "    \n",
            "    >>> np.array([1, 2, 3.0])\n",
            "    array([ 1.,  2.,  3.])\n",
            "    \n",
            "    More than one dimension:\n",
            "    \n",
            "    >>> np.array([[1, 2], [3, 4]])\n",
            "    array([[1, 2],\n",
            "           [3, 4]])\n",
            "    \n",
            "    Minimum dimensions 2:\n",
            "    \n",
            "    >>> np.array([1, 2, 3], ndmin=2)\n",
            "    array([[1, 2, 3]])\n",
            "    \n",
            "    Type provided:\n",
            "    \n",
            "    >>> np.array([1, 2, 3], dtype=complex)\n",
            "    array([ 1.+0.j,  2.+0.j,  3.+0.j])\n",
            "    \n",
            "    Data-type consisting of more than one element:\n",
            "    \n",
            "    >>> x = np.array([(1,2),(3,4)],dtype=[('a','<i4'),('b','<i4')])\n",
            "    >>> x['a']\n",
            "    array([1, 3])\n",
            "    \n",
            "    Creating an array from sub-classes:\n",
            "    \n",
            "    >>> np.array(np.mat('1 2; 3 4'))\n",
            "    array([[1, 2],\n",
            "           [3, 4]])\n",
            "    \n",
            "    >>> np.array(np.mat('1 2; 3 4'), subok=True)\n",
            "    matrix([[1, 2],\n",
            "            [3, 4]])\n",
            "\n"
          ]
        }
      ]
    },
    {
      "cell_type": "markdown",
      "metadata": {
        "id": "nOwQMTsfxGFL"
      },
      "source": [
        "### Crear un arreglo de dos dimensiones"
      ]
    },
    {
      "cell_type": "code",
      "metadata": {
        "id": "z_HxGQhcxL2x",
        "colab": {
          "base_uri": "https://localhost:8080/"
        },
        "outputId": "8cb8faeb-3b40-41a5-cf43-0174f020a9da"
      },
      "source": [
        "# Importar la librería NumPy bajo el nombre de 'np'\n",
        "import numpy as np\n",
        "\n",
        "# Crear un arreglo de tres filas y cuatro columnas en NumPy\n",
        "ejemplo_1 = np.array([[2,6,2, 5], [8, 3, 7, 3], [5, 8, 1, 2]])\n",
        "\n",
        "print (f\"Este es el arreglo ejemplo_1: \\n {ejemplo_1}\\n\")\n",
        "print (f\"Esta es la última fila del arreglo ejemplo_1:{ejemplo_1[2]} \\n\")\n",
        "print (f\"Esta es la última posición de la última fila del arreglo ejemplo_1: {ejemplo_1[2,3]} \\n\")\n",
        "print(f\"Este es el tipo de ejemplo_1: {type(ejemplo_1)}\")\n"
      ],
      "execution_count": null,
      "outputs": [
        {
          "output_type": "stream",
          "name": "stdout",
          "text": [
            "Este es el arreglo ejemplo_1: \n",
            " [[2 6 2 5]\n",
            " [8 3 7 3]\n",
            " [5 8 1 2]]\n",
            "\n",
            "Esta es la última fila del arreglo ejemplo_1:[5 8 1 2] \n",
            "\n",
            "Esta es la última posición de la última fila del arreglo ejemplo_1: 2 \n",
            "\n",
            "Este es el tipo de ejemplo_1: <class 'numpy.ndarray'>\n"
          ]
        }
      ]
    },
    {
      "cell_type": "markdown",
      "metadata": {
        "id": "GT7FFuwGyveN"
      },
      "source": [
        "### Atributos de un arreglo de NumPy"
      ]
    },
    {
      "cell_type": "code",
      "metadata": {
        "id": "KzJ5zY6ty0e8",
        "colab": {
          "base_uri": "https://localhost:8080/"
        },
        "outputId": "a109eb84-ff4a-4463-f585-a9eaeb72b17c"
      },
      "source": [
        "# Importar la librería NumPy bajo el nombre de 'np'\n",
        "import numpy as np\n",
        "\n",
        "# Crear un arreglo de tres filas y cuatro columnas en NumPy\n",
        "ejemplo_2 = np.array([[2,6,2, 5], [8, 3, 7, 3], [5, 8, 1, 2]])\n",
        "print (f\"Esta es el arreglo ejemplo_2: \\n {ejemplo_2} \\n\")\n",
        "\n",
        "print (f\"La forma del arreglo ejemplo_2 es: {ejemplo_2.shape} \\n\")\n",
        "\n",
        "print (f\"La dimensión del arreglo ejemplo_2 es: {ejemplo_2.ndim} \\n\")\n",
        "\n",
        "print (f\"El arreglo ejemplo_2 tiene {ejemplo_2.shape[0]} \\\n",
        "filas y {ejemplo_2.shape[1]} columnas.\")"
      ],
      "execution_count": null,
      "outputs": [
        {
          "output_type": "stream",
          "name": "stdout",
          "text": [
            "Esta es el arreglo ejemplo_2: \n",
            " [[2 6 2 5]\n",
            " [8 3 7 3]\n",
            " [5 8 1 2]] \n",
            "\n",
            "La forma del arreglo ejemplo_2 es: (3, 4) \n",
            "\n",
            "La dimensión del arreglo ejemplo_2 es: 2 \n",
            "\n",
            "El arreglo ejemplo_2 tiene 3 filas y 4 columnas.\n"
          ]
        }
      ]
    },
    {
      "cell_type": "markdown",
      "metadata": {
        "id": "eoJ-_SJM1TVK"
      },
      "source": [
        "### Cambiar la forma de un arreglo en NumPy"
      ]
    },
    {
      "cell_type": "code",
      "metadata": {
        "id": "PCIuc7wn1diu",
        "colab": {
          "base_uri": "https://localhost:8080/"
        },
        "outputId": "f714f361-64cb-43b5-e303-f99c70041387"
      },
      "source": [
        "# Importar la librería NumPy bajo el nombre de 'np'\n",
        "import numpy as np\n",
        "\n",
        "# Crear un arreglo de tres filas y cuatro columnas en NumPy\n",
        "ejemplo_3 = np.array([[2,6,2, 5], [8, 3, 7, 3], [5, 8, 1, 2]])\n",
        "print (f\"Esta es el arreglo ejemplo_3: \\n {ejemplo_3}\")\n",
        "\n",
        "print (f\"La forma del arreglo ejemplo_3 es: {ejemplo_3.shape} \\n\")\n",
        "\n",
        "# Modificar la forma de un arreglo en NumPy\n",
        "ejemplo_3.shape = (6,2)\n",
        "\n",
        "# ejemplo_3.shape =(2,6)\n",
        "# ejemplo_3.shape =(1,12)\n",
        "\n",
        "print (f\"Esta es el arreglo ejemplo_3 modificado:\\n {ejemplo_3} \\n\")\n",
        "\n",
        "print(ejemplo_3[0,1])\n",
        "\n",
        "# print(ejemplo_3[1,4])"
      ],
      "execution_count": null,
      "outputs": [
        {
          "output_type": "stream",
          "name": "stdout",
          "text": [
            "Esta es el arreglo ejemplo_3: \n",
            " [[2 6 2 5]\n",
            " [8 3 7 3]\n",
            " [5 8 1 2]]\n",
            "La forma del arreglo ejemplo_3 es: (3, 4) \n",
            "\n",
            "Esta es el arreglo ejemplo_3 modificado:\n",
            " [[2 6]\n",
            " [2 5]\n",
            " [8 3]\n",
            " [7 3]\n",
            " [5 8]\n",
            " [1 2]] \n",
            "\n",
            "6\n"
          ]
        }
      ]
    },
    {
      "cell_type": "markdown",
      "metadata": {
        "id": "8VqifPnzyMwO"
      },
      "source": [
        "### Crear arreglos especiales en NumPy"
      ]
    },
    {
      "cell_type": "code",
      "metadata": {
        "id": "20rAG6ONnlxL",
        "colab": {
          "base_uri": "https://localhost:8080/"
        },
        "outputId": "6e7a53d4-53cc-42e7-8ca7-b229c4ba6c2b"
      },
      "source": [
        "# Importar la librería NumPy bajo el nombre de 'np'\n",
        "import numpy as np\n",
        "\n",
        "# Crear un arreglo de longitud 5 con todas las posiciones iguales a cero\n",
        "a1= np.zeros(5, dtype=int)\n",
        "print (\"Arreglo de longitud cinco con todas las posiciones iguales a cero: \\n\", a1, \"\\n\")\n",
        "\n",
        "# Crear una arreglo de dimensión 4x3 con todas las posiciones iguales a uno\n",
        "a2 = np.ones((4, 3), dtype=float)\n",
        "print (\"Arreglo de  dimensión 4x3 con todas las posiciones iguales a uno: \\n\", a2, \"\\n\")\n",
        "\n",
        "# Crear una arreglo de dimensión 4x5 con todas las posiciones iguales a 13\n",
        "a3 = np.full((4, 5), 13)\n",
        "print (\"Arreglo de de dimensión 4x5 con todas las posiciones iguales a 13: \\n\", a3, \"\\n\")\n",
        "\n",
        "# Crear una arreglo de dimensión 2x2 con todas las posiciones iguales a números\n",
        "# aleatorios  generados por una distribución normal de media igual a cero\n",
        "# y desviación estándar igual a 1\n",
        "a4 = np.random.normal(0, 1, (2, 2))\n",
        "print (\"Arreglo de dimensión 2x2 con todas las posiciones iguales a números\\\n",
        " aleatorios  generados por una distribución normal de media igual a cero y \\\n",
        " desviación estándar igual a 1: \\n\", a4, \"\\n\")\n",
        "\n",
        "# Crear un arreglo de dimensión 4x4 con todas las posiciones iguales a números\n",
        "# aleatorios enteros en el intervalo (50,100) generados por una distribución\n",
        "# uniforme\n",
        "a5 = np.random.randint(50, 100, (4, 4))\n",
        "print (\"Arreglo de dimensión 4x4 con todas las posiciones iguales a números\\\n",
        " aleatorios en el intervalo (50,100) generados por una distribución uniforme: \\\n",
        " \\n\", a5, \"\\n\")\n",
        "\n",
        "# Crear una matriz identidad de dimensión 5x5\n",
        "a6= np.identity(5)\n",
        "print (\"Matriz identidad de dimensión 5x5: \\n\", a6, \"\\n\")\n",
        "\n",
        "# Crear un arreglo de booleanos de dimensión 3x3\n",
        "a7= np.full((3,3), True, dtype=bool)\n",
        "print (\"Arreglo de booleanos de dimensión 3x3: \\n\", a7, \"\\n\")"
      ],
      "execution_count": null,
      "outputs": [
        {
          "output_type": "stream",
          "name": "stdout",
          "text": [
            "Arreglo de longitud cinco con todas las posiciones iguales a cero: \n",
            " [0 0 0 0 0] \n",
            "\n",
            "Arreglo de  dimensión 4x3 con todas las posiciones iguales a uno: \n",
            " [[1. 1. 1.]\n",
            " [1. 1. 1.]\n",
            " [1. 1. 1.]\n",
            " [1. 1. 1.]] \n",
            "\n",
            "Arreglo de de dimensión 4x5 con todas las posiciones iguales a 13: \n",
            " [[13 13 13 13 13]\n",
            " [13 13 13 13 13]\n",
            " [13 13 13 13 13]\n",
            " [13 13 13 13 13]] \n",
            "\n",
            "Arreglo de dimensión 2x2 con todas las posiciones iguales a números aleatorios  generados por una distribución normal de media igual a cero y  desviación estándar igual a 1: \n",
            " [[ 0.35389831 -0.11128277]\n",
            " [-1.19379324 -0.17684806]] \n",
            "\n",
            "Arreglo de dimensión 4x4 con todas las posiciones iguales a números aleatorios en el intervalo (50,100) generados por una distribución uniforme:  \n",
            " [[79 81 71 55]\n",
            " [92 93 91 83]\n",
            " [53 90 74 87]\n",
            " [55 50 93 81]] \n",
            "\n",
            "Matriz identidad de dimensión 5x5: \n",
            " [[1. 0. 0. 0. 0.]\n",
            " [0. 1. 0. 0. 0.]\n",
            " [0. 0. 1. 0. 0.]\n",
            " [0. 0. 0. 1. 0.]\n",
            " [0. 0. 0. 0. 1.]] \n",
            "\n",
            "Arreglo de booleanos de dimensión 3x3: \n",
            " [[ True  True  True]\n",
            " [ True  True  True]\n",
            " [ True  True  True]] \n",
            "\n"
          ]
        }
      ]
    },
    {
      "cell_type": "markdown",
      "metadata": {
        "id": "CJOrRBf9nlxV"
      },
      "source": [
        "### Transformaciones de un arreglo con NumPy"
      ]
    },
    {
      "cell_type": "code",
      "metadata": {
        "id": "oJj_vrFbnlxW",
        "colab": {
          "base_uri": "https://localhost:8080/"
        },
        "outputId": "d5ca7e9a-462b-43e4-d3e5-de0a814dc482"
      },
      "source": [
        "# Importar la librería NumPy bajo el nombre de 'np'\n",
        "import numpy as np\n",
        "\n",
        "# Crear un arreglo de tres filas y tres columnas\n",
        "A2 = np.array([[4, 6, 2], [7, 2, 1], [1, 2, -2]])\n",
        "print (\"Esta es el arreglo A2: \\n\", A2, \"\\n\")\n",
        "\n",
        "print(\"Transpuesta de A2:\\n\", A2.T, \"\\n\")\n",
        "\n",
        "print(\"Triangular superior de A2:\\n\", np.triu(A2), \"\\n\")\n",
        "\n",
        "print(\"Maximo valor en A2:\\n\", A2.max(), \"\\n\")\n",
        "\n",
        "print (\"La suma de los elementos de A2 es: \\n\", A2.sum(), \"\\n\")"
      ],
      "execution_count": null,
      "outputs": [
        {
          "output_type": "stream",
          "name": "stdout",
          "text": [
            "Esta es el arreglo A2: \n",
            " [[ 4  6  2]\n",
            " [ 7  2  1]\n",
            " [ 1  2 -2]] \n",
            "\n",
            "Transpuesta de A2:\n",
            " [[ 4  7  1]\n",
            " [ 6  2  2]\n",
            " [ 2  1 -2]] \n",
            "\n",
            "Triangular superior de A2:\n",
            " [[ 4  6  2]\n",
            " [ 0  2  1]\n",
            " [ 0  0 -2]] \n",
            "\n",
            "Maximo valor en A2:\n",
            " 7 \n",
            "\n",
            "La suma de los elementos de A2 es: \n",
            " 23 \n",
            "\n"
          ]
        }
      ]
    },
    {
      "cell_type": "markdown",
      "metadata": {
        "id": "rc26ZhB5nlxR"
      },
      "source": [
        "### Operaciones con arreglos utilizando NumPy\n",
        "\n",
        "A continuación se presenta la forma de realizar las operaciones básicas con arreglos utilizando NumPy.\n",
        "\n",
        "**Nota:**\n",
        "\n",
        "Un array de NumPy puede tener «N» dimensiones."
      ]
    },
    {
      "cell_type": "code",
      "metadata": {
        "id": "bqUt4Jk3nlxT",
        "colab": {
          "base_uri": "https://localhost:8080/"
        },
        "outputId": "c5c98a4f-1aa5-46d1-c0f8-827f2f365224"
      },
      "source": [
        "# Importar la librería NumPy bajo el nombre de 'np'\n",
        "import numpy as np\n",
        "\n",
        "A2 = np.array([[4, 6], [7, 2], [0, 2]])\n",
        "B2 = np.array([[6, 3, 2], [1, 1, 1]])\n",
        "C2 = np.array([[2, 4, 6], [1, 2, 3], [5, 7, 2], [1, 0, 2]])\n",
        "D2 = np.array([[1, 2, 1], [3, 4, 5], [6, 3, 2], [1, 1, 1]])\n",
        "\n",
        "print(f\"Multiplicación por escalar: 2*B2\\n{2 * B2}\\n\")\n",
        "\n",
        "print(f\"Suma: C2+D2\\n {C2 + D2}\\n\")\n",
        "\n",
        "print(f\"Multiplicación: A2*B2\\n{A2@B2}\\n\")\n",
        "\n",
        "#print(f\"Multiplicación: A2*C2\\n{A2*C2}\\n\")"
      ],
      "execution_count": null,
      "outputs": [
        {
          "output_type": "stream",
          "name": "stdout",
          "text": [
            "Multiplicación por escalar: 2*B2\n",
            "[[12  6  4]\n",
            " [ 2  2  2]]\n",
            "\n",
            "Suma: C2+D2\n",
            " [[ 3  6  7]\n",
            " [ 4  6  8]\n",
            " [11 10  4]\n",
            " [ 2  1  3]]\n",
            "\n",
            "Multiplicación: A2*B2\n",
            "[[30 18 14]\n",
            " [44 23 16]\n",
            " [ 2  2  2]]\n",
            "\n"
          ]
        }
      ]
    },
    {
      "cell_type": "markdown",
      "source": [
        "### Seleccionar elementos que cumplan una determinada característica"
      ],
      "metadata": {
        "id": "DDurE6R_hyrI"
      }
    },
    {
      "cell_type": "code",
      "source": [
        "# importar la librería NumPy bajo el nombre de 'np'\n",
        "import numpy as np\n",
        "\n",
        "# Crear el arreglo\n",
        "arr_1 = np.array([0, 1, 2, 3, 4, 5, 6, 7, 8, 9])\n",
        "\n",
        "# Mostrar el arreglo 1\n",
        "print(f\"El arreglo arr_1 es:\\n{arr_1}\\n\")\n",
        "\n",
        "# Extraer todos los números impares de un arreglo\n",
        "z=arr_1[arr_1%2 == 1]\n",
        "\n",
        "# Mostrar el resultado\n",
        "print(f\"Los números impares de arr_1 son:\\n{z}\\n\")\n",
        "\n",
        "# Reemplazar los números de un arreglo que cumplen una condición\n",
        "arr_1[arr_1%2 == 0] = 22\n",
        "\n",
        "# Mostrar el resultado\n",
        "print(f\"El resultado de reemplazar los números pares de arr_1 por 22:\\n{arr_1}\\n\")\n",
        "\n",
        "# Reemplazar los números de un arreglo que cumplen una condición SIN afectar el arreglo original\n",
        "original = np.arange(15)\n",
        "\n",
        "# Crear una copia del arreglo original\n",
        "nuevo = original.copy()\n",
        "\n",
        "# Reemplazar los números de un arreglo que cumplen una condición\n",
        "nuevo[nuevo%2 == 1] = 22\n",
        "\n",
        "# Mostrar el resultado\n",
        "print(f\"Arreglo original:\\n{original}\\n\")\n",
        "print(f\"Arreglo modificado:\\n{nuevo}\\n\")\n",
        "\n",
        "# Seleccionar elementos comunes a dos arreglos\n",
        "arr_2 = np.arange(10,100,5)\n",
        "arr_3 = np.arange(20)\n",
        "\n",
        "# Encontrar los elementos comunes\n",
        "comunes = np.intersect1d(arr_2,arr_3)\n",
        "\n",
        "print(f\"Los arreglos iniciales son: \\n{arr_2}\\n y {arr_3}\\n\")\n",
        "\n",
        "print(f\"Los elementos comunes son: \\n{comunes}\\n\")\n",
        "\n",
        "# Remover los elementos de un arreglo que están presentes en otro\n",
        "arr_4 = np.setdiff1d(arr_2,arr_3)\n",
        "\n",
        "print(f\"Los elementos que están en arr_2 y no están en arr_3 : \\n{arr_4}\\n\")\n",
        "\n",
        "# Encontrar las posiciones en que dos arreglos coinciden\n",
        "arr_5 = np.array([1,2,3,2,3,4,3,4,5,6])\n",
        "arr_6 = np.array([7,2,10,2,7,4,9,4,9,8])\n",
        "\n",
        "# La función np.where() permite la selección condicional y la manipulación de arreglos\n",
        "arr_7 = np.where(arr_5 == arr_6)\n",
        "\n",
        "# Mostrar resultado\n",
        "print(arr_5)\n",
        "print(arr_6)\n",
        "print(f\"Las posiciones que tienen valores comunes son : \\n{arr_7}\\n\")"
      ],
      "metadata": {
        "id": "cgORZyy1hzXq",
        "colab": {
          "base_uri": "https://localhost:8080/"
        },
        "outputId": "d0741cbf-4f78-4f61-c37d-b4475830a4fe"
      },
      "execution_count": null,
      "outputs": [
        {
          "output_type": "stream",
          "name": "stdout",
          "text": [
            "El arreglo arr_1 es:\n",
            "[0 1 2 3 4 5 6 7 8 9]\n",
            "\n",
            "Los números impares de arr_1 son:\n",
            "[1 3 5 7 9]\n",
            "\n",
            "El resultado de reemplazar los números pares de arr_1 por 22:\n",
            "[22  1 22  3 22  5 22  7 22  9]\n",
            "\n",
            "Arreglo original:\n",
            "[ 0  1  2  3  4  5  6  7  8  9 10 11 12 13 14]\n",
            "\n",
            "Arreglo modificado:\n",
            "[ 0 22  2 22  4 22  6 22  8 22 10 22 12 22 14]\n",
            "\n",
            "Los arreglos iniciales son: \n",
            "[10 15 20 25 30 35 40 45 50 55 60 65 70 75 80 85 90 95]\n",
            " y [ 0  1  2  3  4  5  6  7  8  9 10 11 12 13 14 15 16 17 18 19]\n",
            "\n",
            "Los elementos comunes son: \n",
            "[10 15]\n",
            "\n",
            "Los elementos que están en arr_2 y no están en arr_3 : \n",
            "[20 25 30 35 40 45 50 55 60 65 70 75 80 85 90 95]\n",
            "\n",
            "[1 2 3 2 3 4 3 4 5 6]\n",
            "[ 7  2 10  2  7  4  9  4  9  8]\n",
            "Las posiciones que tienen valores comunes son : \n",
            "(array([1, 3, 5, 7]),)\n",
            "\n"
          ]
        }
      ]
    },
    {
      "cell_type": "markdown",
      "source": [
        "### Unir arreglos de forma horizontal y vertical dos arreglos\n",
        "\n"
      ],
      "metadata": {
        "id": "u2KW_i-8TxS1"
      }
    },
    {
      "cell_type": "code",
      "source": [
        "# Importar la librería requerida\n",
        "import numpy as np\n",
        "\n",
        "# Crear un arreglo de dimensión 4x3 con todas las posiciones iguales a ceros enteros\n",
        "arreglo_1= np.zeros((4,3), dtype=int )\n",
        "\n",
        "# Crear una arreglo de dimensión 4x3 con todas las posiciones iguales a uno reales\n",
        "arreglo_2 = np.ones((4, 3), dtype=float)\n",
        "\n",
        "print(arreglo_1, arreglo_2, sep =\"\\n\\n\")\n",
        "\n",
        "# Juntar los dos arreglos de forma horizontal\n",
        "arreglo_horizontal = np.hstack([arreglo_1,arreglo_2])\n",
        "print(\"\\nEl resultado de unir de forma horizontal arreglo_1 y arreglo_2 es: \\n\", arreglo_horizontal, \"\\n\")\n",
        "\n",
        "# Juntas los dos arreglos de forma vertical\n",
        "arreglo_vertical = np.vstack([arreglo_1,arreglo_2])\n",
        "print(\"El resultado de unir de forma vertical arreglo_1 y arreglo_2 es: \\n\", arreglo_vertical)"
      ],
      "metadata": {
        "id": "_JBLayQcUsJh",
        "colab": {
          "base_uri": "https://localhost:8080/"
        },
        "outputId": "855441ad-42bf-4eb4-a4d5-e25775fd81f4"
      },
      "execution_count": null,
      "outputs": [
        {
          "output_type": "stream",
          "name": "stdout",
          "text": [
            "[[0 0 0]\n",
            " [0 0 0]\n",
            " [0 0 0]\n",
            " [0 0 0]]\n",
            "\n",
            "[[1. 1. 1.]\n",
            " [1. 1. 1.]\n",
            " [1. 1. 1.]\n",
            " [1. 1. 1.]]\n",
            "\n",
            "El resultado de unir de forma horizontal arreglo_1 y arreglo_2 es: \n",
            " [[0. 0. 0. 1. 1. 1.]\n",
            " [0. 0. 0. 1. 1. 1.]\n",
            " [0. 0. 0. 1. 1. 1.]\n",
            " [0. 0. 0. 1. 1. 1.]] \n",
            "\n",
            "El resultado de unir de forma vertical arreglo_1 y arreglo_2 es: \n",
            " [[0. 0. 0.]\n",
            " [0. 0. 0.]\n",
            " [0. 0. 0.]\n",
            " [0. 0. 0.]\n",
            " [1. 1. 1.]\n",
            " [1. 1. 1.]\n",
            " [1. 1. 1.]\n",
            " [1. 1. 1.]]\n"
          ]
        }
      ]
    },
    {
      "cell_type": "markdown",
      "metadata": {
        "id": "CPxzGh5O_ROA"
      },
      "source": [
        "# Aplicaciones"
      ]
    },
    {
      "cell_type": "markdown",
      "metadata": {
        "id": "ACAHDfF7JaMW"
      },
      "source": [
        "### Crear un archivo de números aleatorios racionales"
      ]
    },
    {
      "cell_type": "code",
      "metadata": {
        "id": "dv1IY7VLJfna",
        "colab": {
          "base_uri": "https://localhost:8080/",
          "height": 17
        },
        "outputId": "c8cda3bb-67d8-449c-ed46-468fbe413f1c"
      },
      "source": [
        "# Importar las librerías requeridas\n",
        "import numpy as np\n",
        "import google.colab.files as fl\n",
        "\n",
        "# Generar los números racionales y guardarlos en un archivo\n",
        "with open(\"racionales.txt\", \"w\") as numeros:\n",
        "  for i in range (50000):\n",
        "    numeros.write(str(np.random.normal(1000, 500))+\"\\n\")\n",
        "\n",
        "# Descargar el archivo en el pc\n",
        "fl.download(\"racionales.txt\")"
      ],
      "execution_count": null,
      "outputs": [
        {
          "output_type": "display_data",
          "data": {
            "text/plain": [
              "<IPython.core.display.Javascript object>"
            ],
            "application/javascript": [
              "\n",
              "    async function download(id, filename, size) {\n",
              "      if (!google.colab.kernel.accessAllowed) {\n",
              "        return;\n",
              "      }\n",
              "      const div = document.createElement('div');\n",
              "      const label = document.createElement('label');\n",
              "      label.textContent = `Downloading \"${filename}\": `;\n",
              "      div.appendChild(label);\n",
              "      const progress = document.createElement('progress');\n",
              "      progress.max = size;\n",
              "      div.appendChild(progress);\n",
              "      document.body.appendChild(div);\n",
              "\n",
              "      const buffers = [];\n",
              "      let downloaded = 0;\n",
              "\n",
              "      const channel = await google.colab.kernel.comms.open(id);\n",
              "      // Send a message to notify the kernel that we're ready.\n",
              "      channel.send({})\n",
              "\n",
              "      for await (const message of channel.messages) {\n",
              "        // Send a message to notify the kernel that we're ready.\n",
              "        channel.send({})\n",
              "        if (message.buffers) {\n",
              "          for (const buffer of message.buffers) {\n",
              "            buffers.push(buffer);\n",
              "            downloaded += buffer.byteLength;\n",
              "            progress.value = downloaded;\n",
              "          }\n",
              "        }\n",
              "      }\n",
              "      const blob = new Blob(buffers, {type: 'application/binary'});\n",
              "      const a = document.createElement('a');\n",
              "      a.href = window.URL.createObjectURL(blob);\n",
              "      a.download = filename;\n",
              "      div.appendChild(a);\n",
              "      a.click();\n",
              "      div.remove();\n",
              "    }\n",
              "  "
            ]
          },
          "metadata": {}
        },
        {
          "output_type": "display_data",
          "data": {
            "text/plain": [
              "<IPython.core.display.Javascript object>"
            ],
            "application/javascript": [
              "download(\"download_7a0f5f48-e6c8-4540-b2f6-6425d51ab3d2\", \"racionales.txt\", 920966)"
            ]
          },
          "metadata": {}
        }
      ]
    },
    {
      "cell_type": "markdown",
      "metadata": {
        "id": "Ka7_OzuKMDYW"
      },
      "source": [
        "### Crear un archivo de números aleatorios enteros"
      ]
    },
    {
      "cell_type": "code",
      "metadata": {
        "id": "eJ0KoY71MLEp",
        "colab": {
          "base_uri": "https://localhost:8080/",
          "height": 17
        },
        "outputId": "ee53ae1c-dbaf-463f-9000-50fac7fd267a"
      },
      "source": [
        "# Importar las librerías requeridas\n",
        "import numpy as np\n",
        "import google.colab.files as fl\n",
        "\n",
        "# Generar los números enteros y guardarlos en un archivo\n",
        "with open(\"enteros.txt\", \"w\") as numeros:\n",
        "  for i in range (10000):\n",
        "    # Números aleatorios enteros en el intervalo (1, 500) generados\n",
        "    #con una distribución uniforme\n",
        "    numeros.write(str(np.random.randint(1, 500))+\"\\n\")\n",
        "\n",
        "# Descargar el archivo en el pc\n",
        "fl.download(\"enteros.txt\")"
      ],
      "execution_count": null,
      "outputs": [
        {
          "output_type": "display_data",
          "data": {
            "text/plain": [
              "<IPython.core.display.Javascript object>"
            ],
            "application/javascript": [
              "\n",
              "    async function download(id, filename, size) {\n",
              "      if (!google.colab.kernel.accessAllowed) {\n",
              "        return;\n",
              "      }\n",
              "      const div = document.createElement('div');\n",
              "      const label = document.createElement('label');\n",
              "      label.textContent = `Downloading \"${filename}\": `;\n",
              "      div.appendChild(label);\n",
              "      const progress = document.createElement('progress');\n",
              "      progress.max = size;\n",
              "      div.appendChild(progress);\n",
              "      document.body.appendChild(div);\n",
              "\n",
              "      const buffers = [];\n",
              "      let downloaded = 0;\n",
              "\n",
              "      const channel = await google.colab.kernel.comms.open(id);\n",
              "      // Send a message to notify the kernel that we're ready.\n",
              "      channel.send({})\n",
              "\n",
              "      for await (const message of channel.messages) {\n",
              "        // Send a message to notify the kernel that we're ready.\n",
              "        channel.send({})\n",
              "        if (message.buffers) {\n",
              "          for (const buffer of message.buffers) {\n",
              "            buffers.push(buffer);\n",
              "            downloaded += buffer.byteLength;\n",
              "            progress.value = downloaded;\n",
              "          }\n",
              "        }\n",
              "      }\n",
              "      const blob = new Blob(buffers, {type: 'application/binary'});\n",
              "      const a = document.createElement('a');\n",
              "      a.href = window.URL.createObjectURL(blob);\n",
              "      a.download = filename;\n",
              "      div.appendChild(a);\n",
              "      a.click();\n",
              "      div.remove();\n",
              "    }\n",
              "  "
            ]
          },
          "metadata": {}
        },
        {
          "output_type": "display_data",
          "data": {
            "text/plain": [
              "<IPython.core.display.Javascript object>"
            ],
            "application/javascript": [
              "download(\"download_58eabe3b-a9df-440d-8c7c-da5023800d4d\", \"enteros.txt\", 37807)"
            ]
          },
          "metadata": {}
        }
      ]
    },
    {
      "cell_type": "markdown",
      "source": [
        "### Extraer la diagonal principal de un arreglo"
      ],
      "metadata": {
        "id": "iizfqBVwkGrh"
      }
    },
    {
      "cell_type": "code",
      "source": [
        "# Importar la librería requerida\n",
        "import numpy as np\n",
        "\n",
        "# Crear un arreglo de dimensión 8x8\n",
        "datos = np.arange(64).reshape(8, 8)\n",
        "\n",
        "# Mostrar el arreglo\n",
        "print(\"El arreglo es:\\n\", datos, \"\\n\")\n",
        "\n",
        "#Crear los índices del arreglo\n",
        "indices = np.arange(8)\n",
        "\n",
        "# Mostrar los índices del arreglo\n",
        "print(\"Los índices son:\\n\", indices, \"\\n\")\n",
        "\n",
        "# Extraer la diagonal principal del arreglo\n",
        "diagonal_ppal = datos[indices, indices]\n",
        "\n",
        "# Mostrar la diagonal principal\n",
        "print(diagonal_ppal)"
      ],
      "metadata": {
        "colab": {
          "base_uri": "https://localhost:8080/"
        },
        "id": "rzJIXAgYkPvR",
        "outputId": "45e9a4a1-5718-4db6-8188-cdd5e9bfd3bf"
      },
      "execution_count": null,
      "outputs": [
        {
          "output_type": "stream",
          "name": "stdout",
          "text": [
            "El arreglo es:\n",
            " [[ 0  1  2  3  4  5  6  7]\n",
            " [ 8  9 10 11 12 13 14 15]\n",
            " [16 17 18 19 20 21 22 23]\n",
            " [24 25 26 27 28 29 30 31]\n",
            " [32 33 34 35 36 37 38 39]\n",
            " [40 41 42 43 44 45 46 47]\n",
            " [48 49 50 51 52 53 54 55]\n",
            " [56 57 58 59 60 61 62 63]] \n",
            "\n",
            "Los índices son:\n",
            " [0 1 2 3 4 5 6 7] \n",
            "\n",
            "[ 0  9 18 27 36 45 54 63]\n"
          ]
        }
      ]
    },
    {
      "cell_type": "markdown",
      "source": [
        "### Selección de notas en un rango"
      ],
      "metadata": {
        "id": "vJq7_3SJl1Z1"
      }
    },
    {
      "cell_type": "code",
      "source": [
        "# Importar la librería requerida\n",
        "import numpy as np\n",
        "\n",
        "# Establecer una semilla para los números aleatorios\n",
        "np.random.seed(42)\n",
        "\n",
        "# Crear un arreglo con las notas de un alumno\n",
        "notas = np.random.uniform(0, 5, (1, 20))\n",
        "\n",
        "# Mostrar el arreglo con las notas\n",
        "print(notas, \"\\n\")\n",
        "\n",
        "# Encontrar las notas mayores a 2.5 y menores a 3.5\n",
        "seleccion = notas[(notas > 2.5) & (notas < 3.5)]\n",
        "\n",
        "# Mostrar las notas seleccionadas\n",
        "print(seleccion)"
      ],
      "metadata": {
        "colab": {
          "base_uri": "https://localhost:8080/"
        },
        "id": "HaQEFcgUl5_2",
        "outputId": "3854221c-ae00-443c-e1c2-47ed7f9dcd7d"
      },
      "execution_count": null,
      "outputs": [
        {
          "output_type": "stream",
          "name": "stdout",
          "text": [
            "[[1.87270059 4.75357153 3.65996971 2.99329242 0.7800932  0.7799726\n",
            "  0.29041806 4.33088073 3.00557506 3.54036289 0.10292247 4.84954926\n",
            "  4.1622132  1.06169555 0.90912484 0.91702255 1.52121121 2.62378216\n",
            "  2.15972509 1.4561457 ]] \n",
            "\n",
            "[2.99329242 3.00557506 2.62378216]\n"
          ]
        }
      ]
    },
    {
      "cell_type": "markdown",
      "source": [
        "### Seleccionar días con una temperatura específica\n"
      ],
      "metadata": {
        "id": "dYgtpZPuohbR"
      }
    },
    {
      "cell_type": "code",
      "source": [
        "# Importar la librería requerida\n",
        "import numpy as np\n",
        "\n",
        "# Crear un arreglo con las temperaturas de los días de la semana\n",
        "temperaturas = np.array([21, 23, 14, 17, 20, 28, 19])\n",
        "\n",
        "# Crear un arreglo con los nombres de los días de la semana\n",
        "dias = np.array(['lunes', 'martes', 'miércoles', 'jueves', 'viernes', 'sábado', 'domingo'])\n",
        "\n",
        "# Encontrar las temperaturas menores a 18 y mostrar los nombres de los días correspondientes\n",
        "dias_frios = dias[temperaturas < 18]\n",
        "\n",
        "# Mostrar los nombres de los dias fríos\n",
        "print(\"dias_frios son:\", dias_frios, \"\\n\")\n",
        "\n",
        "# Encontrar las temperaturas mayores a 22 y mostrar los nombres de los días correspondientes\n",
        "dias_calurosos = dias[temperaturas > 22]\n",
        "\n",
        "# Mostrar los nombres de los dias calurosos\n",
        "print(\"Los días calurosos son:\", dias_calurosos)"
      ],
      "metadata": {
        "colab": {
          "base_uri": "https://localhost:8080/"
        },
        "id": "qs3KGXgSon5N",
        "outputId": "72c90df6-5f38-4097-d971-37fc824b85ee"
      },
      "execution_count": null,
      "outputs": [
        {
          "output_type": "stream",
          "name": "stdout",
          "text": [
            "dias_frios son: ['miércoles' 'jueves'] \n",
            "\n",
            "Los días calurosos son: ['martes' 'sábado']\n"
          ]
        }
      ]
    },
    {
      "cell_type": "markdown",
      "metadata": {
        "id": "8moQtfg2_WHS"
      },
      "source": [
        "### Solución de ecuaciones\n",
        "\n",
        "Puede consultar más información en: [Linear Algebra with NumPy](https://numpy.org/doc/stable/reference/routines.linalg.html)\n",
        "\n",
        "Resolver:\n",
        "\n",
        "3x + y = 9\n",
        "\n",
        "\n",
        "x + 2y = 8"
      ]
    },
    {
      "cell_type": "code",
      "metadata": {
        "id": "clmxkQNE_bhC",
        "colab": {
          "base_uri": "https://localhost:8080/"
        },
        "outputId": "4ee21b83-a324-4ea9-b637-c7646bf4451d"
      },
      "source": [
        "# Importar la librería NumPy\n",
        "import numpy as np\n",
        "\n",
        "# Crear el arreglo a\n",
        "a = np.array([[3, 1], [1, 2]])\n",
        "\n",
        "# Crear el arreglo b\n",
        "b = np.array([9, 8])\n",
        "\n",
        "# Plantear y resolver el sistema de ecuaciones\n",
        "x = np.linalg.solve(a,b)\n",
        "\n",
        "# Mostrar la solución del sistema de ecuaciones\n",
        "print (x)"
      ],
      "execution_count": null,
      "outputs": [
        {
          "output_type": "stream",
          "name": "stdout",
          "text": [
            "[2. 3.]\n"
          ]
        }
      ]
    },
    {
      "cell_type": "markdown",
      "source": [
        "# Ejercicios\n",
        "\n",
        "Los siguientes ejercicios deben ser resueltos con NumPy sin utilizar la instrucción **if**,ni ciclos **for** ni **while**.\n",
        "\n",
        "Todos los códigos se deben ajustar al protocolo PEP8."
      ],
      "metadata": {
        "id": "_I6T-0Jkpd-R"
      }
    },
    {
      "cell_type": "markdown",
      "source": [
        "### 00\n",
        "Cree un arreglo de NumPy con los números 13, 27, 42, 96. Muestre por pantalla el arreglo, los dos últimos elementos del arreglo y el tipo del arreglo."
      ],
      "metadata": {
        "id": "0HiJ4TUJsHUz"
      }
    },
    {
      "cell_type": "code",
      "source": [
        "# Resuelva en esta celda el ejercicio 00\n",
        "import numpy as np\n",
        "\n",
        "# Crear el array\n",
        "array = np.array([13, 27, 42, 96])\n",
        "\n",
        "# Imprimir el array\n",
        "print(array)\n",
        "\n",
        "# Imprimir los últimos elementos del array\n",
        "print(array[-2:])\n",
        "\n",
        "# Imprimir el tipo de dato del array\n",
        "print(type(array))"
      ],
      "metadata": {
        "id": "JyAtRQpAsIuX",
        "outputId": "f3dcf83c-56a3-4721-d26a-2d217d6f00a2",
        "colab": {
          "base_uri": "https://localhost:8080/"
        }
      },
      "execution_count": null,
      "outputs": [
        {
          "output_type": "stream",
          "name": "stdout",
          "text": [
            "[13 27 42 96]\n",
            "[42 96]\n",
            "<class 'numpy.ndarray'>\n"
          ]
        }
      ]
    },
    {
      "cell_type": "markdown",
      "source": [
        "### 01\n",
        "Cree un arreglo de NumPy con los números enteros entre -20 y 20. Muestre por pantalla el arreglo y los números pares del arreglo."
      ],
      "metadata": {
        "id": "FoyqgvSXs3JR"
      }
    },
    {
      "cell_type": "code",
      "source": [
        "# Resuelva en esta celda el ejercicio 01\n",
        "import numpy as np\n",
        "\n",
        "# Crea un array de números enteros entre -20 y 20\n",
        "array = np.arange(-20, 21)\n",
        "\n",
        "# Imprime el array\n",
        "print(array)\n",
        "\n",
        "# Crea arreglo de los números pares en array\n",
        "pares = array[array % 2 == 0]\n",
        "\n",
        "# Imprimero el array de números pares\n",
        "print(pares)"
      ],
      "metadata": {
        "id": "b164wmJEtGAs",
        "outputId": "9478be1b-25e3-495d-93f1-29ba6de1616a",
        "colab": {
          "base_uri": "https://localhost:8080/"
        }
      },
      "execution_count": null,
      "outputs": [
        {
          "output_type": "stream",
          "name": "stdout",
          "text": [
            "[-20 -19 -18 -17 -16 -15 -14 -13 -12 -11 -10  -9  -8  -7  -6  -5  -4  -3\n",
            "  -2  -1   0   1   2   3   4   5   6   7   8   9  10  11  12  13  14  15\n",
            "  16  17  18  19  20]\n",
            "[-20 -18 -16 -14 -12 -10  -8  -6  -4  -2   0   2   4   6   8  10  12  14\n",
            "  16  18  20]\n"
          ]
        }
      ]
    },
    {
      "cell_type": "markdown",
      "source": [
        "### 02\n",
        "Cree un arreglo de NumPy con cinco ángulos igualmente espaciados entre 0 y 2π. Muestre por pantalla el arreglo y el valor medio del arreglo."
      ],
      "metadata": {
        "id": "vmi5jqp7seu_"
      }
    },
    {
      "cell_type": "code",
      "source": [
        "# Resuelva en esta celda el ejercicio 02\n",
        "import numpy as np\n",
        "\n",
        "# Crear un arreglo de cinco ángulos igualmente espaciados entre 0 y 2π\n",
        "angulos = np.linspace(0, 2 * np.pi, 5)\n",
        "\n",
        "# Mostrar el arreglo\n",
        "print(angulos)\n",
        "\n",
        "# Calcular el valor medio del arreglo\n",
        "valor_medio = np.mean(angulos)\n",
        "\n",
        "# Mostrar el valor medio\n",
        "print(f\"El valor medio del arreglo es: {valor_medio}\")"
      ],
      "metadata": {
        "id": "nHHGZD7ntnli",
        "outputId": "f282e960-a287-41a1-93c8-fa905c4b7655",
        "colab": {
          "base_uri": "https://localhost:8080/"
        }
      },
      "execution_count": null,
      "outputs": [
        {
          "output_type": "stream",
          "name": "stdout",
          "text": [
            "[0.         1.57079633 3.14159265 4.71238898 6.28318531]\n",
            "El valor medio del arreglo es: 3.141592653589793\n"
          ]
        }
      ]
    },
    {
      "cell_type": "markdown",
      "source": [
        "### 03\n",
        "Cree un arreglo de NumPy con diez números enteros aleatorios entre 1 y 100. Muestre por pantalla el arreglo y los números impares del arreglo."
      ],
      "metadata": {
        "id": "IxTdbSVLtomF"
      }
    },
    {
      "cell_type": "code",
      "source": [
        "# Resuelva en esta celda el ejercicio 03\n",
        "import numpy as np\n",
        "\n",
        "# Crear un arreglo de NumPy con diez números enteros aleatorios entre 1 y 100\n",
        "arreglo = np.random.randint(1, 101, 10)\n",
        "\n",
        "# Mostrar el arreglo\n",
        "print(\"Arreglo:\", arreglo)\n",
        "\n",
        "# Obtener los números impares del arreglo\n",
        "impares = arreglo[arreglo % 2 != 0]\n",
        "\n",
        "# Mostrar los números impares\n",
        "print(\"Números impares:\", impares)"
      ],
      "metadata": {
        "id": "D2Yfw3Y0udZt",
        "outputId": "e01a5afc-dac2-4426-fd88-cbbf145ad3fa",
        "colab": {
          "base_uri": "https://localhost:8080/"
        }
      },
      "execution_count": null,
      "outputs": [
        {
          "output_type": "stream",
          "name": "stdout",
          "text": [
            "Arreglo: [63 27 84 84 63 28 79 95 44 85]\n",
            "Números impares: [63 27 63 79 95 85]\n"
          ]
        }
      ]
    },
    {
      "cell_type": "markdown",
      "source": [
        "### 04\n",
        "Cree un arreglo de NumPy con veinte números logarítmicos igualmente espaciados utilizando la función **np.logspace()** . Muestre por pantalla el arreglo."
      ],
      "metadata": {
        "id": "sJATPPA0ujwg"
      }
    },
    {
      "cell_type": "code",
      "source": [
        "# Resuelva en esta celda el ejercicio 04\n",
        "import numpy as np\n",
        "\n",
        "# Crear un arreglo de NumPy con veinte números logarítmicos igualmente\n",
        "# espaciados\n",
        "arreglo = np.logspace(0, 1, 20)\n",
        "\n",
        "# Mostrar el arreglo\n",
        "print(arreglo)"
      ],
      "metadata": {
        "id": "xgPdVTUPvCm9",
        "outputId": "78508e11-f458-433d-ebc3-5478ae77b834",
        "colab": {
          "base_uri": "https://localhost:8080/"
        }
      },
      "execution_count": null,
      "outputs": [
        {
          "output_type": "stream",
          "name": "stdout",
          "text": [
            "[ 1.          1.12883789  1.27427499  1.43844989  1.62377674  1.83298071\n",
            "  2.06913808  2.33572147  2.6366509   2.97635144  3.35981829  3.79269019\n",
            "  4.2813324   4.83293024  5.45559478  6.15848211  6.95192796  7.8475997\n",
            "  8.8586679  10.        ]\n"
          ]
        }
      ]
    },
    {
      "cell_type": "markdown",
      "source": [
        "### 05\n",
        "Cree un arreglo de NumPy con veinte números aleatorios con una distribución normal de media igual 5.0 y desviación típica 1.5. Muestre por pantalla el arreglo y los valores máximos y mínimos del arreglo."
      ],
      "metadata": {
        "id": "5LMZBQhfueaG"
      }
    },
    {
      "cell_type": "code",
      "source": [
        "# Resuelva en esta celda el ejercicio 05\n",
        "import numpy as np\n",
        "\n",
        "# Array de numeros aletorios con una distrubución normal\n",
        "arreglo = np.random.normal(5.0, 1.5, 20)\n",
        "\n",
        "# Imprimir el arreglo\n",
        "print(arreglo)\n",
        "\n",
        "# Imprimir los valosres máximo y mínimo del arreglo\n",
        "print(f\"El valor máximo del arreglo es: {np.max(arreglo)}\")\n",
        "print(f\"El valor mínimo del arreglo es: {np.min(arreglo)}\")"
      ],
      "metadata": {
        "id": "xVQy1QpTvmtG",
        "outputId": "0c754df5-c7cb-4733-acef-43c79f50b4c7",
        "colab": {
          "base_uri": "https://localhost:8080/"
        }
      },
      "execution_count": null,
      "outputs": [
        {
          "output_type": "stream",
          "name": "stdout",
          "text": [
            "[3.50611994 4.76771094 1.6992854  6.84182414 0.79351754 4.38061028\n",
            " 5.40281806 3.06257046 3.08119017 5.09397446 8.92893736 5.03403236\n",
            " 1.59253108 4.90642764 5.89666543 3.07332226 3.45285566 4.5566453\n",
            " 6.27426348 4.62436344]\n",
            "El valor máximo del arreglo es: 8.928937355975117\n",
            "El valor mínimo del arreglo es: 0.7935175412057927\n"
          ]
        }
      ]
    },
    {
      "cell_type": "markdown",
      "source": [
        "### 06\n",
        "Cree un arreglo de NumPy con 100 números igualmente espaciados entre 0 y 180. Luego generar otro arreglo cuyos elementos sean el seno de los elementos del primer arreglo multiplicados por tres. Muestre por pantalla ambos arreglos."
      ],
      "metadata": {
        "id": "VcyHmpVHvn2G"
      }
    },
    {
      "cell_type": "code",
      "source": [
        "# Resuelva en esta celda el ejercicio 06\n",
        "import numpy as np\n",
        "\n",
        "# Crear un arreglo de NumPy con 100 números igualmente espaciados entre 0 y 180\n",
        "arreglo_1 = np.linspace(0, 180, 100)\n",
        "\n",
        "# Generar otro arreglo con el seno de los elementos del primer arreglo\n",
        "# multiplicados por tres\n",
        "arreglo_2 = 3 * np.sin(np.radians(arreglo_1))\n",
        "\n",
        "# Mostrar ambos arreglos\n",
        "print(\"Primer arreglo:\\n\", arreglo_1)\n",
        "print(\"\\nSegundo arreglo:\\n\", arreglo_2)"
      ],
      "metadata": {
        "id": "PL4whSXOwvoJ",
        "outputId": "5633371d-d827-4edf-ffd8-ac5a6e47d029",
        "colab": {
          "base_uri": "https://localhost:8080/"
        }
      },
      "execution_count": null,
      "outputs": [
        {
          "output_type": "stream",
          "name": "stdout",
          "text": [
            "Primer arreglo:\n",
            " [  0.           1.81818182   3.63636364   5.45454545   7.27272727\n",
            "   9.09090909  10.90909091  12.72727273  14.54545455  16.36363636\n",
            "  18.18181818  20.          21.81818182  23.63636364  25.45454545\n",
            "  27.27272727  29.09090909  30.90909091  32.72727273  34.54545455\n",
            "  36.36363636  38.18181818  40.          41.81818182  43.63636364\n",
            "  45.45454545  47.27272727  49.09090909  50.90909091  52.72727273\n",
            "  54.54545455  56.36363636  58.18181818  60.          61.81818182\n",
            "  63.63636364  65.45454545  67.27272727  69.09090909  70.90909091\n",
            "  72.72727273  74.54545455  76.36363636  78.18181818  80.\n",
            "  81.81818182  83.63636364  85.45454545  87.27272727  89.09090909\n",
            "  90.90909091  92.72727273  94.54545455  96.36363636  98.18181818\n",
            " 100.         101.81818182 103.63636364 105.45454545 107.27272727\n",
            " 109.09090909 110.90909091 112.72727273 114.54545455 116.36363636\n",
            " 118.18181818 120.         121.81818182 123.63636364 125.45454545\n",
            " 127.27272727 129.09090909 130.90909091 132.72727273 134.54545455\n",
            " 136.36363636 138.18181818 140.         141.81818182 143.63636364\n",
            " 145.45454545 147.27272727 149.09090909 150.90909091 152.72727273\n",
            " 154.54545455 156.36363636 158.18181818 160.         161.81818182\n",
            " 163.63636364 165.45454545 167.27272727 169.09090909 170.90909091\n",
            " 172.72727273 174.54545455 176.36363636 178.18181818 180.        ]\n",
            "\n",
            "Segundo arreglo:\n",
            " [0.00000000e+00 9.51838005e-02 1.90271759e-01 2.85168130e-01\n",
            " 3.79777361e-01 4.74004188e-01 5.67753733e-01 6.60931598e-01\n",
            " 7.53443962e-01 8.45197671e-01 9.36100337e-01 1.02606043e+00\n",
            " 1.11498737e+00 1.20279161e+00 1.28938474e+00 1.37467957e+00\n",
            " 1.45859021e+00 1.54103217e+00 1.62192245e+00 1.70117959e+00\n",
            " 1.77872379e+00 1.85447696e+00 1.92836283e+00 2.00030700e+00\n",
            " 2.07023703e+00 2.13808251e+00 2.20377513e+00 2.26724872e+00\n",
            " 2.32843939e+00 2.38728552e+00 2.44372786e+00 2.49770956e+00\n",
            " 2.54917629e+00 2.59807621e+00 2.64436009e+00 2.68798132e+00\n",
            " 2.72889599e+00 2.76706288e+00 2.80244358e+00 2.83500246e+00\n",
            " 2.86470672e+00 2.89152648e+00 2.91543470e+00 2.93640734e+00\n",
            " 2.95442326e+00 2.96946433e+00 2.98151539e+00 2.99056433e+00\n",
            " 2.99660202e+00 2.99962238e+00 2.99962238e+00 2.99660202e+00\n",
            " 2.99056433e+00 2.98151539e+00 2.96946433e+00 2.95442326e+00\n",
            " 2.93640734e+00 2.91543470e+00 2.89152648e+00 2.86470672e+00\n",
            " 2.83500246e+00 2.80244358e+00 2.76706288e+00 2.72889599e+00\n",
            " 2.68798132e+00 2.64436009e+00 2.59807621e+00 2.54917629e+00\n",
            " 2.49770956e+00 2.44372786e+00 2.38728552e+00 2.32843939e+00\n",
            " 2.26724872e+00 2.20377513e+00 2.13808251e+00 2.07023703e+00\n",
            " 2.00030700e+00 1.92836283e+00 1.85447696e+00 1.77872379e+00\n",
            " 1.70117959e+00 1.62192245e+00 1.54103217e+00 1.45859021e+00\n",
            " 1.37467957e+00 1.28938474e+00 1.20279161e+00 1.11498737e+00\n",
            " 1.02606043e+00 9.36100337e-01 8.45197671e-01 7.53443962e-01\n",
            " 6.60931598e-01 5.67753733e-01 4.74004188e-01 3.79777361e-01\n",
            " 2.85168130e-01 1.90271759e-01 9.51838005e-02 3.67394040e-16]\n"
          ]
        }
      ]
    },
    {
      "cell_type": "markdown",
      "source": [
        "### 07\n",
        "Cree un arreglo de NumPy con diez números aleatorios (una fila, diez columnas). Convertir ese arreglo en otro arreglo de diez filas y una columna; y luego convertir el arreglo en uno de cinco filas y dos columnas. Muestre por pantalla los tres arreglos."
      ],
      "metadata": {
        "id": "id7zHlX5w_O3"
      }
    },
    {
      "cell_type": "code",
      "source": [
        "# Resuelva en esta celda el ejercicio 07\n",
        "import numpy as np\n",
        "\n",
        "# Crear un arreglo de NumPy con diez números aleatorios\n",
        "arreglo_1 = np.random.rand(1, 10)\n",
        "\n",
        "# Convertir el arreglo a diez filas y una columna\n",
        "arreglo_2 = arreglo_1.reshape(10, 1)\n",
        "\n",
        "# Convertir el arreglo a cinco filas y dos columnas\n",
        "arreglo_3 = arreglo_2.reshape(5, 2)\n",
        "\n",
        "# Mostrar los tres arreglos\n",
        "print(\"Arreglo 1:\\n\", arreglo_1)\n",
        "print(\"\\nArreglo 2:\\n\", arreglo_2)\n",
        "print(\"\\nArreglo 3:\\n\", arreglo_3)"
      ],
      "metadata": {
        "id": "Dz-nRIHXx4RF",
        "outputId": "e2485aeb-6bcc-4d85-fbbd-bb39d4bf74fc",
        "colab": {
          "base_uri": "https://localhost:8080/"
        }
      },
      "execution_count": null,
      "outputs": [
        {
          "output_type": "stream",
          "name": "stdout",
          "text": [
            "Arreglo 1:\n",
            " [[0.73680517 0.67664966 0.01118616 0.14899588 0.81743897 0.8326661\n",
            "  0.76250116 0.34840454 0.97933835 0.24103915]]\n",
            "\n",
            "Arreglo 2:\n",
            " [[0.73680517]\n",
            " [0.67664966]\n",
            " [0.01118616]\n",
            " [0.14899588]\n",
            " [0.81743897]\n",
            " [0.8326661 ]\n",
            " [0.76250116]\n",
            " [0.34840454]\n",
            " [0.97933835]\n",
            " [0.24103915]]\n",
            "\n",
            "Arreglo 3:\n",
            " [[0.73680517 0.67664966]\n",
            " [0.01118616 0.14899588]\n",
            " [0.81743897 0.8326661 ]\n",
            " [0.76250116 0.34840454]\n",
            " [0.97933835 0.24103915]]\n"
          ]
        }
      ]
    },
    {
      "cell_type": "markdown",
      "source": [
        "### 08\n",
        "Cree un arreglo de NumPy con 25 números en una sola fila. Luego convertir el arreglo en un arreglo **B** de cinco filas y cinco columnas.\n",
        "\n",
        "*  Seleccione la segunda fila de **B** y guárdela en otro arreglo **C**.\n",
        "*  Almacene el número de elementos de **C** en una variable.\n",
        "*  Genere la transpuesta de **B**\n",
        "*  Genere la transpuesta de **C**\n",
        "\n",
        "Muestre por pantalla todos los arreglos."
      ],
      "metadata": {
        "id": "eUSUoWZhx5Tf"
      }
    },
    {
      "cell_type": "code",
      "source": [
        "# Resuelva en esta celda el ejercicio 08\n",
        "import numpy as np\n",
        "\n",
        "# Crear un arreglo de NumPy con 25 números en una sola fila\n",
        "arreglo_a = np.arange(25)\n",
        "\n",
        "# Convertir el arreglo en un arreglo B de cinco filas y cinco columnas\n",
        "arreglo_b = arreglo_a.reshape(5, 5)\n",
        "\n",
        "# Seleccionar la segunda fila de B y guardarla en otro arreglo C\n",
        "arreglo_c = arreglo_b[1, :]\n",
        "\n",
        "# Almacenar el número de elementos de C en una variable\n",
        "num_elementos_C = arreglo_c.size\n",
        "\n",
        "# Generar la transpuesta de B\n",
        "B_transpuesta = arreglo_b.T\n",
        "\n",
        "# Generar la transpuesta de C\n",
        "C_transpuesta = arreglo_c.reshape(1,5).T\n",
        "\n",
        "\n",
        "# Mostrar por pantalla todos los arreglos\n",
        "print(\"Arreglo A:\\n\", arreglo_a)\n",
        "print(\"\\nArreglo B:\\n\", arreglo_b)\n",
        "print(\"\\nArreglo C:\\n\", arreglo_c)\n",
        "print(\"\\nNúmero de elementos de C:\", num_elementos_C)\n",
        "print(\"\\nTranspuesta de B:\\n\", B_transpuesta)\n",
        "print(\"\\nTranspuesta de C:\\n\", C_transpuesta)\n"
      ],
      "metadata": {
        "id": "MFnm0LSIzg3u",
        "outputId": "43a02209-4a78-4c9b-862a-b1cec4c0051c",
        "colab": {
          "base_uri": "https://localhost:8080/"
        }
      },
      "execution_count": null,
      "outputs": [
        {
          "output_type": "stream",
          "name": "stdout",
          "text": [
            "Arreglo A:\n",
            " [ 0  1  2  3  4  5  6  7  8  9 10 11 12 13 14 15 16 17 18 19 20 21 22 23\n",
            " 24]\n",
            "\n",
            "Arreglo B:\n",
            " [[ 0  1  2  3  4]\n",
            " [ 5  6  7  8  9]\n",
            " [10 11 12 13 14]\n",
            " [15 16 17 18 19]\n",
            " [20 21 22 23 24]]\n",
            "\n",
            "Arreglo C:\n",
            " [5 6 7 8 9]\n",
            "\n",
            "Número de elementos de C: 5\n",
            "\n",
            "Transpuesta de B:\n",
            " [[ 0  5 10 15 20]\n",
            " [ 1  6 11 16 21]\n",
            " [ 2  7 12 17 22]\n",
            " [ 3  8 13 18 23]\n",
            " [ 4  9 14 19 24]]\n",
            "\n",
            "Transpuesta de C:\n",
            " [[5]\n",
            " [6]\n",
            " [7]\n",
            " [8]\n",
            " [9]]\n"
          ]
        }
      ]
    },
    {
      "cell_type": "markdown",
      "source": [
        "### 09\n",
        "Calcule todos los precios posibles de pisos que con longitudes de 2, 4, 6 y 8 metros y anchos de 1, 1.5 y 2 metros si el piso cuesta $32.19 por metro cuadrado. Almacene el resultado en una matriz 2D. Los largos deben aumentar de arriba hacia abajo y los anchos deben aumentar de izquierda a derecha."
      ],
      "metadata": {
        "id": "q9xv8bvMbv-0"
      }
    },
    {
      "cell_type": "code",
      "source": [
        "# Resuelva en esta celda el ejercicio 09\n",
        "import numpy as np\n",
        "\n",
        "# Longitudes y anchos disponibles\n",
        "longitudes = np.array([2, 4, 6, 8])\n",
        "anchos = np.array([1, 1.5, 2])\n",
        "\n",
        "# Costo por metro cuadrado\n",
        "costo_por_metro = 32.19\n",
        "\n",
        "# Usamos la multiplicación de matrices para obtener el área\n",
        "# Usamos None para hacer broadcasting y convertir el array a (4, 1)\n",
        "areas = longitudes[:, None] * anchos\n",
        "\n",
        "# Calculamos los precios multiplicando las áreas por el costo por metro\n",
        "# cuadrado\n",
        "precios = areas * costo_por_metro\n",
        "\n",
        "# Mostramos el resultado\n",
        "print(precios)\n"
      ],
      "metadata": {
        "id": "rT87t_7Bb_Sw",
        "outputId": "6cf6a56d-f3f2-44db-85b7-ae990bbf6de6",
        "colab": {
          "base_uri": "https://localhost:8080/"
        }
      },
      "execution_count": null,
      "outputs": [
        {
          "output_type": "stream",
          "name": "stdout",
          "text": [
            "[[ 64.38  96.57 128.76]\n",
            " [128.76 193.14 257.52]\n",
            " [193.14 289.71 386.28]\n",
            " [257.52 386.28 515.04]]\n"
          ]
        }
      ]
    },
    {
      "cell_type": "markdown",
      "source": [
        "### 10\n",
        "Cree un arreglo **K** usando el siguiente código:\n",
        "\n",
        "K = np.random.randint(100, 500, 7*7).reshape(7, 7)\n",
        "\n",
        "K[2, 6] = 250\n",
        "\n",
        "* Extraiga todos los valores de **K** que sean mayores o iguales a 250 y guárdelos en un arreglo llamado **up250**\n",
        "`.\n",
        "\n",
        "* Extraiga todos los valores de **K** que sean menores que 250 y guárdelos en un arreglo llamado **down250**.\n",
        "\n",
        "* Encuentre, por medios computacionales, en qué columna y en qué fila se almacena el número 250 dentro de **K**."
      ],
      "metadata": {
        "id": "XnktVTrFcBAS"
      }
    },
    {
      "cell_type": "code",
      "source": [
        "# Resuelva en esta celda el ejercicio 10\n",
        "import numpy as np\n",
        "\n",
        "# Crear el arreglo K\n",
        "K = np.random.randint(100, 500, 7*7).reshape(7, 7)\n",
        "\n",
        "# Se modifica el valor en la posisción\n",
        "K[2, 6] = 250\n",
        "\n",
        "up250 = K[K >= 250]\n",
        "down250 = K[K < 250]\n",
        "\n",
        "# Encontrar la posición del número 250 en el arreglo K\n",
        "posicion_250 = np.where(K == 250)\n",
        "\n",
        "print(\"Arreglo K:\")\n",
        "print(K)\n",
        "print(\"\\nValores mayores o iguales a 250:\")\n",
        "print(up250)\n",
        "print(\"\\nValores menores que 250:\")\n",
        "print(down250)\n",
        "print(\"\\nPosición del número 250 en el arreglo K:\")\n",
        "print(\"Fila:\", posicion_250[0])\n",
        "print(\"Columna:\", posicion_250[1])"
      ],
      "metadata": {
        "id": "5btBotIWdjKq",
        "outputId": "987eb967-aaaf-4a8a-af61-04921957115b",
        "colab": {
          "base_uri": "https://localhost:8080/"
        }
      },
      "execution_count": null,
      "outputs": [
        {
          "output_type": "stream",
          "name": "stdout",
          "text": [
            "Arreglo K:\n",
            "[[266 229 433 198 418 204 299]\n",
            " [116 393 203 407 190 247 446]\n",
            " [115 383 418 171 365 329 250]\n",
            " [439 165 199 343 314 218 355]\n",
            " [269 159 209 217 167 251 361]\n",
            " [170 189 353 371 194 242 355]\n",
            " [203 451 198 386 375 380 168]]\n",
            "\n",
            "Valores mayores o iguales a 250:\n",
            "[266 433 418 299 393 407 446 383 418 365 329 250 439 343 314 355 269 251\n",
            " 361 353 371 355 451 386 375 380]\n",
            "\n",
            "Valores menores que 250:\n",
            "[229 198 204 116 203 190 247 115 171 165 199 218 159 209 217 167 170 189\n",
            " 194 242 203 198 168]\n",
            "\n",
            "Posición del número 250 en el arreglo K:\n",
            "Fila: [2]\n",
            "Columna: [6]\n"
          ]
        }
      ]
    },
    {
      "cell_type": "markdown",
      "source": [
        "### 11\n",
        "Resuelva con NumPy el siguiente sistema de ecuaciones\n",
        "\n",
        "![image.png](data:image/png;base64,iVBORw0KGgoAAAANSUhEUgAAAMsAAAB9CAYAAAAMaJdbAAAAAXNSR0IArs4c6QAAAARnQU1BAACxjwv8YQUAAAAJcEhZcwAAEnQAABJ0Ad5mH3gAABEmSURBVHhe7Z0JlE7lH8d/iOwRWUu2Y1+KiITIVkqZVHYOSsQpleUIoVEkQ4kyJGvJVrYIh0pEZiKjhhhbGGPfGdv93+9v7h3vMGMeo3nfd97/93POc977PvfOzL3P83x/23NVOstGCCHJkt75JIQkA8VCiCEUCyGGUCyEGEKxEGIIxUKIIRQLIYZQLIQYQrEQYgjFQoghFAshhlAshBhCsRBiCMVCiCEUCyGGUCyEGEKxEGKIT8WCf6S5cOFCadasmezatcvpTZvExMTIyJEjpXbt2lK8eHFp0KCBfPbZZ9pPkub8+fMyaNAgGTBggFy8eNHpvQ7WRf/+/aVKlSo6rkFBQTJt2jQ5c+aMc4X38KlYoqKiZMKECXL16lWnJ22yc+dO6dGjhxQqVEi+++47+eGHH+Shhx6SkJAQadOmjfz+++/OlcQTGMvly5fLjBkznJ6EbNiwQd566y2pW7eurFy5UmbNmiX33nuvDB48WDp16uR1A+szscCiTJ48WSIjI52etAmeIzQ0VF544QVp3bq15M2bV8qUKaMTCiuICZ00aZIcO3bM+QniAmM5ceJE51tCDh8+LOPHj5e3335bGjdurCKpXr26BAcHS82aNSU8PFzXT2LeKLXwiVjc8GvFihWSLVs2pzdtsm/fPgkLC5Nx48apR3H/+x/Zs2eX559/Xo9hFTdt2qTHJI6zZ8/KF198kaQR+eeff2TNmjXywQcfyMaNG51ekQIFCkjTpk31GOMKr+4tfCKW7du3y6JFi+T999+XIkWKOL1pkwsXLsiRI0fkwIED8ttvv0lsbKxzRjQsK1u2rB6ndQ/6XwKDsnjxYsmUKZP07NnT6U3IyZMn9RNrZf369XrsUrp0af2E94F38hZeFwssCsKSF198UUqVKuX0Jg5c7JQpUzRZrlixorzzzjsa1vzxxx/y8ssvax+Sv+PHjzs/4X0wca+++qo0b95cw7DMmTM7Z+IWxbVr1/T4rrvu0k+wdetWadu2bZL3v2XLFunTp49EREQ4PYGFayyRd8ADJ8Zjjz0m7dq105yvRYsWTm8cnjluhgwZnKPUx6tiweKZM2eOZM2aVRo1auT0Jg5yAbjgU6dOyffffy+rVq2SEydOqEiGDRsm7777rowYMUL7cd5X4FlgHUeNGiXlypVzeuOIjo7WhYFQs3LlytqHsAHP9frrr6tnRdK6bNkyPQdgIGbPni1z587VZw808EzIRTCPJUqUcHpvBjnKkCFDdIwKFizo9Mbhhl4lS5aM9zLewKtigUVFntK+fXtdZLcC1125ckVeeeUVtT45cuTQQUOM+/TTT0vOnDk15oUr9kfgQV0RI/lH6RMWERb1ySeflEcffVT279+v5z2TVDwfBIbwDWFcUly6dEmNBsqpKWm4H8T83gTGcv78+ZIrVy6NFtKlS+ecMefQoUOyZMkSPYbHwbN4C6+JBRYFlY+WLVve0qIA1NBRUoQoXFHB0+zdu1etNCY6X7580rBhQ+natWt8Iu0vYFHA4/344496jygrIzzDRP/5559Sq1YtOXr0qJZG8Ryo8rjgmm3btknRokXlvvvuc3pvBvE+vCvC0pQ0hLJYsN7kdoxlYsDYwAAhN0QYixZwYRge8ttvv1XXivArOYsCL4Lq0uOPP+70iBw8eFB27NihcT4srhv+9O3bV3+vP4F9FWxQ4lk//PBDLSeDwoULaw6G0jJCic2bN6twihUrpucBxHTu3DnN55KK59MiyMsQCbRq1UrDp9sFBggeBeuie/fu0q9fvxQJ7k7wiliwKBCXP/fcc1o9Qu6BhlAFCTAajtF3+fJl56cSglIiQi4MNNz47YC/fWMYYtJSEqrgPpFL4VkRbycmZBiPtWvXqiiqVq0aXz7H2MAggPLly6coTPmvQUQA753Y+CTXYMwQJeB5kYNlyZJFqlWrFj//aHhmgHlHBQx/zy2KuEAoqIiNGTNGevfuLb169fK6UBT7RlId23VatvU0amFhYc5PXceOzy174en5mTNnOr3+h73QraCgIGvq1KmWnW85vXH9dujjfLMs28paHTt2tOy8xYqIiHB6LcvOYSw7Drfq1atnRUZGOr1pH1sQlh0y3jTXibUOHTro+HhiC8WyQ3LLNnqWLSTtw/j+9ddfVnR0tH73Bl4RS1JAGBggDERUVJTTGzcQtkW3QkNDLTtPiV9cFSpUSCCmmJgYy7Ze1p49e5we37F79269RzvcTCAUO3m3Bg4cqAbDBc+KZ7ZjbstO6J3euPHAM3bq1MmyrazTmzixsbFWcHDwTYvNtOHv2DmV89t8x6effqr3AzFBVDcSHh6uBmT16tXxQgEYH4xTYsY1tfBqNcwUbOAheUW8jz0HJKT2oOgGZu7cufUa+95l3bp1WhXLnz+/9vkKJOtujoKE/vTp0/Fhhi0iTWzvv/9+5+rrIDl1Qy2EKkhcEZohp0kuX7nTBB97OMmV730N8jqU5Lt166ald4Rp7rhijeC7ux68gU/EgsoWHth91cEzj0HsioZFg43LSpUqyYIFCzSux3VoiGl/+ukn3Y+wrXmCjUBvg2exraMsXbpUFy9yEM+Gih7u2TPPwisbyEnwqgzKxygDz5s3T18qBSgbe7PK420wf8hNkPS7bw8jZ8V3N2dxDRAMSJcuXW4aV2wAI2+53fz1TvDJ/8xo7NixMnr0aOdbQrBpiYWEqhFEkj59eh0YWOzp06drwp0xY0axwwitiiRmsb0JXuiDqG9FjRo19Hk9PSA2LJGw4n0yPA/erEUlDGDTDt4lUIFRRJL+yy+/OD3XqVOnjo4VzuGaW4G3JoYOHeq19wv5f/7yAdhsRfjl6T0QUqLqhMUyfPhwLZ8T/8Ivc5ZABp6oSZMmGj66bx8gDIPHROiJPIJC8U8oFi+DDUsk2J5AQAjHsCONcJP4JxSLl8mTJ4+2zp076+evv/6q/6AJO/lvvvmmbzbbiBHMWbwMqmd4Rw472vg3MHgVHR6lfv36Wg4m/gvFQoghDMMIMYRiIcQQioUQQygWQgyhWAgxhGIhxBCKhRBDKBZCDKFYCDGEYiHEEIqFEEMoFkIMoVgIMYRiIcQQioUQQygWQgyhWAgxhGIhxBCKhRBDKBZCDKFYCDGEYiHEEIqFEEMoFkIMoVgIMYRiIcQQioUQQygWQgyhWAgxhGIhxBCKhRBDKBZCDKFYCDGEYiHEEIqFEEMoFkIMoVgIMYRiIcQQioUQQygWQgyhWAgxhGIhxBCKhRBDKBZCDKFYCDGEYiHEkIAUy6VLl2TZsmXStm1bKV68uNSuXVtGjRolJ0+edK4gqc3x48dl/PjxOvbuHAQHB8v+/fudKxLHsiyJiIiQkJAQOX/+vNPrHwScWA4cOCBvvPGGfPPNN9KnTx/ZsWOHTJs2TcLCwmTChAly+fJl50qSWuzdu1e6desmGTNmlKVLl8rOnTvlvffek8WLF0urVq1kw4YNzpVxQBRHjx6VNWvWyKBBg6R169ayZcsWiY2Nda7wDwJKLBjwoUOHSkxMjAwcOFAqVaokV65cka+++konKDIyUs6ePetc7R0uXrwoW7du1c//B+AZFi1aJH///bf8+++/2pc+fXqpWbOm1KpVS43ZlClT5NSpU3oOfPnll9K8eXOZPn26eqRz5845Z/yLgBHL1atXZc6cObJixQpp2rSplChRQvvvvvtuadGihbYOHTpIrly5tN9bHDx4UEaOHKmf/w8gBD58+LAu+BkzZsj27du1P0OGDJIlSxY93rdvnxw7dkyPQc+ePdWrhIaGSqNGjZxe/yNgxHLo0CFZtWqVHlesWFHSpUunxwAe5qOPPpJ69eol6Cf/PTBOzz77rI51r169pGzZstoPY3bhwgU9LlCggOTJk0eP0xIBI5bdu3dLeHi4Tg6s27Bhw6Rdu3by1FNPSb9+/eIt3I0gXOjRo4cKDNfCO504cUJGjx4tVapU0b7ly5dreOErsNDmzZunSTLa119/rX0uOJ47d64m0Lh3X1OtWjUNreAxsmbNqn3wrEjcQcOGDSVnzpx6nJYIGLHAtbufgwcPlvr162tij0T/2rVr0qVLl5sSS3zHAuvcubNs3rxZunbtKn379lWBIM5GQlqqVCmZOHGiz8IoiHTJkiWycuVKjenr1q0rkyZN0sKFCxJq5GUQPgyFv4GQDPeORL979+7SrFmzNOnhA0YsbgyMiUHOUr16dZ0Q5CjIV5BYwtq51+ETYoL1e/jhhzWmfuCBB/RcoUKFJCgoSBYsWKDJqi85cuSI3sdrr70m99xzjz4HqkcoXLjs2rVLixco0eKapEChoUaNGnpdShrG6syZM85vSx7kj23atFFviKoYysEIzVxvk9YIGLF4gjAAi98lb968Gp7BOm/atEn78Jk5c2bNZ1xgoUGFChUkX758urAQf8MaQkC+ACVUCL5kyZIqCJTAq1atKg8++KCeh+fZtm2bHmNB45mSAs+1fv16FVdK2tixYyVHjhzOb0sehFszZ86UjRs3yvDhw3WvC947KirKuSJtETBicRPG0qVLS8GCBfU4MdzwpUGDBjp52bJl0+/Yf0EYA8qUKaOJKjzOJ5984tPCgHufEAHCRnhOlGDdRYtSOEQEIAZ/BIYLYXHHjh21CNO7d2/Zs2ePczbt4HOxIMdAyHOjyzdpI0aMiI/R4QkAco1bLWzP8MUThBcoAkA8bgXHFGx2JnZ/aFjsKIviM7HzaFOnTnV+U9JgDwkWumjRolp4cEGZFlYf3qZw4cJOr/+BOUERBSA/RD7oy6JJSvC5WIoUKSLz58+/yeWbNCTjmTJl0t+DciQEg2T+VpPgepIbQQIPr4MJvd2QC6FFYveHhtAPMTs+EzuPhv2f5MBrIqgmQcieokAVECLHOHp7DykxsKnYv39/fSY35HXxDI1R6ve3HfrkCJgwDDE8rCsWzo3vgEE8EBHEhMQfREdHy+TJk7XShNIr4mhYaVh6zyR59uzZ8vnnnzvffAfEghAM1bns2bNrn2e+gpwmKUPgcqcJPl5hSS7BhxedNWuWfqLc7fnmgme5G8YNoW5aImDEghgeZVUAN+/pXVCyhIiaNGmiiwr5CSpjKBvDq6HihBAH5M+fPz5JRv/q1atVhP6CZ5iJ0My13m6IcyvuNMGH0UguwUeYCKMEcT3xxBPxY4n5cPdZ4BkxV77KA1NKwIgFPPPMM/qmMd49QiKJ/AQThH0JVGaw+YjJg5dBroMJfemll3QhYBHBMqMsCwuIcAIbk5UrV/YLsZQrV06FDg+I96rc+4OYIQK37O1rcC9I5OH9EHa544n5wLxAKAMGDEhQjID3wWaq28Dp06f1HT98x/NiznxNOlvxaSvLSgYMPNw/GjxM+fLldd+lZcuWCWJ6hCSoMiF2hmhQ/4cnGTdunE4UQoT27dtL48aN4/OilAAhDhkyRN+6xd9JKZgmCHrMmDHqBVH1Q1u4cKG+hIgXSJMLw7wFFjbGHiHs2rVrdW8I84CxRDHnxpwQ+0gY/6SoU6eOGobcuXM7PT4CYiGph+0JLFt0+nkn2EbAsheh882ybK9phYSEWMWKFbPskNLpJalJQIVhgQhCGORXjzzyiHoVN0lG9Q5JNKpjyA1I6kOxpDIIObAJl9I3ALDpuG7dOq2EuUAwCF1Q6kbZ2vYuzhmSmlAsqQwKCkhm3arQ7YJ/bYi3E7BXg2IE9iZQ8sZGJkSIfCytVZXSKgGX4AcieDXk448/lp9//lnFg8oeKk54LYdC8R4UCyGGMAwjxBCKhRBDKBZCDKFYCDGEYiHEEIqFEEMoFkIMoVgIMYRiIcQQioUQQygWQgyhWAgxhGIhxBCKhRBDKBZCDKFYCDGEYiHECJH/AUPCLaABKBy4AAAAAElFTkSuQmCC)"
      ],
      "metadata": {
        "id": "QcytecGxeKli"
      }
    },
    {
      "cell_type": "code",
      "source": [
        "# Resuelva en esta celda el ejercicio 11\n",
        "import numpy as np\n",
        "\n",
        "# Crear el arreglo a\n",
        "ecuacion_1 = np.array([[4, -2], [-6, 1]])\n",
        "\n",
        "# Crear el arreglo b\n",
        "ecuacion_2 = np.array([-42, 31])\n",
        "\n",
        "# Plantear y resolver el sistema de ecuaciones\n",
        "solucion = np.linalg.solve(ecuacion_1, ecuacion_2)\n",
        "\n",
        "# Mostrar la solución del sistema de ecuaciones\n",
        "print (solucion)"
      ],
      "metadata": {
        "id": "sS-ocvTpeiQ_",
        "outputId": "4be13db4-9fe5-464a-be43-1f93074efb0d",
        "colab": {
          "base_uri": "https://localhost:8080/"
        }
      },
      "execution_count": null,
      "outputs": [
        {
          "output_type": "stream",
          "name": "stdout",
          "text": [
            "[-2.5 16. ]\n"
          ]
        }
      ]
    },
    {
      "cell_type": "markdown",
      "source": [
        "### 12\n",
        "Resuelva con NumPy el siguiente sistema de ecuaciones\n",
        "\n",
        "![image.png](data:image/png;base64,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)"
      ],
      "metadata": {
        "id": "B-AM7J4cek8c"
      }
    },
    {
      "cell_type": "code",
      "source": [
        "# Resuelva en esta celda el ejercicio 12\n",
        "import numpy as np\n",
        "\n",
        "# Crear el arreglo a\n",
        "ecuacion_1 = np.array([[1/2, 2, -1], [1, 3, -4], [-1, -3, 2]])\n",
        "\n",
        "# Crear el arreglo b\n",
        "ecuacion_2 = np.array([5, -1, -5])\n",
        "\n",
        "# Plantear y resolver el sistema de ecuaciones\n",
        "solucion = np.linalg.solve(ecuacion_1, ecuacion_2)\n",
        "\n",
        "# Mostrar la solución del sistema de ecuaciones\n",
        "print (solucion)"
      ],
      "metadata": {
        "id": "BJHScXfyskxy",
        "outputId": "0c816457-15eb-4442-e5fa-4ea8f0a8544b",
        "colab": {
          "base_uri": "https://localhost:8080/"
        }
      },
      "execution_count": null,
      "outputs": [
        {
          "output_type": "stream",
          "name": "stdout",
          "text": [
            "[-4.  5.  3.]\n"
          ]
        }
      ]
    },
    {
      "cell_type": "markdown",
      "source": [
        "### 13\n",
        "Encuentre los valores propios del siguiente arreglo: [[1, 2],[3, 4]]"
      ],
      "metadata": {
        "id": "sWFSUYJNesgM"
      }
    },
    {
      "cell_type": "code",
      "source": [
        "# Resuelva en esta celda el ejercicio 13\n",
        "import numpy as np\n",
        "\n",
        "# Define the array\n",
        "array = np.array([[1, 2], [3, 4]])\n",
        "\n",
        "# Calculate eigenvalues\n",
        "eigenvalues = np.linalg.eigvals(array)\n",
        "\n",
        "# Print the eigenvalues\n",
        "eigenvalues"
      ],
      "metadata": {
        "id": "BDS1U3H0etoB"
      },
      "execution_count": null,
      "outputs": []
    },
    {
      "cell_type": "markdown",
      "source": [
        "### 14\n",
        "Calcule la distancia euclidiana entre los puntos\n",
        "\n",
        "punto_1 = (1, 5, 3)\n",
        "\n",
        "punto_2 = (2, 2, 2))"
      ],
      "metadata": {
        "id": "W4wE9sxBvP8I"
      }
    },
    {
      "cell_type": "code",
      "source": [
        "# Resuelva en esta celda el ejercicio 14\n",
        "import numpy as np\n",
        "\n",
        "# Definir los dos puntos\n",
        "punto1 = np.array([1, 5, 3])\n",
        "punto2 = np.array([2, 2, 2])\n",
        "\n",
        "# Calcular la distancia euclidiana\n",
        "distancia = np.linalg.norm(punto1 - punto2)\n",
        "\n",
        "print(\"Distancia Euclidiana:\", distancia)"
      ],
      "metadata": {
        "id": "RWastVa6vQqX",
        "outputId": "526d07a2-fbe4-48fa-a9b0-462e7341a0ba",
        "colab": {
          "base_uri": "https://localhost:8080/"
        }
      },
      "execution_count": null,
      "outputs": [
        {
          "output_type": "stream",
          "name": "stdout",
          "text": [
            "Distancia Euclidiana: 3.3166247903554\n"
          ]
        }
      ]
    },
    {
      "cell_type": "markdown",
      "source": [
        "### 15\n",
        "Calcule el producto punto entre dos arreglos\n",
        "\n",
        "punto_1 = np.array[(1, 5, 3)]\n",
        "\n",
        "punto_2 = np.array[(2, 2, 2))]"
      ],
      "metadata": {
        "id": "lL2euVhwsJig"
      }
    },
    {
      "cell_type": "code",
      "source": [
        "# Resuelva en esta celda el ejercicio 15\n",
        "import numpy as np\n",
        "\n",
        "# Puntos\n",
        "punto_1 = np.array([1, 5, 3])\n",
        "punto_2 = np.array([2, 2, 2])\n",
        "\n",
        "# Calcular el producto punto\n",
        "producto_punto = punto_1@punto_2\n",
        "\n",
        "print(\"Producto punto:\", producto_punto)"
      ],
      "metadata": {
        "id": "JGVl-hf4w3GY",
        "outputId": "c6d1c490-8ab2-4384-eeda-a55e4a485368",
        "colab": {
          "base_uri": "https://localhost:8080/"
        }
      },
      "execution_count": null,
      "outputs": [
        {
          "output_type": "stream",
          "name": "stdout",
          "text": [
            "Producto punto: 18\n"
          ]
        }
      ]
    },
    {
      "cell_type": "markdown",
      "source": [
        "### 16\n",
        "Genere un arreglo con números aleatorios enteros de dimensión 5x5. Calcule la suma de cada fila y de cada columna, y la suma de todos los elementos del arreglo."
      ],
      "metadata": {
        "id": "lk5mKxvCw7Pz"
      }
    },
    {
      "cell_type": "code",
      "source": [
        "# Resuelva en esta celda el ejercicio 16\n",
        "import numpy as np\n",
        "\n",
        "# Generar un arreglo 5x5 con números aleatorios enteros\n",
        "arreglo = np.random.randint(0, 100, size=(5, 5))\n",
        "\n",
        "# Calcular la suma de cada fila\n",
        "suma_filas = np.sum(arreglo, axis=1)\n",
        "\n",
        "# Calcular la suma de cada columna\n",
        "suma_columnas = np.sum(arreglo, axis=0)\n",
        "\n",
        "# Calcular la suma de todos los elementos del arreglo\n",
        "suma_total = np.sum(arreglo)\n",
        "\n",
        "# Imprimir los resultados\n",
        "print(\"Arreglo:\")\n",
        "print(arreglo)\n",
        "print(\"\\nSuma de cada fila:\")\n",
        "print(suma_filas.reshape(-1, 1))\n",
        "print(\"\\nSuma de cada columna:\")\n",
        "print(suma_columnas)\n",
        "print(\"\\nSuma total de los elementos del arreglo:\")\n",
        "suma_total"
      ],
      "metadata": {
        "id": "opQI7rynxaua",
        "outputId": "635bde2b-6db7-4d5e-9be1-86bd7670d1ae",
        "colab": {
          "base_uri": "https://localhost:8080/"
        }
      },
      "execution_count": null,
      "outputs": [
        {
          "output_type": "stream",
          "name": "stdout",
          "text": [
            "Arreglo:\n",
            "[[84 66 22 31 68]\n",
            " [69 90 19 25  8]\n",
            " [69 33 99 25 33]\n",
            " [88 44 31 65 70]\n",
            " [22 41 90 57 37]]\n",
            "\n",
            "Suma de cada fila:\n",
            "[[271]\n",
            " [211]\n",
            " [259]\n",
            " [298]\n",
            " [247]]\n",
            "\n",
            "Suma de cada columna:\n",
            "[332 274 261 203 216]\n",
            "\n",
            "Suma total de los elementos del arreglo:\n"
          ]
        },
        {
          "output_type": "execute_result",
          "data": {
            "text/plain": [
              "1286"
            ]
          },
          "metadata": {},
          "execution_count": 57
        }
      ]
    },
    {
      "cell_type": "markdown",
      "source": [
        "### 17\n",
        "Genere un arreglo de dimensión 5x5 con números aleatorios provenientes de una distribución normal de media 0 y desviación típica 1. Calcule la media, la desviación típica y la mediana de los valores del arreglo. Además, calcule la diferencia entre los valores teóricos de la media y la desviación típica con los de los valores encontrados en el arreglo."
      ],
      "metadata": {
        "id": "bcL0b1mdxuNn"
      }
    },
    {
      "cell_type": "code",
      "source": [
        "# Resuelva en esta celda el ejercicio 17\n",
        "import numpy as np\n",
        "\n",
        "# Generar un arreglo 5x5 con valores aleatorios de una distribución normal\n",
        "np.random.seed(0)\n",
        "arreglo = np.random.normal(0, 1, (5, 5))\n",
        "\n",
        "# Cálculos estadísticos\n",
        "media_observada = np.mean(arreglo)\n",
        "desviacion_observada = np.std(arreglo)\n",
        "mediana_observada = np.median(arreglo)\n",
        "\n",
        "# Valores teóricos\n",
        "media_teorica = 0\n",
        "desviacion_teorica = 1\n",
        "\n",
        "# Diferencias entre valores teóricos y observados\n",
        "diferencia_media = media_observada - media_teorica\n",
        "diferencia_desviacion = desviacion_observada - desviacion_teorica\n",
        "\n",
        "# Imprimir resultados\n",
        "print(\"Arreglo generado:\\n\", arreglo)\n",
        "print(\"\\nMedia observada:\", media_observada)\n",
        "print(\"Desviación típica observada:\", desviacion_observada)\n",
        "print(\"Mediana observada:\", mediana_observada)\n",
        "print(\"\\nDiferencia entre la media teórica y la observada:\", diferencia_media)\n",
        "print(\"Diferencia entre la desviación típica teórica y\"\n",
        "      \" la observada:\", diferencia_desviacion)\n"
      ],
      "metadata": {
        "id": "-Is9PT4EyiKE",
        "outputId": "8f50581b-f1e4-4a7d-d3bf-07a349ca4917",
        "colab": {
          "base_uri": "https://localhost:8080/"
        }
      },
      "execution_count": null,
      "outputs": [
        {
          "output_type": "stream",
          "name": "stdout",
          "text": [
            "Arreglo generado:\n",
            " [[ 1.76405235  0.40015721  0.97873798  2.2408932   1.86755799]\n",
            " [-0.97727788  0.95008842 -0.15135721 -0.10321885  0.4105985 ]\n",
            " [ 0.14404357  1.45427351  0.76103773  0.12167502  0.44386323]\n",
            " [ 0.33367433  1.49407907 -0.20515826  0.3130677  -0.85409574]\n",
            " [-2.55298982  0.6536186   0.8644362  -0.74216502  2.26975462]]\n",
            "\n",
            "Media observada: 0.475173857638386\n",
            "Desviación típica observada: 1.0712444681286155\n",
            "Mediana observada: 0.41059850193837233\n",
            "\n",
            "Diferencia entre la media teórica y la observada: 0.475173857638386\n",
            "Diferencia entre la desviación típica teórica y la observada: 0.07124446812861551\n"
          ]
        }
      ]
    },
    {
      "cell_type": "markdown",
      "source": [
        "### 18\n",
        "Calcule las raíces de un polinomio del tipo:\n",
        "\n",
        "![image.png](data:image/png;base64,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)\n",
        "\n",
        "siendo a = 3, b = 5, c = 7 y d 1"
      ],
      "metadata": {
        "id": "qQEXBPLvyi7W"
      }
    },
    {
      "cell_type": "code",
      "source": [
        "# Resuelva en esta celda el ejercicio 18\n",
        "import numpy as np\n",
        "\n",
        "# Coeficientes del polinomio\n",
        "coeficientes = [3, 5, 7, 1]\n",
        "\n",
        "# Calcular las raíces\n",
        "raices = np.roots(coeficientes)\n",
        "\n",
        "# Imprimir resultados\n",
        "print(\"Las raíces del polinomio son:\", raices)"
      ],
      "metadata": {
        "id": "JjYLTGrsz6bm",
        "outputId": "aeb5d0cc-7c17-4d5c-f6c0-31c5fc17075f",
        "colab": {
          "base_uri": "https://localhost:8080/"
        }
      },
      "execution_count": null,
      "outputs": [
        {
          "output_type": "stream",
          "name": "stdout",
          "text": [
            "Las raíces del polinomio son: [-0.75371394+1.23499297j -0.75371394-1.23499297j -0.15923879+0.j        ]\n"
          ]
        }
      ]
    },
    {
      "cell_type": "markdown",
      "source": [
        "### 19\n",
        "Utilice como referencia el archivo [numeros_v20210520.txt](https://raw.githubusercontent.com/gabrielawad/programacion-para-ingenieria/refs/heads/main/archivos-datos/NumPy/numeros_v20210520.txt). Operaciones solicitadas: uno, organice en orden descendente los números contenidos en el archivo. Dos, cconstruya  un arreglo de **n** filas y dos columnas, en orden ascendente, de los números que no tienen dígitos repetidos, y cuya suma de dígitos es mayor que 9 y menor que 20. Es necesario mostrar tanto el número como la suma correspondiente a los dígitos en la misma fila."
      ],
      "metadata": {
        "id": "ABqYJzCSz8nB"
      }
    },
    {
      "cell_type": "code",
      "source": [
        "# Resuelva en esta celda el ejercicio 19\n",
        "import numpy as np\n",
        "import requests\n",
        "\n",
        "# Descargar el archivo desde GitHub\n",
        "url = \"https://raw.githubusercontent.com/gabrielawad/\\\n",
        "programacion-para-ingenieria/refs/heads/main/archivos-datos/NumPy/\\\n",
        "numeros_v20210520.txt\"\n",
        "\n",
        "# Extraer el texto del archivo\n",
        "response = requests.get(url).text\n",
        "\n",
        "# Crear un array de una fila con todos los datos\n",
        "numeros = np.array(response.strip().replace(\"\\n\", \", \").split(\",\")).astype(int)\n",
        "\n",
        "# 1. Orden descendente\n",
        "numeros_descendente = np.sort(numeros)[::-1]\n",
        "\n",
        "# 2. Arreglo donde ningun número esta repetido\n",
        "sin_repetir = np.unique(numeros_descendente)\n",
        "\n",
        "# 3. Suma de los digitos de cada número\n",
        "# Separar y sumar los dígitos de números de 2 y 3 dígitos\n",
        "suma_digitos_2 = (sin_repetir // 10) + (sin_repetir % 10)\n",
        "suma_digitos_3 = (\n",
        "                  (sin_repetir // 100)\n",
        "                  + ((sin_repetir % 100) // 10)\n",
        "                  + (sin_repetir % 10)\n",
        "                  )\n",
        "\n",
        "# Aplica la suma según la cantidad de dígitos\n",
        "suma_digitos = np.where(sin_repetir < 100, suma_digitos_2, suma_digitos_3)\n",
        "\n",
        "\n",
        "condicion = (suma_digitos >= 10) & (suma_digitos < 20)\n",
        "filtrados = np.column_stack((sin_repetir[condicion], suma_digitos[condicion]))\n",
        "\n",
        "# Ordenar el resultado en orden ascendente\n",
        "filtrados_ordenados = filtrados[np.argsort(filtrados[:, 0])]\n",
        "\n",
        "# Resultados\n",
        "print(\"Números en orden descendente:\")\n",
        "print(numeros_descendente)\n",
        "print(\"\\nArreglo filtrado (número, suma de dígitos):\")\n",
        "print(filtrados_ordenados)\n"
      ],
      "metadata": {
        "id": "5PzDrWG5-Zl-",
        "outputId": "5b74793f-bb81-4f02-f2c6-4c6f94170a4b",
        "colab": {
          "base_uri": "https://localhost:8080/"
        }
      },
      "execution_count": null,
      "outputs": [
        {
          "output_type": "stream",
          "name": "stdout",
          "text": [
            "Números en orden descendente:\n",
            "[506 502 495 ... -45 -54 -69]\n",
            "\n",
            "Arreglo filtrado (número, suma de dígitos):\n",
            "[[ 38  11]\n",
            " [ 39  12]\n",
            " [ 47  11]\n",
            " [ 55  10]\n",
            " [ 57  12]\n",
            " [ 58  13]\n",
            " [ 64  10]\n",
            " [ 65  11]\n",
            " [ 66  12]\n",
            " [ 67  13]\n",
            " [ 68  14]\n",
            " [ 73  10]\n",
            " [ 74  11]\n",
            " [ 75  12]\n",
            " [ 76  13]\n",
            " [ 77  14]\n",
            " [ 78  15]\n",
            " [ 79  16]\n",
            " [ 82  10]\n",
            " [ 83  11]\n",
            " [ 84  12]\n",
            " [ 85  13]\n",
            " [ 86  14]\n",
            " [ 87  15]\n",
            " [ 88  16]\n",
            " [ 89  17]\n",
            " [ 91  10]\n",
            " [ 92  11]\n",
            " [ 93  12]\n",
            " [ 94  13]\n",
            " [ 95  14]\n",
            " [ 96  15]\n",
            " [ 97  16]\n",
            " [ 98  17]\n",
            " [ 99  18]\n",
            " [109  10]\n",
            " [118  10]\n",
            " [119  11]\n",
            " [127  10]\n",
            " [128  11]\n",
            " [129  12]\n",
            " [136  10]\n",
            " [137  11]\n",
            " [138  12]\n",
            " [139  13]\n",
            " [145  10]\n",
            " [146  11]\n",
            " [147  12]\n",
            " [148  13]\n",
            " [149  14]\n",
            " [154  10]\n",
            " [155  11]\n",
            " [156  12]\n",
            " [157  13]\n",
            " [158  14]\n",
            " [159  15]\n",
            " [163  10]\n",
            " [164  11]\n",
            " [165  12]\n",
            " [166  13]\n",
            " [167  14]\n",
            " [168  15]\n",
            " [169  16]\n",
            " [172  10]\n",
            " [173  11]\n",
            " [174  12]\n",
            " [175  13]\n",
            " [176  14]\n",
            " [177  15]\n",
            " [178  16]\n",
            " [179  17]\n",
            " [181  10]\n",
            " [182  11]\n",
            " [183  12]\n",
            " [184  13]\n",
            " [185  14]\n",
            " [186  15]\n",
            " [187  16]\n",
            " [188  17]\n",
            " [189  18]\n",
            " [190  10]\n",
            " [191  11]\n",
            " [192  12]\n",
            " [193  13]\n",
            " [194  14]\n",
            " [195  15]\n",
            " [196  16]\n",
            " [197  17]\n",
            " [198  18]\n",
            " [199  19]\n",
            " [208  10]\n",
            " [209  11]\n",
            " [217  10]\n",
            " [218  11]\n",
            " [219  12]\n",
            " [226  10]\n",
            " [227  11]\n",
            " [228  12]\n",
            " [229  13]\n",
            " [235  10]\n",
            " [236  11]\n",
            " [237  12]\n",
            " [238  13]\n",
            " [239  14]\n",
            " [244  10]\n",
            " [245  11]\n",
            " [246  12]\n",
            " [247  13]\n",
            " [248  14]\n",
            " [249  15]\n",
            " [253  10]\n",
            " [254  11]\n",
            " [255  12]\n",
            " [256  13]\n",
            " [257  14]\n",
            " [258  15]\n",
            " [259  16]\n",
            " [262  10]\n",
            " [263  11]\n",
            " [264  12]\n",
            " [265  13]\n",
            " [266  14]\n",
            " [267  15]\n",
            " [268  16]\n",
            " [269  17]\n",
            " [271  10]\n",
            " [272  11]\n",
            " [273  12]\n",
            " [274  13]\n",
            " [275  14]\n",
            " [276  15]\n",
            " [277  16]\n",
            " [278  17]\n",
            " [279  18]\n",
            " [280  10]\n",
            " [281  11]\n",
            " [282  12]\n",
            " [283  13]\n",
            " [284  14]\n",
            " [285  15]\n",
            " [286  16]\n",
            " [287  17]\n",
            " [288  18]\n",
            " [289  19]\n",
            " [290  11]\n",
            " [291  12]\n",
            " [292  13]\n",
            " [293  14]\n",
            " [294  15]\n",
            " [295  16]\n",
            " [296  17]\n",
            " [297  18]\n",
            " [298  19]\n",
            " [307  10]\n",
            " [308  11]\n",
            " [309  12]\n",
            " [316  10]\n",
            " [317  11]\n",
            " [318  12]\n",
            " [319  13]\n",
            " [325  10]\n",
            " [326  11]\n",
            " [327  12]\n",
            " [328  13]\n",
            " [329  14]\n",
            " [334  10]\n",
            " [335  11]\n",
            " [336  12]\n",
            " [337  13]\n",
            " [338  14]\n",
            " [339  15]\n",
            " [343  10]\n",
            " [344  11]\n",
            " [345  12]\n",
            " [346  13]\n",
            " [347  14]\n",
            " [348  15]\n",
            " [349  16]\n",
            " [352  10]\n",
            " [353  11]\n",
            " [354  12]\n",
            " [355  13]\n",
            " [356  14]\n",
            " [357  15]\n",
            " [358  16]\n",
            " [359  17]\n",
            " [361  10]\n",
            " [362  11]\n",
            " [363  12]\n",
            " [364  13]\n",
            " [365  14]\n",
            " [366  15]\n",
            " [367  16]\n",
            " [368  17]\n",
            " [369  18]\n",
            " [370  10]\n",
            " [371  11]\n",
            " [372  12]\n",
            " [373  13]\n",
            " [374  14]\n",
            " [375  15]\n",
            " [376  16]\n",
            " [377  17]\n",
            " [378  18]\n",
            " [379  19]\n",
            " [380  11]\n",
            " [381  12]\n",
            " [382  13]\n",
            " [383  14]\n",
            " [384  15]\n",
            " [385  16]\n",
            " [386  17]\n",
            " [387  18]\n",
            " [388  19]\n",
            " [390  12]\n",
            " [391  13]\n",
            " [392  14]\n",
            " [393  15]\n",
            " [394  16]\n",
            " [395  17]\n",
            " [396  18]\n",
            " [397  19]\n",
            " [406  10]\n",
            " [407  11]\n",
            " [408  12]\n",
            " [409  13]\n",
            " [415  10]\n",
            " [416  11]\n",
            " [417  12]\n",
            " [418  13]\n",
            " [419  14]\n",
            " [424  10]\n",
            " [425  11]\n",
            " [426  12]\n",
            " [427  13]\n",
            " [428  14]\n",
            " [433  10]\n",
            " [434  11]\n",
            " [435  12]\n",
            " [436  13]\n",
            " [437  14]\n",
            " [442  10]\n",
            " [446  14]\n",
            " [447  15]\n",
            " [448  16]\n",
            " [449  17]\n",
            " [451  10]\n",
            " [453  12]\n",
            " [455  14]\n",
            " [458  17]\n",
            " [459  18]\n",
            " [464  14]\n",
            " [467  17]\n",
            " [473  14]\n",
            " [475  16]\n",
            " [476  17]\n",
            " [477  18]\n",
            " [478  19]\n",
            " [481  13]\n",
            " [491  14]\n",
            " [495  18]\n",
            " [506  11]]\n"
          ]
        }
      ]
    },
    {
      "cell_type": "markdown",
      "source": [
        "### 20\n",
        "Utilice como referencia el archivo [numeros_v20210520.txt](https://raw.githubusercontent.com/gabrielawad/programacion-para-ingenieria/refs/heads/main/archivos-datos/NumPy/numeros_v20210520.txt). Operaciones solicitadas: uno, encontrar y organizar en orden descendente los números presentes en el archivo que sean cuadrados perfectos de otro número contenido en el archivo. Muestre en un archivo tanto el cuadrado perfecto como el número asociado con él. Dos, construya un arreglo en orden ascendente de la descomposición factorial de los 20 números más grandes contenidos en el archivo. Muestre en un archivo tanto el número como su descomposición factorial en la misma fila."
      ],
      "metadata": {
        "id": "IHNGASE4-cSd"
      }
    },
    {
      "cell_type": "code",
      "source": [
        "# Resuelva en esta celda el ejercicio 20\n",
        "import numpy as np\n",
        "import requests\n",
        "\n",
        "# Descargar el archivo desde GitHub\n",
        "url = \"https://raw.githubusercontent.com/gabrielawad/\\\n",
        "programacion-para-ingenieria/refs/heads/main/archivos-datos/NumPy/\\\n",
        "numeros_v20210520.txt\"\n",
        "\n",
        "# Extraer el texto del archivo\n",
        "response = requests.get(url).text\n",
        "\n",
        "# Crear un array de una fila con todos los datos\n",
        "numeros = np.array(response.strip().replace(\"\\n\", \", \").split(\",\")).astype(int)\n",
        "\n",
        "# Matriz de las raices\n",
        "raices = np.sqrt(numeros)\n",
        "\n",
        "# Matriz de booleas para posiciónes de cuadrados perfectos en el archivo\n",
        "cuadrado_perfecto = np.isin(raices, numeros)\n",
        "\n",
        "# Todos los cuadrados perfectos en el archivo y su numero asociado\n",
        "cuadrados_perfectos = raices[cuadrado_perfecto].astype(int)\n",
        "numero_asociado = numeros[cuadrado_perfecto]\n",
        "\n",
        "resultado = np.column_stack((cuadrados_perfectos, numero_asociado))\n",
        "\n",
        "# Eliminar filas repetidas del resultado\n",
        "resultado_unico = np.unique(resultado, axis=0)\n",
        "resultado_unico_ordenado = np.sort(resultado_unico)\n",
        "\n",
        "with open(\"unico_ordenado.txt\", \"w\") as numeros:\n",
        "  for i in resultado_unico_ordenado:\n",
        "    # Números aleatorios enteros en el intervalo (1, 500) generados\n",
        "    #con una distribución uniforme\n",
        "    numeros.write(str(i[0])+\" \"+str(i[1])+\"\\n\")\n",
        "\n",
        "# Descargar el archivo en el pc\n",
        "fl.download(\"unico_ordenado.txt\")"
      ],
      "metadata": {
        "id": "xL1lUGMW_VPU",
        "outputId": "7cd623dc-8c73-4b7a-9b26-e25a896f63cf",
        "colab": {
          "base_uri": "https://localhost:8080/",
          "height": 52
        }
      },
      "execution_count": null,
      "outputs": [
        {
          "output_type": "stream",
          "name": "stderr",
          "text": [
            "<ipython-input-41-2adf2d71fde6>:17: RuntimeWarning: invalid value encountered in sqrt\n",
            "  raices = np.sqrt(numeros)\n"
          ]
        },
        {
          "output_type": "display_data",
          "data": {
            "text/plain": [
              "<IPython.core.display.Javascript object>"
            ],
            "application/javascript": [
              "\n",
              "    async function download(id, filename, size) {\n",
              "      if (!google.colab.kernel.accessAllowed) {\n",
              "        return;\n",
              "      }\n",
              "      const div = document.createElement('div');\n",
              "      const label = document.createElement('label');\n",
              "      label.textContent = `Downloading \"${filename}\": `;\n",
              "      div.appendChild(label);\n",
              "      const progress = document.createElement('progress');\n",
              "      progress.max = size;\n",
              "      div.appendChild(progress);\n",
              "      document.body.appendChild(div);\n",
              "\n",
              "      const buffers = [];\n",
              "      let downloaded = 0;\n",
              "\n",
              "      const channel = await google.colab.kernel.comms.open(id);\n",
              "      // Send a message to notify the kernel that we're ready.\n",
              "      channel.send({})\n",
              "\n",
              "      for await (const message of channel.messages) {\n",
              "        // Send a message to notify the kernel that we're ready.\n",
              "        channel.send({})\n",
              "        if (message.buffers) {\n",
              "          for (const buffer of message.buffers) {\n",
              "            buffers.push(buffer);\n",
              "            downloaded += buffer.byteLength;\n",
              "            progress.value = downloaded;\n",
              "          }\n",
              "        }\n",
              "      }\n",
              "      const blob = new Blob(buffers, {type: 'application/binary'});\n",
              "      const a = document.createElement('a');\n",
              "      a.href = window.URL.createObjectURL(blob);\n",
              "      a.download = filename;\n",
              "      div.appendChild(a);\n",
              "      a.click();\n",
              "      div.remove();\n",
              "    }\n",
              "  "
            ]
          },
          "metadata": {}
        },
        {
          "output_type": "display_data",
          "data": {
            "text/plain": [
              "<IPython.core.display.Javascript object>"
            ],
            "application/javascript": [
              "download(\"download_9d06be33-93cd-4861-9c43-732ce004542f\", \"unico_ordenado.txt\", 21)"
            ]
          },
          "metadata": {}
        }
      ]
    },
    {
      "cell_type": "code",
      "source": [
        "import numpy as np\n",
        "import requests\n",
        "\n",
        "# Descargar el archivo desde GitHub\n",
        "url = \"https://raw.githubusercontent.com/gabrielawad/\\\n",
        "programacion-para-ingenieria/refs/heads/main/archivos-datos/NumPy/\\\n",
        "numeros_v20210520.txt\"\n",
        "\n",
        "# Extraer el texto del archivo\n",
        "response = requests.get(url).text\n",
        "\n",
        "# Crear un array de una fila con todos los datos\n",
        "numeros = np.array(response.strip().replace(\"\\n\", \", \").split(\",\")).astype(int)\n",
        "\n",
        "# Obtener los 20 números más grandes en orden ascendente\n",
        "acendente = np.sort(numeros)\n",
        "grandes = acendente[-20:]\n",
        "\n",
        "# Generar una lista de posibles divisores (hasta el máximo número en grandes)\n",
        "divisores = np.arange(2, grandes.max() + 1)\n",
        "\n",
        "# Función vectorizada para obtener factores primos\n",
        "def obtener_factores(n, divisores):\n",
        "    es_divisible = n % divisores == 0\n",
        "    factores = divisores[es_divisible]\n",
        "    return factores\n",
        "\n",
        "# Aplicar la descomposición factorial\n",
        "factores_primos = [obtener_factores(n, divisores) for n in grandes]\n",
        "\n",
        "# Crear representaciones en cadena para los resultados\n",
        "resultados = np.array([\n",
        "    f\"{num}: {'*'.join(map(str, factores))}\"\n",
        "    for num, factores in zip(grandes, factores_primos)\n",
        "])\n",
        "\n",
        "# Guardar los resultados en un archivo\n",
        "np.savetxt(\"descomposicion_factorial.txt\", resultados, fmt=\"%s\", delimiter=\"\\n\")\n",
        "\n",
        "print(\"Archivo 'descomposicion_factorial.txt' creado con éxito.\")\n"
      ],
      "metadata": {
        "colab": {
          "base_uri": "https://localhost:8080/"
        },
        "id": "OcRWRi1382Aj",
        "outputId": "37933cfe-086e-4023-c0b3-eee653d966b5"
      },
      "execution_count": null,
      "outputs": [
        {
          "output_type": "stream",
          "name": "stdout",
          "text": [
            "Archivo 'descomposicion_factorial.txt' creado con éxito.\n"
          ]
        }
      ]
    }
  ]
}
{
  "nbformat": 4,
  "nbformat_minor": 0,
  "metadata": {
    "colab": {
      "provenance": [],
      "toc_visible": true,
      "include_colab_link": true
    },
    "kernelspec": {
      "name": "python3",
      "display_name": "Python 3"
    }
  },
  "cells": [
    {
      "cell_type": "markdown",
      "metadata": {
        "id": "view-in-github",
        "colab_type": "text"
      },
      "source": [
        "<a href=\"https://colab.research.google.com/github/KevinGuio/programacion-para-ingenieria/blob/main/Kevin_Guio_Taller_01_expresiones_regulares.ipynb\" target=\"_parent\"><img src=\"https://colab.research.google.com/assets/colab-badge.svg\" alt=\"Open In Colab\"/></a>"
      ]
    },
    {
      "cell_type": "markdown",
      "source": [
        "## «*He aprendido a no intentar convencer a nadie. El trabajo de convencer es una falta de respeto, es un intento de colonización del otro*».\n",
        "### [José Saramago](https://es.wikipedia.org/wiki/Jos%C3%A9_Saramago)"
      ],
      "metadata": {
        "id": "cr-wZpWhC2dt"
      }
    },
    {
      "metadata": {
        "id": "tpFFfpLa7D_R"
      },
      "cell_type": "markdown",
      "source": [
        "# Taller 01 expresiones regulares en Python\n",
        "\n",
        "Los objetivos de este taller son:\n",
        "\n",
        "* Comprender qué son las expresiones regulares y su importancia en el procesamiento de texto.\n",
        "\n",
        "* Aprender la sintaxis básica de las expresiones regulares en Python.\n",
        "\n",
        "* Practicar la aplicación de expresiones regulares en la manipulación y búsqueda de texto.\n",
        "\n",
        "* Familiarizarse con herramientas y recursos para trabajar eficientemente con expresiones regulares."
      ]
    },
    {
      "cell_type": "markdown",
      "source": [
        "## Definición y conceptos básicos\n",
        "\n",
        "Las **expresiones regulares** (*regex* o *regexp*) son secuencias de caracteres que definen un patrón de búsqueda.\n",
        "\n",
        "Estos patrones se utilizan para encontrar cadenas de texto que coincidan con ciertos criterios dentro de un texto más grande.\n",
        "\n",
        "Los patrones de búsqueda pueden incluir caracteres literales (como letras y números) y metacaracteres (que representan clases de caracteres, repeticiones, posiciones en el texto, y otros más)."
      ],
      "metadata": {
        "id": "Q1cx54I9GtOj"
      }
    },
    {
      "cell_type": "markdown",
      "source": [
        "## Información adicional y herramientas online para trabajar con expresiones regulares\n",
        "\n",
        "Información adicional:\n",
        "\n",
        "* [re — Regular expression operations](https://docs.python.org/3/library/re.html)\n",
        "\n",
        "* [W3Schools](https://www.w3schools.com/python/python_regex.asp)\n",
        "\n",
        "Herramientas online:\n",
        "\n",
        "* [Regex101](https://regex101.com/)\n",
        "* [Regexr](https://regexr.com/)"
      ],
      "metadata": {
        "id": "A9nrBZ68QOe3"
      }
    },
    {
      "cell_type": "markdown",
      "source": [
        "# Sintaxis básica de las expresiones regulares en Python"
      ],
      "metadata": {
        "id": "iKHsn1KcZibB"
      }
    },
    {
      "cell_type": "markdown",
      "source": [
        "## Caracteres literales y metacaracteres\n",
        "\n",
        "Los caracteres literales representan sus mismos valores en una expresión regular.\n",
        "\n",
        "Caracteres literales: a, b, 123, y similares.\n",
        "\n",
        "Los metacaracteres son caracteres con un significado especial en expresiones regulares.\n",
        "\n",
        "Metacaracteres: cualquier carácter (excepto nueva línea), * (0 o más repeticiones), + (1 o más repeticiones), ? (0 o 1 repetición).\n"
      ],
      "metadata": {
        "id": "tcByS5IlZmVA"
      }
    },
    {
      "cell_type": "code",
      "source": [
        "# Importar la librería requerida\n",
        "import re\n",
        "\n",
        "# Crear una cadena de texto de referencia\n",
        "texto = \"Python es genial!\"\n",
        "\n",
        "# Ejemplo de caracteres literales\n",
        "# 'es' coincide con los caracteres literales 'es'\n",
        "coincidencias_0 = re.findall(r'es', texto)\n",
        "\n",
        "# Resultado: ['es']\n",
        "print(coincidencias_0)\n",
        "\n",
        "# Ejemplo de metacaracteres\n",
        "# \\w+ coincide con una o más ocurrencias de cualquier carácter alfanumérico\n",
        "coincidencias_1 = re.findall(r'Py\\w+n', texto)\n",
        "\n",
        "# Resultado: ['Python']\n",
        "print(coincidencias_1)"
      ],
      "metadata": {
        "id": "HS7nRQ0NaLPX",
        "colab": {
          "base_uri": "https://localhost:8080/"
        },
        "outputId": "6759f428-6d43-44bc-a6aa-4cf8171d6e34"
      },
      "execution_count": null,
      "outputs": [
        {
          "output_type": "stream",
          "name": "stdout",
          "text": [
            "['es']\n",
            "['Python']\n"
          ]
        }
      ]
    },
    {
      "cell_type": "markdown",
      "source": [
        "## Clases de caracteres y cuantificadores:\n",
        "\n",
        "Las clases de caracteres permiten especificar un conjunto de caracteres que coinciden con uno cualquiera de ellos.\n",
        "\n",
        "Los cuantificadores se utilizan para especificar la cantidad de veces que se debe repetir un carácter o un conjunto de caracteres.\n",
        "\n",
        "Ejemplo:\n",
        "\n",
        "Clases de caracteres:\n",
        "* [A-Z] (cualquier letra mayúscula)\n",
        "* [a-z] (cualquier letra minúscula)\n",
        "* [0-9] (cualquier dígito)\n",
        "* [aeiou] (cualquier vocal)\n",
        "\n",
        "Cuantificadores:\n",
        "* {m} (exactamente m repeticiones)\n",
        "* {m, n} (entre m y n repeticiones)\n",
        "* {m,} (al menos m repeticiones)\n",
        "* {,n} (hasta n repeticiones)"
      ],
      "metadata": {
        "id": "TmFK29cJGEbr"
      }
    },
    {
      "cell_type": "code",
      "source": [
        "# Importar la librería requerida\n",
        "import re\n",
        "\n",
        "# Ejemplo de clases de caracteres y cuantificadores\n",
        "texto = \"La contraseña es 123456\"\n",
        "\n",
        "# Coincide con exactamente seis dígitos\n",
        "coincidencias_2 = re.findall(r'\\d{6}', texto)\n",
        "\n",
        "# Resultado: ['123456']\n",
        "print(coincidencias_2)"
      ],
      "metadata": {
        "id": "TWXOJH2PHTJE",
        "colab": {
          "base_uri": "https://localhost:8080/"
        },
        "outputId": "07b00d3c-36ec-4ce2-fc2e-eee6329b53d9"
      },
      "execution_count": null,
      "outputs": [
        {
          "output_type": "stream",
          "name": "stdout",
          "text": [
            "['123456']\n"
          ]
        }
      ]
    },
    {
      "cell_type": "markdown",
      "source": [
        "## Grupos de captura y grupos sin captura:\n",
        "\n",
        "Los grupos de captura permiten extraer partes específicas de una cadena coincidente.\n",
        "\n",
        "Los grupos sin captura agrupan subexpresiones sin realizar capturas.\n",
        "\n",
        "Ejemplo:\n",
        "\n",
        "Grupo de captura:\n",
        "* (\\w+) (captura una palabra)\n",
        "* (\\d{3}) (captura un número de tres dígitos)\n",
        "\n",
        "Grupo sin captura:\n",
        "* (?:\\w+) (agrupa una palabra sin captura)\n",
        "* (?:\\d{3}) (agrupa un número de tres dígitos sin captura)"
      ],
      "metadata": {
        "id": "1EDPIR4GIBGd"
      }
    },
    {
      "cell_type": "code",
      "source": [
        "# Importar la librería requerida\n",
        "import re\n",
        "\n",
        "# Ejemplo de grupos con captura\n",
        "numero_telefono = \"El número de teléfono es 555-1234567\"\n",
        "\n",
        "# Dos grupos de captura para el código de área y el número\n",
        "patron_0 = r'(\\d{3})-(\\d{7})'\n",
        "\n",
        "# Encontrar todas las coincidencias\n",
        "coincidencias_3 = re.findall(patron_0, numero_telefono)\n",
        "\n",
        "# Resultado: [('555', '1234567')]\n",
        "print(coincidencias_3)\n",
        "\n",
        "# Ejemplo de grupos sin captura\n",
        "texto = \"Este es un ejemplo de expresión regular\"\n",
        "\n",
        "# Grupo sin captura para \"un\" seguido de una palabra\n",
        "patron_1 = r'(?:un\\s)(\\w+)'\n",
        "\n",
        "# Encontrar todas las coincidencias\n",
        "coincidencias_4 = re.findall(patron_1, texto)\n",
        "\n",
        "# Resultado: ['ejemplo']\n",
        "print(coincidencias_4)"
      ],
      "metadata": {
        "id": "yyofobvPH7Cj",
        "colab": {
          "base_uri": "https://localhost:8080/"
        },
        "outputId": "2fcc1ac5-bbcb-4205-a62f-941b3180412f"
      },
      "execution_count": null,
      "outputs": [
        {
          "output_type": "stream",
          "name": "stdout",
          "text": [
            "[('555', '1234567')]\n",
            "['ejemplo']\n"
          ]
        }
      ]
    },
    {
      "cell_type": "markdown",
      "source": [
        "## Uso de caracteres especiales como \\b, ^, $,\n",
        "\n",
        "Los caracteres especiales tienen un significado especial en expresiones regulares y se utilizan para representar ciertas posiciones en el texto, como el inicio o el final de una línea, límites de palabra.\n",
        "\n",
        "Ejemplo:\n",
        "\n",
        "* ^: coincide con el inicio de una cadena o línea.\n",
        "* $: coincide con el final de una cadena o línea.\n",
        "* \\b: límite de palabra"
      ],
      "metadata": {
        "id": "JPT0g79GKJBD"
      }
    },
    {
      "cell_type": "code",
      "source": [
        "# Importar la librería requerida\n",
        "import re\n",
        "\n",
        "# Ejemplo de uso de caracteres especiales:\n",
        "texto = \"Python es un lenguaje de programación. Python es poderoso\"\n",
        "\n",
        "# Coincide solo si la cadena comienza con 'Python'\n",
        "patron_inicio = r'^Python'\n",
        "\n",
        "# Coincide solo si la cadena termina con 'poderoso'\n",
        "patron_final = r'poderoso$'\n",
        "\n",
        " # Coincide solo con la palabra 'Python' como una palabra completa\n",
        "patron_palabra = r'\\bPython\\b'\n",
        "\n",
        "# Buscar el inicio de la cadena\n",
        "inicio = re.findall(patron_inicio, texto)\n",
        "print(\"Coincidencias al inicio:\", inicio)\n",
        "\n",
        "# Buscar el final de la cadena\n",
        "final = re.findall(patron_final, texto)\n",
        "print(\"Coincidencias al final:\", final)\n",
        "\n",
        "# Buscar la palabra 'Python' como una palabra completa\n",
        "palabra = re.findall(patron_palabra, texto)\n",
        "print(\"Coincidencias de palabra completa:\", palabra)"
      ],
      "metadata": {
        "id": "nYUMQ8KbJTU5",
        "colab": {
          "base_uri": "https://localhost:8080/"
        },
        "outputId": "48580c8a-8d72-452e-f317-7b247ba0dd2d"
      },
      "execution_count": null,
      "outputs": [
        {
          "output_type": "stream",
          "name": "stdout",
          "text": [
            "Coincidencias al inicio: ['Python']\n",
            "Coincidencias al final: ['poderoso']\n",
            "Coincidencias de palabra completa: ['Python', 'Python']\n"
          ]
        }
      ]
    },
    {
      "cell_type": "markdown",
      "source": [
        "# Librería *re*\n",
        "\n",
        "La librería ***re*** de Python proporciona funciones para trabajar con expresiones regulares."
      ],
      "metadata": {
        "id": "JwUkS4dsMPlw"
      }
    },
    {
      "cell_type": "markdown",
      "source": [
        "## re.match(patron, cadena)\n",
        "\n",
        "Esta función intenta hacer coincidir el patrón especificado al principio de la cadena. Si hay una coincidencia, devuelve un objeto de coincidencia; de lo contrario, devuelve *None*."
      ],
      "metadata": {
        "id": "4sO1OSPjND-E"
      }
    },
    {
      "cell_type": "code",
      "source": [
        "# Importar la librería requerida\n",
        "import re\n",
        "\n",
        "# Crear una cadena de texto de referencia\n",
        "cadena = \"Python es un lenguaje de programación\"\n",
        "\n",
        "# Crear un patrón de referencia\n",
        "patron = r'Python'\n",
        "\n",
        "# Buscar el patrón en la cadena\n",
        "resultado = re.match(patron, cadena)\n",
        "\n",
        "# Mostrar el resultado\n",
        "if resultado:\n",
        "    print(\"Se encontró una coincidencia:\", resultado.group())\n",
        "else:\n",
        "    print(\"No se encontró ninguna coincidencia\")"
      ],
      "metadata": {
        "id": "Uki6CgL5Nzvu",
        "colab": {
          "base_uri": "https://localhost:8080/"
        },
        "outputId": "d40c9ccd-e466-4de3-832e-f32fadfae712"
      },
      "execution_count": null,
      "outputs": [
        {
          "output_type": "stream",
          "name": "stdout",
          "text": [
            "Se encontró una coincidencia: Python\n"
          ]
        }
      ]
    },
    {
      "cell_type": "markdown",
      "source": [
        "## re.search(patron, cadena)\n",
        "\n",
        "Esta función busca en toda la cadena una coincidencia con el patrón especificado. Si se encuentra una coincidencia, devuelve **un** objeto de coincidencia; de lo contrario, devuelve *None*."
      ],
      "metadata": {
        "id": "6BaRIh47OFWe"
      }
    },
    {
      "cell_type": "code",
      "source": [
        "# Importar la librería requerida\n",
        "import re\n",
        "\n",
        "# Crear una cadena de texto de referencia\n",
        "cadena = \"Python es un lenguaje de programación\"\n",
        "\n",
        "# Crear un patrón de referencia\n",
        "patron = r'lenguaje'\n",
        "\n",
        "# Buscar el patrón en la cadena\n",
        "resultado = re.search(patron, cadena)\n",
        "\n",
        "# Mostrar el resultado\n",
        "if resultado:\n",
        "    print(\"Se encontró una coincidencia:\", resultado.group())\n",
        "else:\n",
        "    print(\"No se encontró ninguna coincidencia\")"
      ],
      "metadata": {
        "id": "yXoBWMeHOQ4N",
        "colab": {
          "base_uri": "https://localhost:8080/"
        },
        "outputId": "f40ca429-3335-4d6d-9750-8d4cb0fe84cf"
      },
      "execution_count": null,
      "outputs": [
        {
          "output_type": "stream",
          "name": "stdout",
          "text": [
            "Se encontró una coincidencia: lenguaje\n"
          ]
        }
      ]
    },
    {
      "cell_type": "markdown",
      "source": [
        "## re.findall(patron, cadena)\n",
        "\n",
        "Esta función encuentra todas las coincidencias del patrón en la cadena y devuelve **una lista** de todas las coincidencias."
      ],
      "metadata": {
        "id": "69-AHNLbOsH3"
      }
    },
    {
      "cell_type": "code",
      "source": [
        "# Importar la librería requerida\n",
        "import re\n",
        "\n",
        "# Crear una cadena de texto de referencia\n",
        "cadena = \"Python es un lenguaje de programación. Python es poderoso\"\n",
        "\n",
        "# Crear un patrón de referencia\n",
        "patron = r'Python'\n",
        "\n",
        "# Buscar el patrón en la cadena\n",
        "resultado = re.findall(patron, cadena)\n",
        "\n",
        "# Mostrar el resultado\n",
        "print(\"Coincidencias encontradas:\", resultado)"
      ],
      "metadata": {
        "id": "AlDoSIYhO14x",
        "colab": {
          "base_uri": "https://localhost:8080/"
        },
        "outputId": "a2c665d3-787d-4d4c-e72e-e7ba8d31fb18"
      },
      "execution_count": null,
      "outputs": [
        {
          "output_type": "stream",
          "name": "stdout",
          "text": [
            "Coincidencias encontradas: ['Python', 'Python']\n"
          ]
        }
      ]
    },
    {
      "cell_type": "markdown",
      "source": [
        "## re.sub(patron, reemplazo, cadena)\n",
        "\n",
        "Esta función busca todas las coincidencias del patrón en la cadena y las **reemplaza** con el texto especificado en el argumento de reemplazo."
      ],
      "metadata": {
        "id": "COsr98cSPDyv"
      }
    },
    {
      "cell_type": "code",
      "source": [
        "# Importar la librería requerida\n",
        "import re\n",
        "\n",
        "# Crear una cadena de texto de referencia\n",
        "cadena = \"Python es un lenguaje de programación\"\n",
        "\n",
        "# Crear un patrón de referencia\n",
        "patron = r'lenguaje'\n",
        "\n",
        "# Reemplazar el patrón en la cadena\n",
        "reemplazo = \"idioma\"\n",
        "\n",
        "# Buscar el patrón en la cadena\n",
        "resultado = re.sub(patron, reemplazo, cadena)\n",
        "\n",
        "# Mostrar el resultado\n",
        "print(\"Cadena modificada:\", resultado)"
      ],
      "metadata": {
        "id": "LhDHY3pNPM-e",
        "colab": {
          "base_uri": "https://localhost:8080/"
        },
        "outputId": "e3d3721c-6e70-4869-ef90-a46f2d0555b0"
      },
      "execution_count": null,
      "outputs": [
        {
          "output_type": "stream",
          "name": "stdout",
          "text": [
            "Cadena modificada: Python es un idioma de programación\n"
          ]
        }
      ]
    },
    {
      "cell_type": "markdown",
      "source": [
        "## Ejemplos de usos de expresiones regulares"
      ],
      "metadata": {
        "id": "y9xh-61jW8AC"
      }
    },
    {
      "cell_type": "markdown",
      "source": [
        "### Validación de formatos de datos\n",
        "\n",
        "Verificación de números de teléfono, direcciones de correo electrónico, códigos postales."
      ],
      "metadata": {
        "id": "F9aX3QkHXCfE"
      }
    },
    {
      "cell_type": "code",
      "source": [
        "# Importar la librería requerida\n",
        "import re\n",
        "\n",
        "def verificar_texto(texto):\n",
        "    \"\"\"Verifica la presencia de números de teléfono, direcciones de correo\n",
        "    electrónico y códigos postales en un texto.\n",
        "\n",
        "    Args:\n",
        "        texto (str): El texto en el que se buscarán los patrones.\n",
        "\n",
        "    Returns:\n",
        "        tuple: Una tupla que contiene listas de números de teléfono,\n",
        "        direcciones de correo electrónico  códigos postales encontrados en el\n",
        "        texto, respectivamente.\n",
        "    \"\"\"\n",
        "    # Patrón para verificar números de teléfono\n",
        "    patron_telefono = r'\\b\\d{3}-\\d{3}-\\d{4}\\b'\n",
        "\n",
        "    # Patrón para verificar direcciones de correo electrónico\n",
        "    patron_correo = r'\\b[A-Za-z0-9._%+-]+@[A-Za-z0-9.-]+\\.[A-Z|a-z]{2,}\\b'\n",
        "\n",
        "    # Patrón para verificar códigos postales (formato de 5 dígitos)\n",
        "    patron_codigo_postal = r'\\b\\d{5}\\b'\n",
        "\n",
        "    # Buscar números de teléfono en el texto\n",
        "    telefonos = re.findall(patron_telefono, texto)\n",
        "\n",
        "    # Buscar direcciones de correo electrónico en el texto\n",
        "    correos = re.findall(patron_correo, texto)\n",
        "\n",
        "    # Buscar códigos postales en el texto\n",
        "    codigos_postales = re.findall(patron_codigo_postal, texto)\n",
        "\n",
        "    return telefonos, correos, codigos_postales\n",
        "\n",
        "# Texto de ejemplo para verificar\n",
        "texto_ejemplo = \"\"\"\n",
        "Mi número de teléfono es 123-456-7890 y mi correo es ejemplo@gmail.com.\n",
        "Vivo en la calle 1234 y mi código postal es 12345.\n",
        "Puedes llamarme al 555-123-4567 o escribirme a otroejemplo@hotmail.com.\n",
        "\"\"\"\n",
        "\n",
        "# Verificar el texto de ejemplo\n",
        "telefonos, correos, codigos_postales = verificar_texto(texto_ejemplo)\n",
        "\n",
        "# Mostrar los resultados\n",
        "print(\"Números de teléfono encontrados:\", telefonos)\n",
        "print(\"Direcciones de correo electrónico encontradas:\", correos)\n",
        "print(\"Códigos postales encontrados:\", codigos_postales)"
      ],
      "metadata": {
        "id": "NRZ3Zb4sX8ym",
        "colab": {
          "base_uri": "https://localhost:8080/"
        },
        "outputId": "0198233a-706f-41bc-d246-aa23a2d9992d"
      },
      "execution_count": null,
      "outputs": [
        {
          "output_type": "stream",
          "name": "stdout",
          "text": [
            "Números de teléfono encontrados: ['123-456-7890', '555-123-4567']\n",
            "Direcciones de correo electrónico encontradas: ['ejemplo@gmail.com', 'otroejemplo@hotmail.com']\n",
            "Códigos postales encontrados: ['12345']\n"
          ]
        }
      ]
    },
    {
      "cell_type": "markdown",
      "source": [
        "### Búsqueda de patrones específicos en un texto\n",
        "\n",
        "Encontrar palabras clave, fechas, direcciones."
      ],
      "metadata": {
        "id": "ySHv_M1dXRqB"
      }
    },
    {
      "cell_type": "code",
      "source": [
        "# Importar la librería requerida\n",
        "import re\n",
        "\n",
        "def encontrar_informacion(texto):\n",
        "    \"\"\"Encuentra palabras clave, fechas y direcciones en un texto.\n",
        "\n",
        "    Args:\n",
        "        texto (str): El texto en el que se buscarán los patrones.\n",
        "\n",
        "    Returns:\n",
        "        tuple: Una tupla que contiene listas de palabras clave, fechas y\n",
        "        direcciones encontradas en el texto, respectivamente.\n",
        "    \"\"\"\n",
        "    # Patrón para buscar palabras clave (ejemplo: \"importante\", \"urgente\",\n",
        "    # \"importante\", etc.)\n",
        "    patron_palabra_clave = r'\\b(importante|urgente|crítico)\\b'\n",
        "\n",
        "    # Patrón para buscar fechas en formato dd/mm/yyyy\n",
        "    patron_fecha = r'\\b(\\d{1,2}/\\d{1,2}/\\d{4})\\b'\n",
        "\n",
        "    # Patrón para buscar direcciones (ejemplo: \"calle 123\", \"avenida principal\",\n",
        "    # \"plaza central\", etc.)\n",
        "    patron_direccion = r'\\b(calle|avenida|plaza)\\s[A-Za-z]+\\s\\d+\\b'\n",
        "\n",
        "    # Buscar palabras clave en el texto\n",
        "    palabras_clave = re.findall(patron_palabra_clave, texto)\n",
        "\n",
        "    # Buscar fechas en el texto\n",
        "    fechas = re.findall(patron_fecha, texto)\n",
        "\n",
        "    # Buscar direcciones en el texto\n",
        "    direcciones = re.findall(patron_direccion, texto)\n",
        "\n",
        "    return palabras_clave, fechas, direcciones\n",
        "\n",
        "# Texto de ejemplo para verificar\n",
        "texto_ejemplo = \"\"\"\n",
        "La reunión es muy importante y urgente. Se llevará a cabo el 15/02/2024 en la\n",
        "calle principal 123. No olvides traer el informe crítico. La dirección es\n",
        "avenida central 456. Nos vemos allí.\n",
        "\"\"\"\n",
        "\n",
        "# Encontrar información en el texto de ejemplo\n",
        "palabras_clave, fechas, direcciones = encontrar_informacion(texto_ejemplo)\n",
        "\n",
        "# Mostrar los resultados\n",
        "print(\"Palabras clave encontradas:\", palabras_clave)\n",
        "print(\"Fechas encontradas:\", fechas)\n",
        "print(\"Direcciones encontradas:\", direcciones)"
      ],
      "metadata": {
        "id": "q52y2ZKnX9-J",
        "colab": {
          "base_uri": "https://localhost:8080/"
        },
        "outputId": "10e12025-12b6-4780-e1b8-dfd33326ef70"
      },
      "execution_count": null,
      "outputs": [
        {
          "output_type": "stream",
          "name": "stdout",
          "text": [
            "Palabras clave encontradas: ['importante', 'urgente', 'crítico']\n",
            "Fechas encontradas: ['15/02/2024']\n",
            "Direcciones encontradas: ['calle', 'avenida']\n"
          ]
        }
      ]
    },
    {
      "cell_type": "markdown",
      "source": [
        "### Filtrado y limpieza de datos en conjuntos de texto grandes"
      ],
      "metadata": {
        "id": "3sg9cF80XfHC"
      }
    },
    {
      "cell_type": "code",
      "source": [
        "# Importar la librería requerida\n",
        "import re\n",
        "\n",
        "def limpiar_texto(texto):\n",
        "    \"\"\"Filtra y limpia un texto eliminando caracteres no deseados y\n",
        "    palabras comunes.\n",
        "\n",
        "    Args:\n",
        "        texto (str): El texto que se va a limpiar.\n",
        "\n",
        "    Returns:\n",
        "        str: El texto limpio.\n",
        "    \"\"\"\n",
        "    # Convertir todo el texto a minúsculas\n",
        "    texto = texto.lower()\n",
        "\n",
        "    # Eliminar caracteres no alfabéticos excepto espacios\n",
        "    texto = re.sub(r'[^a-z\\s]', '', texto)\n",
        "\n",
        "    # Eliminar palabras comunes que no aportan significado\n",
        "    palabras_inutiles = {'el', 'la', 'los', 'las', 'un', 'una', 'unos', 'unas',\n",
        "                         'de', 'del', 'al', 'con', 'para', 'por', 'sobre',\n",
        "                         'entre', 'hacia'}\n",
        "\n",
        "    # Dividir el texto en palabras\n",
        "    palabras = texto.split()\n",
        "\n",
        "    # Crear una lista para almacenar las palabras filtradas\n",
        "    palabras_filtradas = []\n",
        "\n",
        "    # Filtrar palabras comunes\n",
        "    for palabra in palabras:\n",
        "        if palabra not in palabras_inutiles:\n",
        "          palabras_filtradas.append(palabra)\n",
        "\n",
        "    # Reconstruir el texto limpio\n",
        "    texto_limpio = ' '.join(palabras_filtradas)\n",
        "\n",
        "    return texto_limpio\n",
        "\n",
        "# Texto de ejemplo\n",
        "texto_ejemplo = \"\"\"\n",
        "En un lugar de la Mancha, de cuyo nombre no quiero acordarme, no ha mucho tiempo\n",
        " que vivía un hidalgo de los de lanza en astillero, adarga antigua, rocín flaco\n",
        "  y galgo corredor.\n",
        "\"\"\"\n",
        "\n",
        "# Limpiar el texto de ejemplo\n",
        "texto_limpio = limpiar_texto(texto_ejemplo)\n",
        "\n",
        "# Mostrar el texto limpio\n",
        "print(\"Texto limpio:\")\n",
        "print(texto_limpio)\n"
      ],
      "metadata": {
        "id": "Bp-XO5CoiGgp",
        "colab": {
          "base_uri": "https://localhost:8080/"
        },
        "outputId": "575976e4-1b1a-4bab-afc8-bc7f146c75b8"
      },
      "execution_count": null,
      "outputs": [
        {
          "output_type": "stream",
          "name": "stdout",
          "text": [
            "Texto limpio:\n",
            "en lugar mancha cuyo nombre no quiero acordarme no ha mucho tiempo que viva hidalgo lanza en astillero adarga antigua rocn flaco y galgo corredor\n"
          ]
        }
      ]
    },
    {
      "cell_type": "markdown",
      "source": [
        "# Ejercicios"
      ],
      "metadata": {
        "id": "hfp66KZgVdSA"
      }
    },
    {
      "cell_type": "code",
      "source": [
        "# Libreria para verificar el estilo de PEP8 en los codigos\n",
        "!pip install pycodestyle pycodestyle_magic\n",
        "!pip install flake8\n",
        "%load_ext pycodestyle_magic"
      ],
      "metadata": {
        "id": "HcjoWASrAcRA",
        "outputId": "a26e5381-4f52-43be-d8fe-6f369ef37612",
        "colab": {
          "base_uri": "https://localhost:8080/"
        }
      },
      "execution_count": null,
      "outputs": [
        {
          "output_type": "stream",
          "name": "stdout",
          "text": [
            "Collecting pycodestyle\n",
            "  Downloading pycodestyle-2.12.1-py2.py3-none-any.whl.metadata (4.5 kB)\n",
            "Collecting pycodestyle_magic\n",
            "  Downloading pycodestyle_magic-0.5-py2.py3-none-any.whl.metadata (322 bytes)\n",
            "Downloading pycodestyle-2.12.1-py2.py3-none-any.whl (31 kB)\n",
            "Downloading pycodestyle_magic-0.5-py2.py3-none-any.whl (9.5 kB)\n",
            "Installing collected packages: pycodestyle_magic, pycodestyle\n",
            "Successfully installed pycodestyle-2.12.1 pycodestyle_magic-0.5\n",
            "Collecting flake8\n",
            "  Downloading flake8-7.1.1-py2.py3-none-any.whl.metadata (3.8 kB)\n",
            "Collecting mccabe<0.8.0,>=0.7.0 (from flake8)\n",
            "  Downloading mccabe-0.7.0-py2.py3-none-any.whl.metadata (5.0 kB)\n",
            "Requirement already satisfied: pycodestyle<2.13.0,>=2.12.0 in /usr/local/lib/python3.10/dist-packages (from flake8) (2.12.1)\n",
            "Collecting pyflakes<3.3.0,>=3.2.0 (from flake8)\n",
            "  Downloading pyflakes-3.2.0-py2.py3-none-any.whl.metadata (3.5 kB)\n",
            "Downloading flake8-7.1.1-py2.py3-none-any.whl (57 kB)\n",
            "\u001b[2K   \u001b[90m━━━━━━━━━━━━━━━━━━━━━━━━━━━━━━━━━━━━━━━━\u001b[0m \u001b[32m57.7/57.7 kB\u001b[0m \u001b[31m4.4 MB/s\u001b[0m eta \u001b[36m0:00:00\u001b[0m\n",
            "\u001b[?25hDownloading mccabe-0.7.0-py2.py3-none-any.whl (7.3 kB)\n",
            "Downloading pyflakes-3.2.0-py2.py3-none-any.whl (62 kB)\n",
            "\u001b[2K   \u001b[90m━━━━━━━━━━━━━━━━━━━━━━━━━━━━━━━━━━━━━━━━\u001b[0m \u001b[32m62.7/62.7 kB\u001b[0m \u001b[31m5.4 MB/s\u001b[0m eta \u001b[36m0:00:00\u001b[0m\n",
            "\u001b[?25hInstalling collected packages: pyflakes, mccabe, flake8\n",
            "Successfully installed flake8-7.1.1 mccabe-0.7.0 pyflakes-3.2.0\n"
          ]
        }
      ]
    },
    {
      "cell_type": "markdown",
      "source": [
        "## Ejercicio 00\n",
        "\n",
        "Validación de dirección de correo electrónico. Diseñar un programa que valide si una cadena ingresada por el usuario es una dirección de correo electrónico válida o no. La dirección de correo electrónico válida debe seguir el formato estándar de \"usuario@dominio.com\".\n",
        "\n",
        "   *Texto de referencia:* \"Por favor, envíe su solicitud a john.doe@example.com. Asegúrese de incluir su nombre completo y número de teléfono en el cuerpo del correo electrónico.\""
      ],
      "metadata": {
        "id": "4kpeP548VfWv"
      }
    },
    {
      "cell_type": "code",
      "source": [
        "# %%pycodestyle\n",
        "import re\n",
        "\n",
        "\n",
        "def extraer_y_verificar_correo(texto):\n",
        "    \"\"\"\n",
        "    Extrae y verifica si una cadena contiene una dirección de correo\n",
        "    electrónico válida.\n",
        "\n",
        "    Args:\n",
        "        texto (str): El texto donde se buscará el correo electrónico.\n",
        "\n",
        "    Returns:\n",
        "        str: La dirección de correo electrónico válida encontrada,\n",
        "            o None si no se encuentra.\n",
        "    \"\"\"\n",
        "\n",
        "    # Patrón para buscar correos electrónicos\n",
        "    patron_correo = r'\\b[A-Za-z0-9._%+-]+@[A-Za-z0-9.-]+\\.[A-Z|a-z]{2,}\\b'\n",
        "\n",
        "    # Buscar todas las coincidencias del patrón en el texto\n",
        "    coincidencias = re.findall(patron_correo, texto)\n",
        "\n",
        "    if coincidencias:\n",
        "        # Si se encuentra al menos una coincidencia, devolver la primera\n",
        "        return coincidencias[0]\n",
        "    else:\n",
        "        return None\n",
        "\n",
        "\n",
        "def verificar_correo(correo):\n",
        "    \"\"\"\n",
        "    Verifica si una cadena es una dirección de correo electrónico válida\n",
        "    según el formato estándar.\n",
        "\n",
        "    Args:\n",
        "        correo (str): La dirección de correo electrónico a verificar.\n",
        "\n",
        "    Returns:\n",
        "        bool: True si la cadena es una dirección de correo electrónico válida,\n",
        "              False en caso contrario.\n",
        "    \"\"\"\n",
        "\n",
        "    # Patrón para verificar el formato del correo\n",
        "    patron_validacion = r'^[A-Za-z0-9._%+-]+@[A-Za-z0-9.-]+\\.[A-Z|a-z]{2,}$'\n",
        "\n",
        "    return re.match(patron_validacion, correo) is not None\n",
        "\n",
        "# Caso de prueba\n",
        "texto_referencia = \"Por favor, envíe su solicitud a john.doe@example.com. \\\n",
        "Asegúrese de incluir su nombre completo y número de teléfono en \\\n",
        "el cuerpo del correo electrónico.\"\n",
        "\n",
        "correo_extraido = extraer_y_verificar_correo(texto_referencia)\n",
        "\n",
        "if correo_extraido:\n",
        "    if verificar_correo(correo_extraido):\n",
        "        print(f\"El correo electrónico {correo_extraido} es válido.\")\n",
        "    else:\n",
        "        print(f\"El correo electrónico {correo_extraido} no es válido.\")\n",
        "else:\n",
        "    print(\"No se encontró ningún correo electrónico válido en el texto.\")\n"
      ],
      "metadata": {
        "id": "n2v2uvLkZD0s",
        "colab": {
          "base_uri": "https://localhost:8080/"
        },
        "outputId": "3cf72970-90ed-48a7-f52e-7e87adf10fec"
      },
      "execution_count": null,
      "outputs": [
        {
          "output_type": "stream",
          "name": "stdout",
          "text": [
            "El correo electrónico john.doe@example.com es válido.\n"
          ]
        }
      ]
    },
    {
      "cell_type": "markdown",
      "source": [
        "## Ejercicio 01\n",
        "\n",
        "Extracción de números de teléfono. Escribir un programa que extraiga todos los números de teléfono válidos de un texto dado. Los números de teléfono válidos deben seguir el formato XXX-XXX-XXXX.\n",
        "\n",
        "   *Texto de referencia:* \"Puede comunicarse con nuestro servicio al cliente llamando al 555-123-4567. También puede enviar un mensaje de texto al número 555-987-6543 para obtener ayuda rápida.\"\n",
        "\n",
        "\n"
      ],
      "metadata": {
        "id": "AWpJFnkfZE8X"
      }
    },
    {
      "cell_type": "code",
      "source": [
        "# %%pycodestyle\n",
        "# Resuelva en esta celda el ejercicio\n",
        "import re\n",
        "\n",
        "\n",
        "def extraer_numeros_telefono(texto):\n",
        "    \"\"\"Extrae números de teléfono con formato XXX-XXX-XXXX de un texto.\n",
        "\n",
        "    Args:\n",
        "        texto (str): El texto donde buscar los números de teléfono.\n",
        "\n",
        "    Returns:\n",
        "        list: Una lista de los números de teléfono encontrados.\n",
        "\n",
        "    Examples:\n",
        "        >>> texto = \"Puede comunicarse con nuestro servicio al cliente llamando\n",
        "            al 555-123-4567. También puede enviar un mensaje de texto al número\n",
        "            555-987-6543 para obtener ayuda rápida.\"\n",
        "\n",
        "        >>> extraer_numeros_telefono(texto)\n",
        "        ['555-123-4567', '555-987-6543']\n",
        "    \"\"\"\n",
        "\n",
        "    patron = r'\\d{3}-\\d{3}-\\d{4}'  # Patrón para buscar números de teléfono\n",
        "    numeros = re.findall(patron, texto)\n",
        "    return numeros\n",
        "\n",
        "\n",
        "# Ejemplo de uso:\n",
        "texto = \"Puede comunicarse con nuestro servicio al cliente llamando al \\\n",
        "555-123-4567. También puede enviar un mensaje de texto al número \\\n",
        "555-987-6543 para obtener ayuda rápida.\"\n",
        "numeros_encontrados = extraer_numeros_telefono(texto)\n",
        "print(numeros_encontrados)\n",
        "print(texto)\n"
      ],
      "metadata": {
        "id": "nEHnjFNraLvf",
        "colab": {
          "base_uri": "https://localhost:8080/"
        },
        "outputId": "42cd1f21-8a70-4b00-b7b5-b804238189ea"
      },
      "execution_count": null,
      "outputs": [
        {
          "output_type": "stream",
          "name": "stdout",
          "text": [
            "['555-123-4567', '555-987-6543']\n",
            "Puede comunicarse con nuestro servicio al cliente llamando al 555-123-4567. También puede enviar un mensaje de texto al número 555-987-6543 para obtener ayuda rápida.\n"
          ]
        }
      ]
    },
    {
      "cell_type": "markdown",
      "source": [
        "## Ejercicio 02\n",
        "\n",
        "Búsqueda de fechas. Desarrolle un programa que identifique y extraiga todas las fechas válidas en un texto dado. Las fechas válidas deben estar en formato \"DD/MM/AAAA\".\n",
        "\n",
        "   *Texto de referencia:* \"La reunión está programada para el 15/02/2024. Por favor, confirme su asistencia antes de esa fecha. Recuerde que el plazo para enviar el informe es el 28/02/2024.\""
      ],
      "metadata": {
        "id": "0hEyKcvlaM1p"
      }
    },
    {
      "cell_type": "code",
      "source": [
        "# %%pycodestyle\n",
        "# Resuelva en esta celda el ejercicio\n",
        "import re\n",
        "\n",
        "\n",
        "def extraer_fechas(texto):\n",
        "    \"\"\"Extrae fechas en formato DD/MM/AAAA de un texto dado.\n",
        "\n",
        "    Args:\n",
        "        texto (str): El texto donde buscar las fechas.\n",
        "\n",
        "    Returns:\n",
        "        list: Una lista de las fechas encontradas en formato string.\n",
        "\n",
        "    Examples:\n",
        "        >>> texto = \"La reunión está programada para el 15/02/2024.\"\n",
        "        >>> extraer_fechas(texto)\n",
        "        ['15/02/2024']\n",
        "    \"\"\"\n",
        "\n",
        "    patron = r'\\d{2}/\\d{2}/\\d{4}'  # Patrón para fechas DD/MM/AAAA\n",
        "    fechas = re.findall(patron, texto)\n",
        "    return fechas\n",
        "\n",
        "\n",
        "# Ejemplo de uso:\n",
        "texto = \"La reunión está programada para el 15/02/2024. \\\n",
        "Por favor, confirme su asistencia antes de esa fecha. \\\n",
        "Recuerde que el plazo para enviar el informe es el 28/02/2024.\"\n",
        "fechas_encontradas = extraer_fechas(texto)\n",
        "print(fechas_encontradas)\n"
      ],
      "metadata": {
        "id": "yN0MvrQ4ao7v",
        "colab": {
          "base_uri": "https://localhost:8080/"
        },
        "outputId": "7a07b50a-98be-474a-9b81-ac2ce1ffcf16"
      },
      "execution_count": null,
      "outputs": [
        {
          "output_type": "stream",
          "name": "stdout",
          "text": [
            "['15/02/2024', '28/02/2024']\n"
          ]
        }
      ]
    },
    {
      "cell_type": "markdown",
      "source": [
        "## Ejercicio 03\n",
        "\n",
        "Validación de contraseñas seguras. Cree un programa que valide si una contraseña ingresada por el usuario es segura o no. Una contraseña segura debe tener al menos ocho caracteres de longitud y contener al menos una letra mayúscula, una letra minúscula, un número y un carácter especial.\n",
        "\n",
        "   *Texto de referencia:* \"Su contraseña debe tener al menos 10 caracteres de longitud y contener al menos una letra mayúscula, una letra minúscula, un número y un carácter especial. Por favor, elija una contraseña segura.\""
      ],
      "metadata": {
        "id": "qj50yF_aP_yM"
      }
    },
    {
      "cell_type": "code",
      "source": [
        "# %%pycodestyle\n",
        "# Resuelva en esta celda el ejercicio\n",
        "import re\n",
        "\n",
        "\n",
        "def validar_contrasena(contrasena):\n",
        "    \"\"\"Valida si una contraseña cumple con los requisitos de seguridad.\n",
        "\n",
        "    Args:\n",
        "        contrasena (str): La contraseña a validar.\n",
        "\n",
        "    Returns:\n",
        "        bool: True si la contraseña es segura, False en caso contrario.\n",
        "\n",
        "    Examples:\n",
        "        >>> validar_contrasena('Contraseña123!')\n",
        "        True\n",
        "        >>> validar_contrasena('contrasena')\n",
        "        False\n",
        "    \"\"\"\n",
        "\n",
        "    patron = (\n",
        "        # Al menos una letra mayúscula\n",
        "        r'^(?=.*[A-Z])'\n",
        "        # Al menos una letra minúscula\n",
        "        r'(?=.*[a-z])'\n",
        "        # Al menos un dígito\n",
        "        r'(?=.*\\d)'\n",
        "        # Al menos un carácter especial\n",
        "        r'(?=.*[@$!%*?&])'\n",
        "        # Longitud mínima de 8 caracteres\n",
        "        r'[A-Za-z\\d@$!%*?&]{8,}$'\n",
        "    )\n",
        "\n",
        "    # Se verifica si la contraseña cumple con las restricciones\n",
        "    if re.fullmatch(patron, contrasena) is not None:\n",
        "        return True\n",
        "    else:\n",
        "        return False\n",
        "\n",
        "\n",
        "\n",
        "# Ejemplo de uso:\n",
        "contrasena = input(\"Ingrese su contraseña: \")\n",
        "if validar_contrasena(contrasena):\n",
        "    print(\"La contraseña es segura.\")\n",
        "else:\n",
        "    print(\"La contraseña no es segura. Debe tener al menos 8 caracteres, \"\n",
        "          \"una mayúscula, una minúscula, un número y un carácter especial.\")"
      ],
      "metadata": {
        "id": "YDbBS606QSxx",
        "colab": {
          "base_uri": "https://localhost:8080/"
        },
        "outputId": "75b1e4c4-34af-427e-ffdf-b2b7332e6824"
      },
      "execution_count": null,
      "outputs": [
        {
          "output_type": "stream",
          "name": "stdout",
          "text": [
            "Ingrese su contraseña: 3#lkjdsafA\n",
            "La contraseña no es segura. Debe tener al menos 8 caracteres, una mayúscula, una minúscula, un número y un carácter especial.\n"
          ]
        }
      ]
    },
    {
      "cell_type": "markdown",
      "source": [
        "## Ejercicio 04\n",
        "\n",
        "Extracción de URLs. Escriba un programa que extraiga todas las URLs válidas de un texto dado. Las URLs válidas deben comenzar con \"http://\" o \"https://\".\n",
        "\n",
        "   *Texto de referencia:* \"Visite nuestro sitio web en https://www.ejemplo.com para obtener más información sobre nuestros productos y servicios. También puede seguirnos en Twitter en https://twitter.com/ejemplo.\""
      ],
      "metadata": {
        "id": "4852xGV9QBaQ"
      }
    },
    {
      "cell_type": "code",
      "source": [
        "# %%pycodestyle\n",
        "# Resuelva en esta celda el ejercicio\n",
        "import re\n",
        "\n",
        "\n",
        "def extraer_urls(texto):\n",
        "    \"\"\"Extrae URLs válidas que comienzan con http:// o https:// de un texto.\n",
        "\n",
        "    Args:\n",
        "        texto (str): El texto donde buscar las URLs.\n",
        "\n",
        "    Returns:\n",
        "        list: Una lista de las URLs encontradas.\n",
        "\n",
        "    Examples:\n",
        "        >>> texto = \"Visite nuestro sitio web en https://www.ejemplo.com\"\n",
        "        >>> extraer_urls(texto)\n",
        "        ['https://www.ejemplo.com']\n",
        "    \"\"\"\n",
        "\n",
        "    patron = r'https?://\\S+'  # Patrón para URLs HTTP y HTTPS\n",
        "    urls = re.findall(patron, texto)\n",
        "    return urls\n",
        "\n",
        "\n",
        "# Ejemplo de uso:\n",
        "texto = \"Visite nuestro sitio web en https://www.ejemplo.com para obtener más \\\n",
        "información sobre nuestros productos y servicios. También puede seguirnos en \\\n",
        "Twitter en https://twitter.com/ejemplo.\"\n",
        "\n",
        "urls_encontradas = extraer_urls(texto)\n",
        "print(urls_encontradas)\n"
      ],
      "metadata": {
        "id": "xNrof7kmQUED",
        "outputId": "8a90f90f-d3a0-4eb2-8dc3-0914c457bb6a",
        "colab": {
          "base_uri": "https://localhost:8080/"
        }
      },
      "execution_count": null,
      "outputs": [
        {
          "output_type": "stream",
          "name": "stderr",
          "text": [
            "INFO:pycodestyle:33:1: W391 blank line at end of file\n"
          ]
        }
      ]
    },
    {
      "cell_type": "markdown",
      "source": [
        "## Ejercicio 05\n",
        "\n",
        "Conteo de palabras. Diseñe un programa que cuente cuántas veces aparece una palabra específica en un texto dado. La búsqueda no debe diferenciar mayúsculas ni minúsculas. Es decir que «casa»\n",
        "y «Casa» deben ser consideradas la misma palabra.\n",
        "\n",
        "  *Texto de referencia:* \"La conferencia comenzará a las nueve de la mañana. Por favor, llegue temprano para registrarse. La duración de cada sesión será de una hora.\""
      ],
      "metadata": {
        "id": "ztj4sS1hQDtc"
      }
    },
    {
      "cell_type": "code",
      "source": [
        "# %%pycodestyle\n",
        "import re\n",
        "\n",
        "\n",
        "def contar_palabras(texto, palabra):\n",
        "    \"\"\"Cuenta las ocurrencias de una palabra en un texto, sin distinción de\n",
        "    mayúsculas/minúsculas.\n",
        "\n",
        "    Args:\n",
        "        texto (str): El texto donde buscar la palabra.\n",
        "        palabra (str): La palabra a buscar.\n",
        "\n",
        "    Returns:\n",
        "        int: Número de veces que aparece la palabra.\n",
        "\n",
        "    Ejemplo:\n",
        "        >>> texto = \"La casa es grande. La casa tiene un jardín.\"\n",
        "        >>> contar_palabras(texto, \"casa\")\n",
        "        2\n",
        "    \"\"\"\n",
        "\n",
        "    # Crear un patrón de búsqueda que ignore mayúsculas/minúsculas y coincida\n",
        "    # con palabras completas\n",
        "    patron = rf\"\\b{palabra}\\b\"\n",
        "    # Buscar todas las coincidencias del patrón en el texto\n",
        "    coincidencias = re.findall(patron, texto, re.IGNORECASE)\n",
        "    # Contar y devolver el número de coincidencias\n",
        "    return len(coincidencias)\n",
        "\n",
        "\n",
        "# Ejemplo de uso:\n",
        "texto = \"La conferencia comenzará a las nueve de la mañana. Por favor, llegue \\\n",
        "temprano para registrarse. La duración de cada sesión será de una hora.\"\n",
        "\n",
        "palabra_a_buscar = input(\"Escriba la palabra a buscar: \")\n",
        "\n",
        "cantidad = contar_palabras(texto, palabra_a_buscar)\n",
        "print(f\"La palabra '{palabra_a_buscar}' aparece {cantidad} veces.\")\n"
      ],
      "metadata": {
        "id": "jg0TczRIQVsk",
        "outputId": "19a60405-9d2a-4e12-e906-4e216ccacc85",
        "colab": {
          "base_uri": "https://localhost:8080/"
        }
      },
      "execution_count": null,
      "outputs": [
        {
          "output_type": "stream",
          "name": "stdout",
          "text": [
            "Escriba la palabra a buscar: la\n",
            "La palabra 'la' aparece 3 veces.\n"
          ]
        }
      ]
    },
    {
      "cell_type": "markdown",
      "source": [
        "## Ejercicio 06\n",
        "\n",
        "Reemplazo de palabras. Cree un programa que reemplace todas las ocurrencias de una palabra específica por otra en un texto dado. El usuario debe ingresar la palabra a buscar y la palabra de reemplazo.\n",
        "\n",
        "   *Texto de referencia:* \"La comida vegetariana es una excelente opción para mantenerse saludable. Por favor, asegúrese de incluir una variedad de vegetales en su dieta diaria.\""
      ],
      "metadata": {
        "id": "hATd-LMUQGP_"
      }
    },
    {
      "cell_type": "code",
      "source": [
        "# %%pycodestyle\n",
        "# Resuelva en esta celda el ejercicio\n",
        "import re\n",
        "\n",
        "\n",
        "def reemplazar_palabra(texto, palabra_a_buscar, palabra_reemplazo):\n",
        "    \"\"\"Reemplaza todas las ocurrencias de una palabra en un texto.\n",
        "\n",
        "    Args:\n",
        "        texto (str): El texto donde buscar y reemplazar.\n",
        "        palabra_a_buscar (str): La palabra a buscar.\n",
        "        palabra_reemplazo (str): La palabra por la que reemplazar.\n",
        "\n",
        "    Returns:\n",
        "        str: El texto con las palabras reemplazadas.\n",
        "\n",
        "    Ejemplo:\n",
        "        >>> texto = \"La casa es grande. La casa tiene un jardín.\"\n",
        "        >>> nuevo_texto = reemplazar_palabra(texto, \"casa\", \"edificio\")\n",
        "        >>> print(nuevo_texto)\n",
        "        El edificio es grande. El edificio tiene un jardín.\n",
        "    \"\"\"\n",
        "\n",
        "    # Crear un patrón de búsqueda que ignore mayúsculas/minúsculas\n",
        "    patron = re.compile(re.escape(palabra_a_buscar), re.IGNORECASE)\n",
        "    # Reemplazar todas las ocurrencias del patrón\n",
        "    nuevo_texto = re.sub(patron, palabra_reemplazo, texto)\n",
        "    return nuevo_texto\n",
        "\n",
        "\n",
        "# Ejemplo de uso:\n",
        "texto_original = \"La comida vegetariana es una excelente opción para \\\n",
        "mantenerse saludable. Por favor, asegúrese de incluir una variedad de \\\n",
        "vegetales en su dieta diaria.\"\n",
        "\n",
        "palabra_a_buscar = input(\"Escriba la palabra que quiere remplazar: \")\n",
        "palabra_reemplazo = input(\"Escriba la palabra por la que quiere remplazar:\")\n",
        "texto_modificado = reemplazar_palabra(texto_original, palabra_a_buscar,\n",
        "                                      palabra_reemplazo)\n",
        "\n",
        "print(texto_modificado)\n"
      ],
      "metadata": {
        "id": "KWFwRqE7QX0H",
        "outputId": "cf8f33b7-5853-4a40-95fc-41202e5923ff",
        "colab": {
          "base_uri": "https://localhost:8080/"
        }
      },
      "execution_count": null,
      "outputs": [
        {
          "output_type": "stream",
          "name": "stdout",
          "text": [
            "Escriba la palabra que quiere remplazar: 3\n",
            "Escriba la palabra por la que quiere remplazar:3\n",
            "La comida vegetariana es una excelente opción para mantenerse saludable. Por favor, asegúrese de incluir una variedad de vegetales en su dieta diaria.\n"
          ]
        }
      ]
    },
    {
      "cell_type": "markdown",
      "source": [
        "## Ejercicio 07\n",
        "\n",
        "Validación de código postal. Desarrolle un programa que valide si un código postal ingresado por el usuario es válido o no. El código postal válido debe tener un formato específico, como \"XXXXX\" o \"XXXXX-XXXX\".\n",
        "\n",
        "   *Texto de referencia:* \"Nuestra dirección es 12345 Main Street, Anytown, USA. El código postal es 54321-6789. Asegúrese de incluir el código postal correcto al completar el formulario.\""
      ],
      "metadata": {
        "id": "ZNOMGOKfQHkc"
      }
    },
    {
      "cell_type": "code",
      "source": [
        "# %%pycodestyle\n",
        "# Resuelva en esta celda el ejercicio\n",
        "import re\n",
        "\n",
        "\n",
        "def validar_codigo_postal(codigo_postal):\n",
        "    \"\"\"Valida si un código postal tiene un formato válido.\n",
        "\n",
        "    Args:\n",
        "        codigo_postal (str): El código postal a validar.\n",
        "\n",
        "    Returns:\n",
        "        bool: True si el código postal es válido, False si no lo es.\n",
        "\n",
        "    Ejemplo:\n",
        "        >>> validar_codigo_postal(\"12345\")\n",
        "        True\n",
        "        >>> validar_codigo_postal(\"12345-6789\")\n",
        "        True\n",
        "        >>> validar_codigo_postal(\"ABC123\")\n",
        "        False\n",
        "    \"\"\"\n",
        "\n",
        "    # Patrón para validar códigos postales con o sin guión\n",
        "    patron = r\"^\\d{5}(-\\d{4})?$\"\n",
        "\n",
        "    return re.match(patron, codigo_postal) is not None\n",
        "\n",
        "\n",
        "# Ejemplo de uso:\n",
        "codigo_postal_ingresado = input(\"Ingrese el código postal: \")\n",
        "\n",
        "if validar_codigo_postal(codigo_postal_ingresado):\n",
        "    print(\"El código postal es válido.\")\n",
        "else:\n",
        "    print(\"El código postal no es válido.\")\n"
      ],
      "metadata": {
        "id": "EFyBSu0OQZ5X",
        "outputId": "75622b17-84f6-478d-a36b-a9d7f9c5a6fa",
        "colab": {
          "base_uri": "https://localhost:8080/"
        }
      },
      "execution_count": null,
      "outputs": [
        {
          "output_type": "stream",
          "name": "stderr",
          "text": [
            "INFO:pycodestyle:37:1: W391 blank line at end of file\n"
          ]
        }
      ]
    },
    {
      "cell_type": "markdown",
      "source": [
        "## Ejercicio 08\n",
        "\n",
        "Extracción de direcciones IP. Escriba un programa que extraiga todas las direcciones IP válidas de un texto dado. Las direcciones IP válidas deben seguir el formato \"XXX.XXX.XXX.XXX\", donde cada parte puede tener uno, dos o tres dígitos.\n",
        "\n",
        "   *Texto de referencia:* \"La dirección IP de nuestro servidor es 192.168.1.1. Asegúrese de configurar correctamente la dirección IP en su dispositivo para accedera la red”"
      ],
      "metadata": {
        "id": "k1SR_Y-RQJC1"
      }
    },
    {
      "cell_type": "code",
      "source": [
        "# %%pycodestyle\n",
        "# Resuelva en esta celda el ejercicio\n",
        "import re\n",
        "\n",
        "\n",
        "def extraer_ips(texto):\n",
        "    \"\"\"Extrae direcciones IP válidas en formato \"XXX.XXX.XXX.XXX\" de un texto.\n",
        "\n",
        "    Args:\n",
        "        texto (str): El texto donde buscar las direcciones IP.\n",
        "\n",
        "    Returns:\n",
        "        list: Una lista con las direcciones IP encontradas.\n",
        "\n",
        "    Ejemplo:\n",
        "        >>> texto = \"La IP es 192.168.1.1 y la otra es 10.0.0.1\"\n",
        "        >>> extraer_ips(texto)\n",
        "        ['192.168.1.1', '10.0.0.1']\n",
        "    \"\"\"\n",
        "    # Patrón para direcciones IP\n",
        "    patron = r\"\\b\\d{1,3}\\.\\d{1,3}\\.\\d{1,3}\\.\\d{1,3}\\b\"\n",
        "    ips = re.findall(patron, texto)\n",
        "    return ips\n",
        "\n",
        "\n",
        "# Ejemplo de uso:\n",
        "texto = \"La dirección IP de nuestro servidor es 192.168.1.1. Asegúrese de \\\n",
        "configurar correctamente la dirección IP en su dispositivo para \\\n",
        "acceder a la red\"\n",
        "\n",
        "ips_encontradas = extraer_ips(texto)\n",
        "print(ips_encontradas)\n"
      ],
      "metadata": {
        "id": "1Wky-Hp7Qa1P",
        "outputId": "95195705-c364-4681-d290-141eb24e0755",
        "colab": {
          "base_uri": "https://localhost:8080/"
        }
      },
      "execution_count": null,
      "outputs": [
        {
          "output_type": "stream",
          "name": "stderr",
          "text": [
            "INFO:pycodestyle:33:1: W391 blank line at end of file\n"
          ]
        }
      ]
    },
    {
      "cell_type": "markdown",
      "source": [
        "## Ejercicio 09\n",
        "\n",
        "Búsqueda de hashtags. Diseñe un programa que identifique y extraiga todos los hashtags de un texto dado. Los hashtags deben comenzar con el símbolo \"#\" y pueden contener letras, números y guiones bajos.\n",
        "\n",
        "Texto de referencia: \"Únase a la conversación en las redes sociales utilizando el hashtag #ejemplo. Comparta sus experiencias y obtenga actualizaciones sobre nuestros últimos productos y promociones.\""
      ],
      "metadata": {
        "id": "VlxrpT47QKdX"
      }
    },
    {
      "cell_type": "code",
      "source": [
        "# %%pycodestyle\n",
        "# Resuelva en esta celda el ejercicio\n",
        "import re\n",
        "\n",
        "\n",
        "def extraer_hashtags(texto):\n",
        "    \"\"\"Extrae todos los hashtags de un texto dado.\n",
        "\n",
        "    Args:\n",
        "        texto (str): El texto donde buscar los hashtags.\n",
        "\n",
        "    Returns:\n",
        "        list: Una lista de los hashtags encontrados.\n",
        "\n",
        "    Ejemplo:\n",
        "        >>> texto = \"Utiliza #hashtags para llegar a más gente\"\n",
        "        >>> extraer_hashtags(texto)\n",
        "        ['#hashtags']\n",
        "    \"\"\"\n",
        "\n",
        "    patron = r\"#\\w+\"  # Patrón para buscar hashtags\n",
        "    hashtags = re.findall(patron, texto)\n",
        "    return hashtags\n",
        "\n",
        "\n",
        "# Ejemplo de uso:\n",
        "texto = \"Únase a la conversación en las redes sociales utilizando el hashtag \\\n",
        "#ejemplo. Comparta sus experiencias y obtenga actualizaciones sobre nuestros \\\n",
        "últimos productos y promociones.\"\n",
        "\n",
        "hashtags_encontrados = extraer_hashtags(texto)\n",
        "print(hashtags_encontrados)\n"
      ],
      "metadata": {
        "id": "lwx5c9ecQeTD",
        "outputId": "a98e960e-7609-47aa-f848-b05f34b57866",
        "colab": {
          "base_uri": "https://localhost:8080/"
        }
      },
      "execution_count": null,
      "outputs": [
        {
          "output_type": "stream",
          "name": "stderr",
          "text": [
            "INFO:pycodestyle:33:1: W391 blank line at end of file\n"
          ]
        }
      ]
    }
  ]
}
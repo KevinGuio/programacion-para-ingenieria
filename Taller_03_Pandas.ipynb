{
  "nbformat": 4,
  "nbformat_minor": 0,
  "metadata": {
    "colab": {
      "provenance": [],
      "toc_visible": true,
      "include_colab_link": true
    },
    "kernelspec": {
      "name": "python3",
      "display_name": "Python 3"
    }
  },
  "cells": [
    {
      "cell_type": "markdown",
      "metadata": {
        "id": "view-in-github",
        "colab_type": "text"
      },
      "source": [
        "<a href=\"https://colab.research.google.com/github/KevinGuio/programacion-para-ingenieria/blob/main/Taller_03_Pandas.ipynb\" target=\"_parent\"><img src=\"https://colab.research.google.com/assets/colab-badge.svg\" alt=\"Open In Colab\"/></a>"
      ]
    },
    {
      "cell_type": "markdown",
      "source": [
        "## «*Mide diez veces, pero no cortes más que una*».\n",
        "\n",
        "### Proverbio ruso"
      ],
      "metadata": {
        "id": "bJtz1A8wSiah"
      }
    },
    {
      "cell_type": "markdown",
      "metadata": {
        "id": "mCkyuX8p2SYu"
      },
      "source": [
        "# Taller 03 Pandas\n",
        "En este taller aprenderá los conceptos básicos de Python 3 relativos a la librería Pandas (Python Data Analysis Library).\n",
        "\n",
        "Pandas **no es una librería nativa** de Python por lo que **requiere ser instalada antes de ser invocada**. Sin embargo, esta librería sí está preinstalada en Google Colaboratory por lo que basta invocarla para poder usar sus funcionalidades.\n",
        "\n",
        "Puede consultar más información en: [pandas](https://pandas.pydata.org/)."
      ]
    },
    {
      "cell_type": "markdown",
      "source": [
        "# Referencias\n",
        "Este taller se basa en información e ideas recopiladas de las siguientes fuentes:\n",
        "\n",
        "* [Documentación oficial de pandas](https://pandas.pydata.org/pandas-docs/stable/index.html)\n",
        "\n",
        "* [Tutorial de pandas](https://www.interactivechaos.com/manual/tutorial-de-pandas/tutorial-de-pandas)\n",
        "\n",
        "* [Learn pandas with 50 examples](https://www.listendata.com/2017/12/python-pandas-tutorial.html)\n",
        "\n",
        "* [Python-Pandas cheat sheet: 30 functions-methods](https://jyoti05iitd.medium.com/python-pandas-cheat-sheet-30-functions-methods-b1176f2e37da)\n",
        "\n",
        "* [Fhernd/Python-Pandas-Ejercicios](https://github.com/Fhernd/Python-Pandas-Ejercicios/blob/master/Python-Pandas-Ejercicios-Serie1.ipynb)"
      ],
      "metadata": {
        "id": "CfYL5oGdTacj"
      }
    },
    {
      "cell_type": "markdown",
      "metadata": {
        "id": "wQEVl6nFoPj4"
      },
      "source": [
        "# Series en pandas\n",
        "\n",
        "Las Series en pandas son listas que tienen asociado un **índice** (etiqueta asociada con la posición)."
      ]
    },
    {
      "cell_type": "markdown",
      "metadata": {
        "id": "lEzY7oL5Vjw0"
      },
      "source": [
        "### Crear una serie en pandas\n"
      ]
    },
    {
      "cell_type": "code",
      "metadata": {
        "id": "19D1XvJHnUvq"
      },
      "source": [
        "# Importar las librerías requeridas\n",
        "import numpy as np\n",
        "import pandas as pd\n",
        "\n",
        "# Listas \"tradicionales\"\n",
        "h = [1,2,2,5,10,8]\n",
        "print('Esta es una lista \\\"tradicional\\\" en Python: ', h)\n",
        "\n",
        "# Una serie en pandas\n",
        "a = pd.Series([1,2,2,5,10,8])\n",
        "print(\"Esta es una serie en pandas:\\n\",a,\"\\n\")\n",
        "\n",
        "# Crear una serie que incluye un elemento de NumPy\n",
        "s = pd.Series([1,2,2,np.nan,10,8])\n",
        "#s = pd.Series([1,2,2,10,8])\n",
        "print(\"Esta es otra serie en pandas:\\n\",s,\"\\n\")\n",
        "\n",
        "# Crear una serie a partir de una lista\n",
        "s = pd.Series(h)\n",
        "print(\"Esta es una serie en pandas creada a partir de una lista de Python:\\n\",\\\n",
        "      s,\"\\n\")"
      ],
      "execution_count": null,
      "outputs": []
    },
    {
      "cell_type": "markdown",
      "metadata": {
        "id": "Ps7TrVdHnUvw"
      },
      "source": [
        "### Crear índices en pandas\n",
        "\n",
        "Una de las formas de crear índices es a partir de frecuencias cronológicas (día, mes, año)."
      ]
    },
    {
      "cell_type": "code",
      "metadata": {
        "id": "qyRRECosnUvx"
      },
      "source": [
        "# Importar las librerías requeridas\n",
        "import pandas as pd\n",
        "\n",
        "'''\n",
        "Un índice no es más que una lista de datos.\n",
        "'''\n",
        "# Crear un índice de frecuencia diaria\n",
        "fechas_d = pd.date_range('20200227', periods=550, freq='D')\n",
        "print(\"Frecuencia diaria: \\n\", fechas_d)\n",
        "\n",
        "# Crear un índice de frecuencia mensual\n",
        "fechas_m = pd.date_range('20160301', periods=18, freq='M')\n",
        "print(\"Frecuencia mensual: \\n\", fechas_m)\n",
        "\n",
        "# Crear un índice de frecuencia anual\n",
        "fechas_a = pd.date_range('20160301', periods=6, freq='A')\n",
        "print(\"Frecuencia anual: \\n\", fechas_a)"
      ],
      "execution_count": null,
      "outputs": []
    },
    {
      "cell_type": "markdown",
      "metadata": {
        "id": "m2wSZ0yFnUvz"
      },
      "source": [
        "### Asignar un índice a una serie\n",
        "\n",
        "Los índices se pueden asignar a las series."
      ]
    },
    {
      "cell_type": "code",
      "metadata": {
        "id": "xf7c_pqBnUv0"
      },
      "source": [
        "# Importar las librerías requeridas\n",
        "import pandas as pd\n",
        "\n",
        "# Crear un rango de fechas\n",
        "fechas = pd.date_range('20160301', periods=6)\n",
        "print(\"Este es un índice de fechas: \", fechas)\n",
        "\n",
        "# Convertir ts = pd.Series([1,3,5,2,6,8]) en una serie con índice cronológico\n",
        "ts = pd.Series([1,3,5,2,6,8], index=fechas)\n",
        "print(\"Esta es una serie con un índice cronológico:\\n\", ts)\n",
        "\n",
        "# Crear un rango cualquiera\n",
        "letras = pd.Series([\"A\",\"B\",\"C\",\"D\",\"E\",\"F\"])\n",
        "print(\"Este es una serie alfabética: \\n\", letras)\n",
        "\n",
        "# Convertir ts = pd.Series([1,3,5,2,6,8]) en una serie con índice alfabético\n",
        "ts = pd.Series([1,3,5,2,6,8], index=letras)\n",
        "print(\"Esta es una serie con un índice alfabético:\\n\", ts)"
      ],
      "execution_count": null,
      "outputs": []
    },
    {
      "cell_type": "markdown",
      "metadata": {
        "id": "opyERYYunUv6"
      },
      "source": [
        "# DataFrames\n",
        "\n",
        "Los DataFrames en pandas son **arreglos** (matrices) que tienen asociados índices (etiquetas de posición) en sus filas y en sus columnas."
      ]
    },
    {
      "cell_type": "markdown",
      "metadata": {
        "id": "4Tfdbd80YPF3"
      },
      "source": [
        "### Crear un DataFrame a partir de una matriz"
      ]
    },
    {
      "cell_type": "code",
      "metadata": {
        "id": "z8dhmuV5nUv7"
      },
      "source": [
        "# Importar las librerías necesarias\n",
        "import numpy as np\n",
        "import pandas as pd\n",
        "\n",
        "# Crear una matriz de NumPy (tres filas x seis columnas) con números aleatorios\n",
        "matriz_datos = np.random.randn(3, 6)\n",
        "print(\"Matriz de NumPy datos aleatorios \")\n",
        "print(matriz_datos)\n",
        "\n",
        "# Crear los índices para las filas\n",
        "filas = ['Fila 1', 'Fila 2', 'Fila n']\n",
        "\n",
        "# Crear las etiquetas para  las columnas\n",
        "'''\n",
        "Ensaye a ejecutar el código anulando la línea 17 y activando la línea 18\n",
        "'''\n",
        "columnas = list('ABZXYC')\n",
        "#columnas = ['Grupo 0', 'Grupo 1', 'Grupo 2', 'Grupo 3','Grupo 4', 'Grupo 5']\n",
        "\n",
        "# Crear el DataFrame\n",
        "df = pd.DataFrame(matriz_datos, index=filas, columns=columnas)\n",
        "print(\"DataFrame de pandas\", df, sep = \"\\n\")"
      ],
      "execution_count": null,
      "outputs": []
    },
    {
      "cell_type": "markdown",
      "metadata": {
        "id": "kmx_hNbfnUv-"
      },
      "source": [
        "### Crear un DataFrame a partir de un diccionario"
      ]
    },
    {
      "cell_type": "code",
      "metadata": {
        "id": "IPLlM3bGnUv_"
      },
      "source": [
        "# Importar las librerías necesarias\n",
        "import pandas as pd\n",
        "\n",
        "# Crear un DataFrame a partir de un diccionario\n",
        "# las claves del diccionario se convierten en las etiquetas de las columnas\n",
        "# del DataFrame\n",
        "df_dict = pd.DataFrame({'codigo' : np.random.randn(4),\n",
        "                    'fecha' : pd.date_range('20170301', periods=4, freq='M'),\n",
        "                    'nota' : pd.Series([1, 5, 2, 3],index=list(range(4)) ,\\\n",
        "                                       dtype='float32'),\n",
        "                    'intento' : np.array([3,2] * 2),\n",
        "                    'genero' : pd.Categorical([\"F\",\"M\",\"F\",\"M\"]),\n",
        "                    'comentario' : 'Texto' })\n",
        "print(f\"DataFrame creado a partir de un diccionario:\\n {df_dict}\")"
      ],
      "execution_count": null,
      "outputs": []
    },
    {
      "cell_type": "markdown",
      "metadata": {
        "id": "D2vanekBnUwC"
      },
      "source": [
        "### Algunos atributos y funciones de un DataFrame"
      ]
    },
    {
      "cell_type": "code",
      "metadata": {
        "id": "S0Gqu5l2nUwD"
      },
      "source": [
        "print(\"La forma del DataFrame es:\", df_dict.shape, sep = \"\\n\")\n",
        "\n",
        "print(\"Los nombres de las columnas del DataFrame son:\", df_dict.columns.tolist(),\\\n",
        "      sep = \"\\n\")\n",
        "\n",
        "print(\"Tipo de datos correspondendiente a las columnas:\", df_dict.dtypes, \\\n",
        "      sep = \"\\n\")\n",
        "\n",
        "print(\"\\nDatos originales:\", df_dict, sep = \"\\n\")\n",
        "\n",
        "print(\"\\nTranspuesta:\", df_dict.T, sep = \"\\n\")\n",
        "\n",
        "print(\"\\nRepresentación en NumPy del DataFrame:\", df_dict.values, sep = \"\\n\")\n",
        "\n",
        "print(\"\\nValor absoluto de la columna «nota» en el DataFrame:\", \\\n",
        "      df_dict[\"nota\"].abs(), sep = \"\\n\")\n",
        "\n",
        "# Cambiar el nombre de una columna del DataFrame\n",
        "df_dict = df_dict.rename(columns={\"intento\": \"ensayo\"})\n",
        "print(\"DataFrame con el nombre de una columna cambiado\", df_dict, sep = \"\\n\")"
      ],
      "execution_count": null,
      "outputs": []
    },
    {
      "cell_type": "markdown",
      "source": [
        "### Ubicar elementos en un arreglo\n",
        "\n",
        "**at**: se utiliza con etiquetas («nombres») de filas y de columnas\n",
        "\n",
        "**iat**: se utiliza con los números correspondientes a las filas y a las columnas. **Ambos índices tienen que ser números enteros**."
      ],
      "metadata": {
        "id": "epqm3MCVfdOw"
      }
    },
    {
      "cell_type": "code",
      "source": [
        "# Ubicar un elemento por la combinación del nombre de la fila y el nombre de la\n",
        "# columna\n",
        "print(\"\\nValor en la fila '2' y columna 'genero':\", df_dict.at[2, 'genero'],\n",
        "      \"\\n\")\n",
        "\n",
        "'''\n",
        "Active la línea 10 y observe lo que sucede al ejecutar el código\n",
        "'''\n",
        "\n",
        "#print(\"\\nValor en la fila '2' y columna 'genero':\", df_dict.iat[2, 'genero'],\\\n",
        "#\"\\n\")\n",
        "\n",
        "# Ubicar un elemento por la combinación del número de la fila y el número de\n",
        "# la columna\n",
        "print(\"\\nValor en la fila '2' y valor en la columna 4:\", df_dict.iat[2, 4], \\\n",
        "      \"\\n\")"
      ],
      "metadata": {
        "id": "SkHml2gogSop"
      },
      "execution_count": null,
      "outputs": []
    },
    {
      "cell_type": "markdown",
      "metadata": {
        "id": "x53-ZHKz9Rh7"
      },
      "source": [
        "### Seleccionar las primeras filas de un DataFrame"
      ]
    },
    {
      "cell_type": "code",
      "metadata": {
        "id": "5kpMvEfNnUwG"
      },
      "source": [
        "#Mostrar las tres primeras filas del DataFrame\n",
        "print(\"Primeras tres filas del DataFrame:\", df_dict.head(3), sep =\"\\n\")\n",
        "df_dict.head(3)"
      ],
      "execution_count": null,
      "outputs": []
    },
    {
      "cell_type": "markdown",
      "metadata": {
        "id": "KFkRaN5z9ivI"
      },
      "source": [
        "### Seleccionar las últimas filas de un DataFrame"
      ]
    },
    {
      "cell_type": "code",
      "metadata": {
        "id": "g4Tw2wEInUwI"
      },
      "source": [
        "#Mostrar las dos ultimas filas del DataFrame\n",
        "print(\"Últimas fila del DataFrame:\", df_dict.tail(2), sep=\"\\n\")\n",
        "\n",
        "df_dict.tail(2)"
      ],
      "execution_count": null,
      "outputs": []
    },
    {
      "cell_type": "markdown",
      "metadata": {
        "id": "chLCbizm9yc2"
      },
      "source": [
        "### Mostrar los principales indicadores de las variables numéricas de un DataFrame"
      ]
    },
    {
      "cell_type": "code",
      "metadata": {
        "id": "llMFCJYnnUwL"
      },
      "source": [
        "# Descripción básica del DataFrame\n",
        "print(\"Descripción rápida del DataFrame:\")\n",
        "df_dict.describe()"
      ],
      "execution_count": null,
      "outputs": []
    },
    {
      "cell_type": "markdown",
      "metadata": {
        "id": "oOHpxuTh-HKS"
      },
      "source": [
        "### Mostrar las etiquetas de las filas y las columnas de un DataFrame"
      ]
    },
    {
      "cell_type": "code",
      "metadata": {
        "id": "5MW8LDLRnUwO"
      },
      "source": [
        "# Mostrar el índice y las etiquetas de las columnas\n",
        "print(\"\\nÍndice de las filas del DataFrame:\\n\", df_dict.index)\n",
        "print(\"\\nColumnas del DataFrame:\\n\", df_dict.columns)"
      ],
      "execution_count": null,
      "outputs": []
    },
    {
      "cell_type": "markdown",
      "metadata": {
        "id": "y_ijujnx-YrL"
      },
      "source": [
        "### Ordenar un DataFrame por su índice"
      ]
    },
    {
      "cell_type": "code",
      "metadata": {
        "id": "lkCsHZdpnUwQ"
      },
      "source": [
        "# Ordenar el DataFrame\n",
        "print(\"Ordenar por indice:\")\n",
        "#df_dict.sort_index(axis=0, ascending=False)\n",
        "df_dict.sort_index(axis=0, ascending=True)"
      ],
      "execution_count": null,
      "outputs": []
    },
    {
      "cell_type": "markdown",
      "metadata": {
        "id": "2OdNhtHE-hnP"
      },
      "source": [
        "### Ordenar un DataFrame por los valores de una de sus columnas"
      ]
    },
    {
      "cell_type": "code",
      "metadata": {
        "id": "q5-22LHinUwS"
      },
      "source": [
        "# Ordenar el DataFrame\n",
        "print(\"Ordenar por valores:\")\n",
        "df_dict.sort_values(by='nota')\n",
        "#df_dict.sort_values(by='nota', ascending=False)"
      ],
      "execution_count": null,
      "outputs": []
    },
    {
      "cell_type": "markdown",
      "metadata": {
        "id": "EoDxhI24nUwU"
      },
      "source": [
        "### Selección o filtrado de datos\n",
        "\n",
        "**loc**: se utiliza con etiquetas («nombres») de filas y de columnas\n",
        "\n",
        "**iloc**: se utiliza con los números correspondientes a las filas y a las columnas. **Ambos índices tienen que ser números enteros**."
      ]
    },
    {
      "cell_type": "code",
      "metadata": {
        "id": "QEE3YDSUnUwV"
      },
      "source": [
        "# Mostrar columna \"codigo\"\n",
        "print(\"Filtrar por columnas:\")\n",
        "print(df_dict['codigo'])\n",
        "\n",
        "# Filtrar por indices\n",
        "print(\"\\nFiltrar por índices:\")\n",
        "print(df_dict[1:2])\n",
        "\n",
        "print(\"\\nFiltrar por índices:\")\n",
        "print(df_dict.loc[2])\n",
        "\n",
        "# loc se usa cuando se va a filtrar con etiquetas\n",
        "print(\"\\nFiltrar por índices de filas y etiquetas de columnas:\")\n",
        "print(df_dict.loc[2:,['fecha', 'nota']])\n",
        "\n",
        "# iloc se usa cuando se va a filtrar con números de columnas\n",
        "print(\"\\nFiltrar por posicion en indices:\")\n",
        "print(df_dict.iloc[[1, 2], [3, 5]])\n",
        "print('\\n',df_dict.iloc[1:2,0:2])"
      ],
      "execution_count": null,
      "outputs": []
    },
    {
      "cell_type": "markdown",
      "metadata": {
        "id": "nyTvr0srnUwX"
      },
      "source": [
        "### Selección condicional con pandas por columnas y valores"
      ]
    },
    {
      "cell_type": "code",
      "metadata": {
        "id": "qXxpIMrAnUwY"
      },
      "source": [
        "# Obtener las filas de df_dict donde en la columna \"nota\" su valor es mayor a 1\n",
        "\n",
        "# Formato nombreDF.nombreCol\n",
        "df_dict[df_dict.nota > 1]\n",
        "\n",
        "# Formato nombreDF[\"nombreCol\"]\n",
        "#df_dict[(df_dict['nota'] > 1)]"
      ],
      "execution_count": null,
      "outputs": []
    },
    {
      "cell_type": "markdown",
      "metadata": {
        "id": "VGmMlVw5Ox7-"
      },
      "source": [
        "### Selección condicional con pandas por columnas y rangos de valores"
      ]
    },
    {
      "cell_type": "code",
      "metadata": {
        "id": "BrNxqBjTnUwa"
      },
      "source": [
        "# Obtener las filas de df_dict donde en la columna \"nota\" su valor es mayor a 3 y menor a 5\n",
        "\n",
        "# Formato nombreDF.nombreCol\n",
        "newDF_1 = df_dict[(df_dict.nota > 3) & (df_dict.nota <=5)]\n",
        "\n",
        "# Formato nombreDF[\"nombreCol\"]\n",
        "newDF_2 = df_dict[(df_dict['nota'] > 3) & (df_dict['nota'] <=5)]\n",
        "\n",
        "print(newDF_1, \"\\n\")\n",
        "\n",
        "print(newDF_2, \"\\n\")"
      ],
      "execution_count": null,
      "outputs": []
    },
    {
      "cell_type": "markdown",
      "metadata": {
        "id": "zkBpA4b5PAGW"
      },
      "source": [
        "### Selección condicional con pandas usando .loc"
      ]
    },
    {
      "cell_type": "code",
      "metadata": {
        "id": "v17SXw0oq_sP"
      },
      "source": [
        "# Selección condicional con .loc\n",
        "\n",
        "# Formato nombreDF[\"nombreCol\"]\n",
        "new_df_1 = df_dict.loc[(df_dict['nota'] > 2) & (df_dict['nota'] <=5)]\n",
        "\n",
        "# Formato nombreDF.nombreCol\n",
        "new_df_2 = df_dict.loc[(df_dict.nota > 2) & (df_dict.nota <=5)]\n",
        "\n",
        "print (new_df_1, \"\\n\")\n",
        "\n",
        "print (new_df_2)"
      ],
      "execution_count": null,
      "outputs": []
    },
    {
      "cell_type": "markdown",
      "source": [
        "### Selección condicional con pandas usando el método **query**"
      ],
      "metadata": {
        "id": "FxIHv3dHWfC6"
      }
    },
    {
      "cell_type": "code",
      "source": [
        "# Selección condicional con query\n",
        "\n",
        "# Seleccionar con el método query\n",
        "new_df_3 = df_dict.query('nota > 2  &  nota <=5')\n",
        "\n",
        "print (new_df_3, \"\\n\")"
      ],
      "metadata": {
        "id": "iQTNhHXbWlAg"
      },
      "execution_count": null,
      "outputs": []
    },
    {
      "cell_type": "markdown",
      "source": [
        "# Aplicaciones"
      ],
      "metadata": {
        "id": "iOMGnoFDW-eN"
      }
    },
    {
      "cell_type": "markdown",
      "source": [
        "## Limpieza de datos\n",
        "\n",
        "Aplicación basada en [Base de datos empresas constructoras Oriente Antioqueño](https://www.datos.gov.co/Comercio-Industria-y-Turismo/Base-de-datos-empresas-constructoras-Oriente-Antio/ffr8-4wq2) disponible en [Datos abiertos](https://www.datos.gov.co/)."
      ],
      "metadata": {
        "id": "ftGlUKr598Hd"
      }
    },
    {
      "cell_type": "markdown",
      "source": [
        "### Cargar librerías y obtener información del archivo"
      ],
      "metadata": {
        "id": "8-RXDIiR-BYS"
      }
    },
    {
      "cell_type": "code",
      "source": [
        "# Importar lbrerías requeridas\n",
        "import numpy as np\n",
        "import pandas as pd\n",
        "\n",
        "# Declarar la ruta del archivo\n",
        "ruta_constructores = 'https://raw.githubusercontent.com/gabrielawad/programacion-para-ingenieria\\\n",
        "/refs/heads/main/archivos-datos/pandas/Base_de_datos_empresas_constructoras_Oriente_\\\n",
        "Antioqueno.csv'\n",
        "\n",
        "# Cargar el DataFrame\n",
        "constructores_df = pd.read_csv(ruta_constructores, sep=',')\n",
        "\n",
        "# Verificar la lectura del DataFrame\n",
        "print (constructores_df)"
      ],
      "metadata": {
        "id": "j8VNot04-Lz4"
      },
      "execution_count": null,
      "outputs": []
    },
    {
      "cell_type": "markdown",
      "source": [
        "### Analizar la información del archivo"
      ],
      "metadata": {
        "id": "mJzso013BVif"
      }
    },
    {
      "cell_type": "code",
      "source": [
        "# Encontrar los nommbres de las columnas\n",
        "print(\"Los nombres de las columnas del DataFrame son:\", \\\n",
        "      constructores_df.columns.tolist(), sep = \"\\n\")\n",
        "\n",
        "# Encontrar los nombres de las filas\n",
        "print(\"\\nÍndice de las filas del DataFrame:\\n\", \\\n",
        "      constructores_df.index, sep = \"\\n\")\n",
        "\n",
        "# Verficar los tipos de datos de las columnas\n",
        "print(\"Tipo de datos correspondendiente a las columnas:\", \\\n",
        "      constructores_df.dtypes, sep = \"\\n\")"
      ],
      "metadata": {
        "id": "5eHIc0z9BrQ-"
      },
      "execution_count": null,
      "outputs": []
    },
    {
      "cell_type": "markdown",
      "source": [
        "### Depurar la información del archivo"
      ],
      "metadata": {
        "id": "COASBvrWCfpR"
      }
    },
    {
      "cell_type": "code",
      "source": [
        "# Chequear la forma del DataFrame original\n",
        "print(\"La forma del DataFrame original es:\", constructores_df.shape, sep = \"\\n\")\n",
        "\n",
        "# Chequear si hay columnas con valores NA\n",
        "print(\"\\nReporte de NAs por columnas del DataFrame original:\", \\\n",
        "      constructores_df.isna().sum(), sep = \"\\n\")\n",
        "\n",
        "# Eliminar las filas con valores NA\n",
        "constructores_df_2 = constructores_df.dropna()\n",
        "print(\"\\nReporte de NAs por columnas después de eliminar las filas valores NA:\",\\\n",
        "      constructores_df_2.isna().sum(), sep = \"\\n\")\n",
        "\n",
        "# Chequear la forma del DataFrame después de suprimir las filas con valores NA\n",
        "print(\"La forma del nuevo DataFrame después de suprimir las filas con valores \\\n",
        "NA es:\", constructores_df_2.shape, sep = \"\\n\")\n",
        "\n",
        "# Cambiar los valores NA por 0\n",
        "constructores_df_3 = constructores_df.fillna(value = 0)\n",
        "print(\"\\nReporte de NAs por columnas después de cambiar los valores NA por 0:\",\\\n",
        "      constructores_df_3.isna().sum(), sep = \"\\n\")\n",
        "\n",
        "# Chequear la forma del DataFrame después de cambiar los valores NA por 0\n",
        "print(\"La forma del nuevo DataFrame después de cambiar los valores NA por = \\\n",
        "es:\", constructores_df_3.shape, sep = \"\\n\")"
      ],
      "metadata": {
        "id": "USv3OZxcCqmw"
      },
      "execution_count": null,
      "outputs": []
    },
    {
      "cell_type": "markdown",
      "metadata": {
        "id": "_Z38tLR3tH1d"
      },
      "source": [
        "## Pruebas Saber\n",
        "\n",
        "El taller se basa en el archivo: [Pruebas Saber 11 2016-2](https://docs.google.com/spreadsheets/d/1lSntru6cVY2VPSYoG-M6pDXFUsJMR5eNgd6EtSrakH8/edit#gid=747368693).\n",
        "\n",
        "Puede acceder a los datos con los resultados de las pruebas del ICFES en el siguiente enlace:\n",
        "\n",
        "[Portal ICFES - resultados](https://www.icfes.gov.co/resultados-saber)"
      ]
    },
    {
      "cell_type": "markdown",
      "metadata": {
        "id": "0qzwILCjtYS_"
      },
      "source": [
        "### Cargar librerías y obtener información de archivo"
      ]
    },
    {
      "cell_type": "code",
      "metadata": {
        "id": "G8mmU8tWoPlA"
      },
      "source": [
        "# Importar lbrerías requeridas\n",
        "import numpy as np\n",
        "import pandas as pd\n",
        "import matplotlib.pyplot as plt\n",
        "import openpyxl\n",
        "\n",
        "# Declarar la ruta del archivo\n",
        "ruta_saber = 'https://raw.githubusercontent.com/gabrielawad/programacion-para-ingenieria/refs\\\n",
        "/heads/main/archivos-datos/pandas/saber11_20162.csv'\n",
        "\n",
        "# Cargar el DataFrame\n",
        "saber_df = pd.read_csv(ruta_saber, sep=';', decimal=',')\n",
        "\n",
        "# Verificar la lectura del DataFrame\n",
        "print (saber_df)"
      ],
      "execution_count": null,
      "outputs": []
    },
    {
      "cell_type": "markdown",
      "metadata": {
        "id": "P2sm1lLJ6foZ"
      },
      "source": [
        "### Seleccionar municipio y procesar datos"
      ]
    },
    {
      "cell_type": "code",
      "metadata": {
        "id": "Aj_uixgYtGxP"
      },
      "source": [
        "# Seleccionar el municipio deseado\n",
        "datos = saber_df[saber_df.CODIGOMUNICIPIO == 5001]\n",
        "#datos = saber_df[saber_df.CODIGOMUNICIPIO == 11001]\n",
        "\n",
        "# Seleccionar las columnas requeridas\n",
        "promedios = datos.iloc[:, 9:14]\n",
        "df3 = pd.DataFrame(promedios.values, index=datos['NOMBREINSTITUCION'],\\\n",
        "                   columns=promedios.columns)\n",
        "\n",
        "# Calcular el promedio y graficar\n",
        "promedios = df3.mean(1)\n",
        "promedios = promedios.sort_values(ascending=False)\n",
        "#promedios = promedios.sort_values(ascending=True)\n",
        "promedios[:10].plot(kind='barh')\n",
        "plt.show()"
      ],
      "execution_count": null,
      "outputs": []
    },
    {
      "cell_type": "markdown",
      "metadata": {
        "id": "zrNhfhul6vKn"
      },
      "source": [
        "### Mostrar resultados"
      ]
    },
    {
      "cell_type": "code",
      "metadata": {
        "id": "Vwv6n6X0yGry"
      },
      "source": [
        "# Mostrar los resultados\n",
        "print(promedios[:10])"
      ],
      "execution_count": null,
      "outputs": []
    },
    {
      "cell_type": "markdown",
      "source": [
        "## Produccción de madera en Colombia\n",
        "\n",
        "Aplicación basada en la base de datos sobre [plantaciones forestales comerciales](https://docs.google.com/spreadsheets/d/1zTXJkTzXMant4mMHDarYH9s-62OVBuT_/edit#gid=415198740) disponible en [Datos abiertos](https://www.datos.gov.co/Agricultura-y-Desarrollo-Rural/Base-de-datos-relacionada-con-madera-movilizada-pr/9aan-wm8m)."
      ],
      "metadata": {
        "id": "RsvM9j3h0z6x"
      }
    },
    {
      "cell_type": "markdown",
      "source": [
        "### Cargar librerías y obtener información del archivo"
      ],
      "metadata": {
        "id": "rTZisvee1Uwl"
      }
    },
    {
      "cell_type": "code",
      "source": [
        "# Importar las librerías requeridas\n",
        "import numpy as np\n",
        "import pandas as pd\n",
        "\n",
        "# Declarar la ruta del archivo\n",
        "ruta_maderas ='https://raw.githubusercontent.com/gabrielawad/programacion-para-ingenieria/refs/\\\n",
        "heads/main/archivos-datos/pandas/Madera_plantaciones_forestales_comerciales.xlsx'\n",
        "\n",
        "# Cargar el DataFrame\n",
        "maderas_df = pd.read_excel(ruta_maderas, sheet_name='Produccion')\n",
        "\n",
        "# Verificar la lectura del DataFrame\n",
        "print (maderas_df)"
      ],
      "metadata": {
        "id": "FMrJaUCO1cUe"
      },
      "execution_count": null,
      "outputs": []
    },
    {
      "cell_type": "markdown",
      "source": [
        "### Analizar la información del archivo"
      ],
      "metadata": {
        "id": "pZ33hpgW1c-o"
      }
    },
    {
      "cell_type": "code",
      "source": [
        "# Encontrar los nommbres de las columnas\n",
        "print(\"Los nombres de las columnas del DataFrame son:\", \\\n",
        "      maderas_df.columns.tolist(), sep = \"\\n\")\n",
        "\n",
        "# Encontrar los nombres de las filas\n",
        "print(\"\\nÍndice de las filas del DataFrame:\\n\", maderas_df.index, sep = \"\\n\")\n",
        "\n",
        "# Verficar los tipos de datos de las columnas\n",
        "print(\"Tipo de datos correspondendiente a las columnas:\", \\\n",
        "      maderas_df.dtypes, sep = \"\\n\")\n",
        "\n",
        "# Chequear si hay columnas con valores NA\n",
        "print(\"Reporte de NAs por columnas:\", maderas_df.isna().sum(), sep = \"\\n\")\n",
        "\n",
        "# Seleccionar columnas cuyo tipo de dato es \"object\"\n",
        "print(\"\\nColumnas cuyo tipo de dato es un objeto:\", \\\n",
        "      maderas_df.select_dtypes(include = 'object'), sep = \"\\n\")\n",
        "\n",
        "# Contar valores por columna\n",
        "print(\"Número de veces que aparece cada departamento:\", \\\n",
        "      maderas_df['DPTO'].value_counts(ascending=True), sep = \"\\n\")\n",
        "\n",
        "# identificar valores únicos por columna\n",
        "print(\"Nombres únicos por columna:\", maderas_df['DPTO'].unique(), sep = \"\\n\")\n",
        "\n",
        "# Seleccionar unas columnas\n",
        "maderas_2 = maderas_df[['DPTO', 'MUNICIPIO', 'ESPECIE']]\n",
        "print(\"Departamentos, municipios y especies:\",maderas_2, sep = \"\\n\")\n",
        "\n",
        "# Seleccionar unas filas\n",
        "maderas_3 = maderas_df.iloc[10:16,]\n",
        "print(\"Selección de las filas 10 a 15:\",maderas_3, sep = \"\\n\")\n",
        "\n",
        "# Seleccionar filas y columnas\n",
        "maderas_4 = maderas_df.loc[10:16, ['DPTO', 'MUNICIPIO', 'ESPECIE']]\n",
        "print(\"Selección de filas y columnas:\",maderas_4, sep = \"\\n\")\n",
        "\n",
        "# Filtrar los datos usando una columna\n",
        "maderas_5 = maderas_df[maderas_df['DPTO'] == 'Antioquia']\n",
        "print(\"Datos de Antioquia:\",maderas_5, sep = \"\\n\")\n",
        "\n",
        "# Filtrar datos que cumplan varias condiciones\n",
        "maderas_6 = maderas_df[(maderas_df['DPTO'] == 'Antioquia') & \\\n",
        " (maderas_df['ESPECIE'] == 'Pinus patula')]\n",
        "print(\"Pinus patula en Antioquia:\",maderas_6, sep = \"\\n\")\n",
        "\n",
        "# Filtrar datos con condiciones tipo OR\n",
        "maderas_7 = maderas_df[(maderas_df['DPTO'] == 'Antioquia') | (maderas_df['ESPECIE'] == 'Pinus patula')]\n",
        "print(\"Maderas en Antioquia o Pinus patula:\",maderas_7, sep = \"\\n\")"
      ],
      "metadata": {
        "id": "cobj5K_61Der"
      },
      "execution_count": null,
      "outputs": []
    },
    {
      "cell_type": "markdown",
      "source": [
        "### Acacia mangium en Antioquia\n",
        "\n",
        "Puede consultar más información sobre el método query en: [Uso de Pandas Query para filtrar datos de forma sencilla](https://www.analyticslane.com/2022/05/02/uso-de-pandas-query-para-filtrar-datos-de-forma-sencilla/)"
      ],
      "metadata": {
        "id": "_kYcOdNbZW7V"
      }
    },
    {
      "cell_type": "code",
      "source": [
        "# Seleccionar la información de Acacia mangium en  Antioquia\n",
        "maderas_antioquia = maderas_df.query('DPTO == \"Antioquia\" and\\\n",
        " ESPECIE==\"Acacia mangium\"')\n",
        "\n",
        "# Mostrar Acacia mangium en Antioquia\n",
        "print(\"Madera en Antioquia:\", maderas_antioquia, sep = \"\\n\")"
      ],
      "metadata": {
        "id": "Vjeni28NZchD"
      },
      "execution_count": null,
      "outputs": []
    },
    {
      "cell_type": "markdown",
      "source": [
        "### Resumir la información del DataFrame por grupos"
      ],
      "metadata": {
        "id": "q-IMBlI1HCO6"
      }
    },
    {
      "cell_type": "code",
      "source": [
        "# Resumir la información por grupos\n",
        "maderas_depto_tipo = maderas_df.groupby(['DPTO','TIPO PRODUCTO'], \\\n",
        "                                        as_index=False)['AÑO'].agg('count')\n",
        "print(\"La producción de productos por departamento es:\", \\\n",
        "      maderas_depto_tipo, sep =\"\\n\")\n",
        "\n",
        "# Resumir la información para varios grupos al tiempo\n",
        "maderas_depto_especie_tipo = maderas_df.groupby(['DPTO','ESPECIE',\\\n",
        "                                                 'TIPO PRODUCTO'], as_index=False)['AÑO'].agg('count')\n",
        "print(\"La producción de productos por especie y departamento es:\", \\\n",
        "      maderas_depto_especie_tipo, sep =\"\\n\")"
      ],
      "metadata": {
        "id": "3c7RfQNXHIbg"
      },
      "execution_count": null,
      "outputs": []
    },
    {
      "cell_type": "markdown",
      "source": [
        "### Construir tablas dinámicas"
      ],
      "metadata": {
        "id": "0CfH3BbCe9gT"
      }
    },
    {
      "cell_type": "code",
      "source": [
        "# Construir tablas dinámicas en Pandas\n",
        "td_maderas_1 = maderas_df.pivot_table(index = ['DPTO','ESPECIE','TIPO PRODUCTO'],\n",
        "               values = ['VOLUMEN M3'], aggfunc=['sum','count'])\n",
        "print(td_maderas_1)"
      ],
      "metadata": {
        "id": "LP-oz07IevxX"
      },
      "execution_count": null,
      "outputs": []
    },
    {
      "cell_type": "markdown",
      "source": [
        "# Ejercicios\n",
        "\n",
        "Los siguientes ejercicios deben ser resueltos con ***pandas*** sin utilizar la instrucción **if**,ni ciclos **for** ni **while**.\n",
        "\n",
        "Todos los códigos se deben ajustar al protocolo PEP8.\n",
        "\n",
        "Utilice el archivo [datos_pandas.csv](https://github.com/gabrielawad/programacion-para-ingenieria/tree/main/archivos-datos/pandas)"
      ],
      "metadata": {
        "id": "_I6T-0Jkpd-R"
      }
    },
    {
      "cell_type": "markdown",
      "source": [
        "### 00\n",
        "Convierta todos los datos de la columna nombres al formato Nombre Apellido"
      ],
      "metadata": {
        "id": "0HiJ4TUJsHUz"
      }
    },
    {
      "cell_type": "code",
      "source": [
        "# Resuelva en esta celda el ejercicio 00\n"
      ],
      "metadata": {
        "id": "JyAtRQpAsIuX"
      },
      "execution_count": null,
      "outputs": []
    },
    {
      "cell_type": "markdown",
      "source": [
        "### 01\n",
        "Convierta todas las edades a números enteros"
      ],
      "metadata": {
        "id": "FoyqgvSXs3JR"
      }
    },
    {
      "cell_type": "code",
      "source": [
        "# Resuelva en esta celda el ejercicio 01\n"
      ],
      "metadata": {
        "id": "b164wmJEtGAs"
      },
      "execution_count": null,
      "outputs": []
    },
    {
      "cell_type": "markdown",
      "source": [
        "### 02\n",
        "Verifique que todas las edades están en el rango 21 a 62. Cambie los valores que no estén en ese rango, a 33"
      ],
      "metadata": {
        "id": "vmi5jqp7seu_"
      }
    },
    {
      "cell_type": "code",
      "source": [
        "# Resuelva en esta celda el ejercicio 02\n"
      ],
      "metadata": {
        "id": "nHHGZD7ntnli"
      },
      "execution_count": null,
      "outputs": []
    },
    {
      "cell_type": "markdown",
      "source": [
        "### 03\n",
        "Verifique que todos los correos electrónicos sean direcciones válidas. En caso de que no sea una dirección válida asigne la dirección: miejemplo@sindominio.com"
      ],
      "metadata": {
        "id": "IxTdbSVLtomF"
      }
    },
    {
      "cell_type": "code",
      "source": [
        "# Resuelva en esta celda el ejercicio 03"
      ],
      "metadata": {
        "id": "D2Yfw3Y0udZt"
      },
      "execution_count": null,
      "outputs": []
    },
    {
      "cell_type": "markdown",
      "source": [
        "### 04\n",
        "Si hay valores faltantes en la columna de salario, asigne el valor de 30000"
      ],
      "metadata": {
        "id": "sJATPPA0ujwg"
      }
    },
    {
      "cell_type": "code",
      "source": [
        "# Resuelva en esta celda el ejercicio 04"
      ],
      "metadata": {
        "id": "xgPdVTUPvCm9"
      },
      "execution_count": null,
      "outputs": []
    },
    {
      "cell_type": "markdown",
      "source": [
        "### 05\n",
        "Convierta todas las fechas al mismo formato. Utilice YYYY-MM-DD. En caso de que haya fechas inválidas cámbielas por 2024-12-09"
      ],
      "metadata": {
        "id": "5LMZBQhfueaG"
      }
    },
    {
      "cell_type": "code",
      "source": [
        "# Resuelva en esta celda el ejercicio 05\n"
      ],
      "metadata": {
        "id": "xVQy1QpTvmtG"
      },
      "execution_count": null,
      "outputs": []
    },
    {
      "cell_type": "markdown",
      "source": [
        "### 06\n",
        "En caso de que existan valores negativos en los salarios, reemplácelos por 0."
      ],
      "metadata": {
        "id": "VcyHmpVHvn2G"
      }
    },
    {
      "cell_type": "code",
      "source": [
        "# Resuelva en esta celda el ejercicio 06\n"
      ],
      "metadata": {
        "id": "PL4whSXOwvoJ"
      },
      "execution_count": null,
      "outputs": []
    },
    {
      "cell_type": "markdown",
      "source": [
        "### 07\n",
        "Elimine los nombres repetidos en caso de que existan."
      ],
      "metadata": {
        "id": "id7zHlX5w_O3"
      }
    },
    {
      "cell_type": "code",
      "source": [
        "# Resuelva en esta celda el ejercicio 07\n"
      ],
      "metadata": {
        "id": "Dz-nRIHXx4RF"
      },
      "execution_count": null,
      "outputs": []
    },
    {
      "cell_type": "markdown",
      "source": [
        "### 08\n",
        "Cree una columna con los salarios expresados como un porcentaje del máximo salario"
      ],
      "metadata": {
        "id": "eUSUoWZhx5Tf"
      }
    },
    {
      "cell_type": "code",
      "source": [
        "# Resuelva en esta celda el ejercicio 08\n"
      ],
      "metadata": {
        "id": "MFnm0LSIzg3u"
      },
      "execution_count": null,
      "outputs": []
    },
    {
      "cell_type": "markdown",
      "source": [
        "### 09\n",
        "Elimine los espacios en blanco que existan antes y después de los elementos de la columna nombre. Verifique que entre los elementos que componen cada fila de nombres solo exista un espacio en blanco"
      ],
      "metadata": {
        "id": "q9xv8bvMbv-0"
      }
    },
    {
      "cell_type": "code",
      "source": [
        "# Resuelva en esta celda el ejercicio 09\n"
      ],
      "metadata": {
        "id": "rT87t_7Bb_Sw"
      },
      "execution_count": null,
      "outputs": []
    }
  ]
}